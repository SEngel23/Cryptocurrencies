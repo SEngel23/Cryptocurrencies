{
 "cells": [
  {
   "cell_type": "markdown",
   "metadata": {},
   "source": [
    "# Clustering Crypto"
   ]
  },
  {
   "cell_type": "code",
   "execution_count": 231,
   "metadata": {},
   "outputs": [],
   "source": [
    "# Initial imports\n",
    "import pandas as pd\n",
    "import hvplot.pandas\n",
    "from pathlib import Path\n",
    "import plotly.express as px\n",
    "from sklearn.preprocessing import StandardScaler, MinMaxScaler\n",
    "from sklearn.decomposition import PCA\n",
    "from sklearn.cluster import KMeans\n"
   ]
  },
  {
   "cell_type": "markdown",
   "metadata": {},
   "source": [
    "### Deliverable 1: Preprocessing the Data for PCA"
   ]
  },
  {
   "cell_type": "code",
   "execution_count": 232,
   "metadata": {},
   "outputs": [
    {
     "data": {
      "text/html": [
       "<div>\n",
       "<style scoped>\n",
       "    .dataframe tbody tr th:only-of-type {\n",
       "        vertical-align: middle;\n",
       "    }\n",
       "\n",
       "    .dataframe tbody tr th {\n",
       "        vertical-align: top;\n",
       "    }\n",
       "\n",
       "    .dataframe thead th {\n",
       "        text-align: right;\n",
       "    }\n",
       "</style>\n",
       "<table border=\"1\" class=\"dataframe\">\n",
       "  <thead>\n",
       "    <tr style=\"text-align: right;\">\n",
       "      <th></th>\n",
       "      <th>CoinName</th>\n",
       "      <th>Algorithm</th>\n",
       "      <th>IsTrading</th>\n",
       "      <th>ProofType</th>\n",
       "      <th>TotalCoinsMined</th>\n",
       "      <th>TotalCoinSupply</th>\n",
       "    </tr>\n",
       "  </thead>\n",
       "  <tbody>\n",
       "    <tr>\n",
       "      <th>42</th>\n",
       "      <td>42 Coin</td>\n",
       "      <td>Scrypt</td>\n",
       "      <td>True</td>\n",
       "      <td>PoW/PoS</td>\n",
       "      <td>4.199995e+01</td>\n",
       "      <td>42</td>\n",
       "    </tr>\n",
       "    <tr>\n",
       "      <th>365</th>\n",
       "      <td>365Coin</td>\n",
       "      <td>X11</td>\n",
       "      <td>True</td>\n",
       "      <td>PoW/PoS</td>\n",
       "      <td>NaN</td>\n",
       "      <td>2300000000</td>\n",
       "    </tr>\n",
       "    <tr>\n",
       "      <th>404</th>\n",
       "      <td>404Coin</td>\n",
       "      <td>Scrypt</td>\n",
       "      <td>True</td>\n",
       "      <td>PoW/PoS</td>\n",
       "      <td>1.055185e+09</td>\n",
       "      <td>532000000</td>\n",
       "    </tr>\n",
       "    <tr>\n",
       "      <th>611</th>\n",
       "      <td>SixEleven</td>\n",
       "      <td>SHA-256</td>\n",
       "      <td>True</td>\n",
       "      <td>PoW</td>\n",
       "      <td>NaN</td>\n",
       "      <td>611000</td>\n",
       "    </tr>\n",
       "    <tr>\n",
       "      <th>808</th>\n",
       "      <td>808</td>\n",
       "      <td>SHA-256</td>\n",
       "      <td>True</td>\n",
       "      <td>PoW/PoS</td>\n",
       "      <td>0.000000e+00</td>\n",
       "      <td>0</td>\n",
       "    </tr>\n",
       "  </tbody>\n",
       "</table>\n",
       "</div>"
      ],
      "text/plain": [
       "      CoinName Algorithm  IsTrading ProofType  TotalCoinsMined TotalCoinSupply\n",
       "42     42 Coin    Scrypt       True   PoW/PoS     4.199995e+01              42\n",
       "365    365Coin       X11       True   PoW/PoS              NaN      2300000000\n",
       "404    404Coin    Scrypt       True   PoW/PoS     1.055185e+09       532000000\n",
       "611  SixEleven   SHA-256       True       PoW              NaN          611000\n",
       "808        808   SHA-256       True   PoW/PoS     0.000000e+00               0"
      ]
     },
     "execution_count": 232,
     "metadata": {},
     "output_type": "execute_result"
    }
   ],
   "source": [
    "# Load the crypto_data.csv dataset.\n",
    "file_path = \"resources/crypto_data.csv\"\n",
    "df_crypto = pd.read_csv(file_path, index_col=0)\n",
    "df_crypto.head()"
   ]
  },
  {
   "cell_type": "code",
   "execution_count": 233,
   "metadata": {},
   "outputs": [
    {
     "data": {
      "text/html": [
       "<div>\n",
       "<style scoped>\n",
       "    .dataframe tbody tr th:only-of-type {\n",
       "        vertical-align: middle;\n",
       "    }\n",
       "\n",
       "    .dataframe tbody tr th {\n",
       "        vertical-align: top;\n",
       "    }\n",
       "\n",
       "    .dataframe thead th {\n",
       "        text-align: right;\n",
       "    }\n",
       "</style>\n",
       "<table border=\"1\" class=\"dataframe\">\n",
       "  <thead>\n",
       "    <tr style=\"text-align: right;\">\n",
       "      <th></th>\n",
       "      <th>CoinName</th>\n",
       "      <th>Algorithm</th>\n",
       "      <th>IsTrading</th>\n",
       "      <th>ProofType</th>\n",
       "      <th>TotalCoinsMined</th>\n",
       "      <th>TotalCoinSupply</th>\n",
       "    </tr>\n",
       "  </thead>\n",
       "  <tbody>\n",
       "    <tr>\n",
       "      <th>42</th>\n",
       "      <td>42 Coin</td>\n",
       "      <td>Scrypt</td>\n",
       "      <td>True</td>\n",
       "      <td>PoW/PoS</td>\n",
       "      <td>4.199995e+01</td>\n",
       "      <td>42</td>\n",
       "    </tr>\n",
       "    <tr>\n",
       "      <th>365</th>\n",
       "      <td>365Coin</td>\n",
       "      <td>X11</td>\n",
       "      <td>True</td>\n",
       "      <td>PoW/PoS</td>\n",
       "      <td>NaN</td>\n",
       "      <td>2300000000</td>\n",
       "    </tr>\n",
       "    <tr>\n",
       "      <th>404</th>\n",
       "      <td>404Coin</td>\n",
       "      <td>Scrypt</td>\n",
       "      <td>True</td>\n",
       "      <td>PoW/PoS</td>\n",
       "      <td>1.055185e+09</td>\n",
       "      <td>532000000</td>\n",
       "    </tr>\n",
       "    <tr>\n",
       "      <th>611</th>\n",
       "      <td>SixEleven</td>\n",
       "      <td>SHA-256</td>\n",
       "      <td>True</td>\n",
       "      <td>PoW</td>\n",
       "      <td>NaN</td>\n",
       "      <td>611000</td>\n",
       "    </tr>\n",
       "    <tr>\n",
       "      <th>808</th>\n",
       "      <td>808</td>\n",
       "      <td>SHA-256</td>\n",
       "      <td>True</td>\n",
       "      <td>PoW/PoS</td>\n",
       "      <td>0.000000e+00</td>\n",
       "      <td>0</td>\n",
       "    </tr>\n",
       "  </tbody>\n",
       "</table>\n",
       "</div>"
      ],
      "text/plain": [
       "      CoinName Algorithm  IsTrading ProofType  TotalCoinsMined TotalCoinSupply\n",
       "42     42 Coin    Scrypt       True   PoW/PoS     4.199995e+01              42\n",
       "365    365Coin       X11       True   PoW/PoS              NaN      2300000000\n",
       "404    404Coin    Scrypt       True   PoW/PoS     1.055185e+09       532000000\n",
       "611  SixEleven   SHA-256       True       PoW              NaN          611000\n",
       "808        808   SHA-256       True   PoW/PoS     0.000000e+00               0"
      ]
     },
     "execution_count": 233,
     "metadata": {},
     "output_type": "execute_result"
    }
   ],
   "source": [
    "# Keep all the cryptocurrencies that are being traded.\n",
    "\n",
    "df_crypto = df_crypto.loc[df_crypto[\"IsTrading\"] == True]\n",
    "df_crypto.head()"
   ]
  },
  {
   "cell_type": "code",
   "execution_count": 234,
   "metadata": {},
   "outputs": [
    {
     "data": {
      "text/html": [
       "<div>\n",
       "<style scoped>\n",
       "    .dataframe tbody tr th:only-of-type {\n",
       "        vertical-align: middle;\n",
       "    }\n",
       "\n",
       "    .dataframe tbody tr th {\n",
       "        vertical-align: top;\n",
       "    }\n",
       "\n",
       "    .dataframe thead th {\n",
       "        text-align: right;\n",
       "    }\n",
       "</style>\n",
       "<table border=\"1\" class=\"dataframe\">\n",
       "  <thead>\n",
       "    <tr style=\"text-align: right;\">\n",
       "      <th></th>\n",
       "      <th>CoinName</th>\n",
       "      <th>Algorithm</th>\n",
       "      <th>ProofType</th>\n",
       "      <th>TotalCoinsMined</th>\n",
       "      <th>TotalCoinSupply</th>\n",
       "    </tr>\n",
       "  </thead>\n",
       "  <tbody>\n",
       "    <tr>\n",
       "      <th>42</th>\n",
       "      <td>42 Coin</td>\n",
       "      <td>Scrypt</td>\n",
       "      <td>PoW/PoS</td>\n",
       "      <td>4.199995e+01</td>\n",
       "      <td>42</td>\n",
       "    </tr>\n",
       "    <tr>\n",
       "      <th>365</th>\n",
       "      <td>365Coin</td>\n",
       "      <td>X11</td>\n",
       "      <td>PoW/PoS</td>\n",
       "      <td>NaN</td>\n",
       "      <td>2300000000</td>\n",
       "    </tr>\n",
       "    <tr>\n",
       "      <th>404</th>\n",
       "      <td>404Coin</td>\n",
       "      <td>Scrypt</td>\n",
       "      <td>PoW/PoS</td>\n",
       "      <td>1.055185e+09</td>\n",
       "      <td>532000000</td>\n",
       "    </tr>\n",
       "    <tr>\n",
       "      <th>611</th>\n",
       "      <td>SixEleven</td>\n",
       "      <td>SHA-256</td>\n",
       "      <td>PoW</td>\n",
       "      <td>NaN</td>\n",
       "      <td>611000</td>\n",
       "    </tr>\n",
       "    <tr>\n",
       "      <th>808</th>\n",
       "      <td>808</td>\n",
       "      <td>SHA-256</td>\n",
       "      <td>PoW/PoS</td>\n",
       "      <td>0.000000e+00</td>\n",
       "      <td>0</td>\n",
       "    </tr>\n",
       "  </tbody>\n",
       "</table>\n",
       "</div>"
      ],
      "text/plain": [
       "      CoinName Algorithm ProofType  TotalCoinsMined TotalCoinSupply\n",
       "42     42 Coin    Scrypt   PoW/PoS     4.199995e+01              42\n",
       "365    365Coin       X11   PoW/PoS              NaN      2300000000\n",
       "404    404Coin    Scrypt   PoW/PoS     1.055185e+09       532000000\n",
       "611  SixEleven   SHA-256       PoW              NaN          611000\n",
       "808        808   SHA-256   PoW/PoS     0.000000e+00               0"
      ]
     },
     "execution_count": 234,
     "metadata": {},
     "output_type": "execute_result"
    }
   ],
   "source": [
    "# Remove the \"IsTrading\" column. \n",
    "del df_crypto[\"IsTrading\"]\n",
    "df_crypto.head()"
   ]
  },
  {
   "cell_type": "code",
   "execution_count": 235,
   "metadata": {},
   "outputs": [
    {
     "data": {
      "text/html": [
       "<div>\n",
       "<style scoped>\n",
       "    .dataframe tbody tr th:only-of-type {\n",
       "        vertical-align: middle;\n",
       "    }\n",
       "\n",
       "    .dataframe tbody tr th {\n",
       "        vertical-align: top;\n",
       "    }\n",
       "\n",
       "    .dataframe thead th {\n",
       "        text-align: right;\n",
       "    }\n",
       "</style>\n",
       "<table border=\"1\" class=\"dataframe\">\n",
       "  <thead>\n",
       "    <tr style=\"text-align: right;\">\n",
       "      <th></th>\n",
       "      <th>CoinName</th>\n",
       "      <th>Algorithm</th>\n",
       "      <th>ProofType</th>\n",
       "      <th>TotalCoinsMined</th>\n",
       "      <th>TotalCoinSupply</th>\n",
       "    </tr>\n",
       "  </thead>\n",
       "  <tbody>\n",
       "    <tr>\n",
       "      <th>42</th>\n",
       "      <td>42 Coin</td>\n",
       "      <td>Scrypt</td>\n",
       "      <td>PoW/PoS</td>\n",
       "      <td>4.199995e+01</td>\n",
       "      <td>42</td>\n",
       "    </tr>\n",
       "    <tr>\n",
       "      <th>404</th>\n",
       "      <td>404Coin</td>\n",
       "      <td>Scrypt</td>\n",
       "      <td>PoW/PoS</td>\n",
       "      <td>1.055185e+09</td>\n",
       "      <td>532000000</td>\n",
       "    </tr>\n",
       "    <tr>\n",
       "      <th>808</th>\n",
       "      <td>808</td>\n",
       "      <td>SHA-256</td>\n",
       "      <td>PoW/PoS</td>\n",
       "      <td>0.000000e+00</td>\n",
       "      <td>0</td>\n",
       "    </tr>\n",
       "    <tr>\n",
       "      <th>1337</th>\n",
       "      <td>EliteCoin</td>\n",
       "      <td>X13</td>\n",
       "      <td>PoW/PoS</td>\n",
       "      <td>2.927942e+10</td>\n",
       "      <td>314159265359</td>\n",
       "    </tr>\n",
       "    <tr>\n",
       "      <th>BTC</th>\n",
       "      <td>Bitcoin</td>\n",
       "      <td>SHA-256</td>\n",
       "      <td>PoW</td>\n",
       "      <td>1.792718e+07</td>\n",
       "      <td>21000000</td>\n",
       "    </tr>\n",
       "    <tr>\n",
       "      <th>...</th>\n",
       "      <td>...</td>\n",
       "      <td>...</td>\n",
       "      <td>...</td>\n",
       "      <td>...</td>\n",
       "      <td>...</td>\n",
       "    </tr>\n",
       "    <tr>\n",
       "      <th>ZEPH</th>\n",
       "      <td>ZEPHYR</td>\n",
       "      <td>SHA-256</td>\n",
       "      <td>DPoS</td>\n",
       "      <td>2.000000e+09</td>\n",
       "      <td>2000000000</td>\n",
       "    </tr>\n",
       "    <tr>\n",
       "      <th>GAP</th>\n",
       "      <td>Gapcoin</td>\n",
       "      <td>Scrypt</td>\n",
       "      <td>PoW/PoS</td>\n",
       "      <td>1.493105e+07</td>\n",
       "      <td>250000000</td>\n",
       "    </tr>\n",
       "    <tr>\n",
       "      <th>BDX</th>\n",
       "      <td>Beldex</td>\n",
       "      <td>CryptoNight</td>\n",
       "      <td>PoW</td>\n",
       "      <td>9.802226e+08</td>\n",
       "      <td>1400222610</td>\n",
       "    </tr>\n",
       "    <tr>\n",
       "      <th>ZEN</th>\n",
       "      <td>Horizen</td>\n",
       "      <td>Equihash</td>\n",
       "      <td>PoW</td>\n",
       "      <td>7.296538e+06</td>\n",
       "      <td>21000000</td>\n",
       "    </tr>\n",
       "    <tr>\n",
       "      <th>XBC</th>\n",
       "      <td>BitcoinPlus</td>\n",
       "      <td>Scrypt</td>\n",
       "      <td>PoS</td>\n",
       "      <td>1.283270e+05</td>\n",
       "      <td>1000000</td>\n",
       "    </tr>\n",
       "  </tbody>\n",
       "</table>\n",
       "<p>685 rows × 5 columns</p>\n",
       "</div>"
      ],
      "text/plain": [
       "         CoinName    Algorithm ProofType  TotalCoinsMined TotalCoinSupply\n",
       "42        42 Coin       Scrypt   PoW/PoS     4.199995e+01              42\n",
       "404       404Coin       Scrypt   PoW/PoS     1.055185e+09       532000000\n",
       "808           808      SHA-256   PoW/PoS     0.000000e+00               0\n",
       "1337    EliteCoin          X13   PoW/PoS     2.927942e+10    314159265359\n",
       "BTC       Bitcoin      SHA-256       PoW     1.792718e+07        21000000\n",
       "...           ...          ...       ...              ...             ...\n",
       "ZEPH       ZEPHYR      SHA-256      DPoS     2.000000e+09      2000000000\n",
       "GAP       Gapcoin       Scrypt   PoW/PoS     1.493105e+07       250000000\n",
       "BDX        Beldex  CryptoNight       PoW     9.802226e+08      1400222610\n",
       "ZEN       Horizen     Equihash       PoW     7.296538e+06        21000000\n",
       "XBC   BitcoinPlus       Scrypt       PoS     1.283270e+05         1000000\n",
       "\n",
       "[685 rows x 5 columns]"
      ]
     },
     "execution_count": 235,
     "metadata": {},
     "output_type": "execute_result"
    }
   ],
   "source": [
    "# Remove rows that have at least 1 null value.\n",
    "df_crypto = df_crypto.dropna()\n",
    "df_crypto"
   ]
  },
  {
   "cell_type": "code",
   "execution_count": 236,
   "metadata": {},
   "outputs": [
    {
     "data": {
      "text/html": [
       "<div>\n",
       "<style scoped>\n",
       "    .dataframe tbody tr th:only-of-type {\n",
       "        vertical-align: middle;\n",
       "    }\n",
       "\n",
       "    .dataframe tbody tr th {\n",
       "        vertical-align: top;\n",
       "    }\n",
       "\n",
       "    .dataframe thead th {\n",
       "        text-align: right;\n",
       "    }\n",
       "</style>\n",
       "<table border=\"1\" class=\"dataframe\">\n",
       "  <thead>\n",
       "    <tr style=\"text-align: right;\">\n",
       "      <th></th>\n",
       "      <th>CoinName</th>\n",
       "      <th>Algorithm</th>\n",
       "      <th>ProofType</th>\n",
       "      <th>TotalCoinsMined</th>\n",
       "      <th>TotalCoinSupply</th>\n",
       "    </tr>\n",
       "  </thead>\n",
       "  <tbody>\n",
       "    <tr>\n",
       "      <th>42</th>\n",
       "      <td>42 Coin</td>\n",
       "      <td>Scrypt</td>\n",
       "      <td>PoW/PoS</td>\n",
       "      <td>4.199995e+01</td>\n",
       "      <td>42</td>\n",
       "    </tr>\n",
       "    <tr>\n",
       "      <th>404</th>\n",
       "      <td>404Coin</td>\n",
       "      <td>Scrypt</td>\n",
       "      <td>PoW/PoS</td>\n",
       "      <td>1.055185e+09</td>\n",
       "      <td>532000000</td>\n",
       "    </tr>\n",
       "    <tr>\n",
       "      <th>1337</th>\n",
       "      <td>EliteCoin</td>\n",
       "      <td>X13</td>\n",
       "      <td>PoW/PoS</td>\n",
       "      <td>2.927942e+10</td>\n",
       "      <td>314159265359</td>\n",
       "    </tr>\n",
       "    <tr>\n",
       "      <th>BTC</th>\n",
       "      <td>Bitcoin</td>\n",
       "      <td>SHA-256</td>\n",
       "      <td>PoW</td>\n",
       "      <td>1.792718e+07</td>\n",
       "      <td>21000000</td>\n",
       "    </tr>\n",
       "    <tr>\n",
       "      <th>ETH</th>\n",
       "      <td>Ethereum</td>\n",
       "      <td>Ethash</td>\n",
       "      <td>PoW</td>\n",
       "      <td>1.076842e+08</td>\n",
       "      <td>0</td>\n",
       "    </tr>\n",
       "    <tr>\n",
       "      <th>...</th>\n",
       "      <td>...</td>\n",
       "      <td>...</td>\n",
       "      <td>...</td>\n",
       "      <td>...</td>\n",
       "      <td>...</td>\n",
       "    </tr>\n",
       "    <tr>\n",
       "      <th>ZEPH</th>\n",
       "      <td>ZEPHYR</td>\n",
       "      <td>SHA-256</td>\n",
       "      <td>DPoS</td>\n",
       "      <td>2.000000e+09</td>\n",
       "      <td>2000000000</td>\n",
       "    </tr>\n",
       "    <tr>\n",
       "      <th>GAP</th>\n",
       "      <td>Gapcoin</td>\n",
       "      <td>Scrypt</td>\n",
       "      <td>PoW/PoS</td>\n",
       "      <td>1.493105e+07</td>\n",
       "      <td>250000000</td>\n",
       "    </tr>\n",
       "    <tr>\n",
       "      <th>BDX</th>\n",
       "      <td>Beldex</td>\n",
       "      <td>CryptoNight</td>\n",
       "      <td>PoW</td>\n",
       "      <td>9.802226e+08</td>\n",
       "      <td>1400222610</td>\n",
       "    </tr>\n",
       "    <tr>\n",
       "      <th>ZEN</th>\n",
       "      <td>Horizen</td>\n",
       "      <td>Equihash</td>\n",
       "      <td>PoW</td>\n",
       "      <td>7.296538e+06</td>\n",
       "      <td>21000000</td>\n",
       "    </tr>\n",
       "    <tr>\n",
       "      <th>XBC</th>\n",
       "      <td>BitcoinPlus</td>\n",
       "      <td>Scrypt</td>\n",
       "      <td>PoS</td>\n",
       "      <td>1.283270e+05</td>\n",
       "      <td>1000000</td>\n",
       "    </tr>\n",
       "  </tbody>\n",
       "</table>\n",
       "<p>532 rows × 5 columns</p>\n",
       "</div>"
      ],
      "text/plain": [
       "         CoinName    Algorithm ProofType  TotalCoinsMined TotalCoinSupply\n",
       "42        42 Coin       Scrypt   PoW/PoS     4.199995e+01              42\n",
       "404       404Coin       Scrypt   PoW/PoS     1.055185e+09       532000000\n",
       "1337    EliteCoin          X13   PoW/PoS     2.927942e+10    314159265359\n",
       "BTC       Bitcoin      SHA-256       PoW     1.792718e+07        21000000\n",
       "ETH      Ethereum       Ethash       PoW     1.076842e+08               0\n",
       "...           ...          ...       ...              ...             ...\n",
       "ZEPH       ZEPHYR      SHA-256      DPoS     2.000000e+09      2000000000\n",
       "GAP       Gapcoin       Scrypt   PoW/PoS     1.493105e+07       250000000\n",
       "BDX        Beldex  CryptoNight       PoW     9.802226e+08      1400222610\n",
       "ZEN       Horizen     Equihash       PoW     7.296538e+06        21000000\n",
       "XBC   BitcoinPlus       Scrypt       PoS     1.283270e+05         1000000\n",
       "\n",
       "[532 rows x 5 columns]"
      ]
     },
     "execution_count": 236,
     "metadata": {},
     "output_type": "execute_result"
    }
   ],
   "source": [
    "# Keep the rows where coins are mined.\n",
    "filtered_crypto_df = df_crypto.loc[df_crypto[\"TotalCoinsMined\"] > 0]\n",
    "filtered_crypto_df"
   ]
  },
  {
   "cell_type": "code",
   "execution_count": 237,
   "metadata": {},
   "outputs": [
    {
     "data": {
      "text/html": [
       "<div>\n",
       "<style scoped>\n",
       "    .dataframe tbody tr th:only-of-type {\n",
       "        vertical-align: middle;\n",
       "    }\n",
       "\n",
       "    .dataframe tbody tr th {\n",
       "        vertical-align: top;\n",
       "    }\n",
       "\n",
       "    .dataframe thead th {\n",
       "        text-align: right;\n",
       "    }\n",
       "</style>\n",
       "<table border=\"1\" class=\"dataframe\">\n",
       "  <thead>\n",
       "    <tr style=\"text-align: right;\">\n",
       "      <th></th>\n",
       "      <th>CoinName</th>\n",
       "    </tr>\n",
       "  </thead>\n",
       "  <tbody>\n",
       "    <tr>\n",
       "      <th>42</th>\n",
       "      <td>42 Coin</td>\n",
       "    </tr>\n",
       "    <tr>\n",
       "      <th>404</th>\n",
       "      <td>404Coin</td>\n",
       "    </tr>\n",
       "    <tr>\n",
       "      <th>1337</th>\n",
       "      <td>EliteCoin</td>\n",
       "    </tr>\n",
       "    <tr>\n",
       "      <th>BTC</th>\n",
       "      <td>Bitcoin</td>\n",
       "    </tr>\n",
       "    <tr>\n",
       "      <th>ETH</th>\n",
       "      <td>Ethereum</td>\n",
       "    </tr>\n",
       "    <tr>\n",
       "      <th>...</th>\n",
       "      <td>...</td>\n",
       "    </tr>\n",
       "    <tr>\n",
       "      <th>ZEPH</th>\n",
       "      <td>ZEPHYR</td>\n",
       "    </tr>\n",
       "    <tr>\n",
       "      <th>GAP</th>\n",
       "      <td>Gapcoin</td>\n",
       "    </tr>\n",
       "    <tr>\n",
       "      <th>BDX</th>\n",
       "      <td>Beldex</td>\n",
       "    </tr>\n",
       "    <tr>\n",
       "      <th>ZEN</th>\n",
       "      <td>Horizen</td>\n",
       "    </tr>\n",
       "    <tr>\n",
       "      <th>XBC</th>\n",
       "      <td>BitcoinPlus</td>\n",
       "    </tr>\n",
       "  </tbody>\n",
       "</table>\n",
       "<p>532 rows × 1 columns</p>\n",
       "</div>"
      ],
      "text/plain": [
       "         CoinName\n",
       "42        42 Coin\n",
       "404       404Coin\n",
       "1337    EliteCoin\n",
       "BTC       Bitcoin\n",
       "ETH      Ethereum\n",
       "...           ...\n",
       "ZEPH       ZEPHYR\n",
       "GAP       Gapcoin\n",
       "BDX        Beldex\n",
       "ZEN       Horizen\n",
       "XBC   BitcoinPlus\n",
       "\n",
       "[532 rows x 1 columns]"
      ]
     },
     "execution_count": 237,
     "metadata": {},
     "output_type": "execute_result"
    }
   ],
   "source": [
    "# Create a new DataFrame that holds only the cryptocurrencies names.\n",
    "crypto_names_df = pd.DataFrame(filtered_crypto_df[\"CoinName\"])\n",
    "crypto_names_df"
   ]
  },
  {
   "cell_type": "code",
   "execution_count": 238,
   "metadata": {},
   "outputs": [
    {
     "name": "stderr",
     "output_type": "stream",
     "text": [
      "c:\\Users\\seana\\anaconda3\\envs\\PythonData\\lib\\site-packages\\pandas\\core\\frame.py:4913: SettingWithCopyWarning:\n",
      "\n",
      "\n",
      "A value is trying to be set on a copy of a slice from a DataFrame\n",
      "\n",
      "See the caveats in the documentation: https://pandas.pydata.org/pandas-docs/stable/user_guide/indexing.html#returning-a-view-versus-a-copy\n",
      "\n"
     ]
    },
    {
     "data": {
      "text/html": [
       "<div>\n",
       "<style scoped>\n",
       "    .dataframe tbody tr th:only-of-type {\n",
       "        vertical-align: middle;\n",
       "    }\n",
       "\n",
       "    .dataframe tbody tr th {\n",
       "        vertical-align: top;\n",
       "    }\n",
       "\n",
       "    .dataframe thead th {\n",
       "        text-align: right;\n",
       "    }\n",
       "</style>\n",
       "<table border=\"1\" class=\"dataframe\">\n",
       "  <thead>\n",
       "    <tr style=\"text-align: right;\">\n",
       "      <th></th>\n",
       "      <th>Algorithm</th>\n",
       "      <th>ProofType</th>\n",
       "      <th>TotalCoinsMined</th>\n",
       "      <th>TotalCoinSupply</th>\n",
       "    </tr>\n",
       "  </thead>\n",
       "  <tbody>\n",
       "    <tr>\n",
       "      <th>42</th>\n",
       "      <td>Scrypt</td>\n",
       "      <td>PoW/PoS</td>\n",
       "      <td>4.199995e+01</td>\n",
       "      <td>42</td>\n",
       "    </tr>\n",
       "    <tr>\n",
       "      <th>404</th>\n",
       "      <td>Scrypt</td>\n",
       "      <td>PoW/PoS</td>\n",
       "      <td>1.055185e+09</td>\n",
       "      <td>532000000</td>\n",
       "    </tr>\n",
       "    <tr>\n",
       "      <th>1337</th>\n",
       "      <td>X13</td>\n",
       "      <td>PoW/PoS</td>\n",
       "      <td>2.927942e+10</td>\n",
       "      <td>314159265359</td>\n",
       "    </tr>\n",
       "    <tr>\n",
       "      <th>BTC</th>\n",
       "      <td>SHA-256</td>\n",
       "      <td>PoW</td>\n",
       "      <td>1.792718e+07</td>\n",
       "      <td>21000000</td>\n",
       "    </tr>\n",
       "    <tr>\n",
       "      <th>ETH</th>\n",
       "      <td>Ethash</td>\n",
       "      <td>PoW</td>\n",
       "      <td>1.076842e+08</td>\n",
       "      <td>0</td>\n",
       "    </tr>\n",
       "  </tbody>\n",
       "</table>\n",
       "</div>"
      ],
      "text/plain": [
       "     Algorithm ProofType  TotalCoinsMined TotalCoinSupply\n",
       "42      Scrypt   PoW/PoS     4.199995e+01              42\n",
       "404     Scrypt   PoW/PoS     1.055185e+09       532000000\n",
       "1337       X13   PoW/PoS     2.927942e+10    314159265359\n",
       "BTC    SHA-256       PoW     1.792718e+07        21000000\n",
       "ETH     Ethash       PoW     1.076842e+08               0"
      ]
     },
     "execution_count": 238,
     "metadata": {},
     "output_type": "execute_result"
    }
   ],
   "source": [
    "# Drop the 'CoinName' column since it's not going to be used on the clustering algorithm.\n",
    "filtered_crypto_df.drop(columns=[\"CoinName\"], inplace=True)\n",
    "filtered_crypto_df.head()"
   ]
  },
  {
   "cell_type": "code",
   "execution_count": 239,
   "metadata": {},
   "outputs": [
    {
     "data": {
      "text/html": [
       "<div>\n",
       "<style scoped>\n",
       "    .dataframe tbody tr th:only-of-type {\n",
       "        vertical-align: middle;\n",
       "    }\n",
       "\n",
       "    .dataframe tbody tr th {\n",
       "        vertical-align: top;\n",
       "    }\n",
       "\n",
       "    .dataframe thead th {\n",
       "        text-align: right;\n",
       "    }\n",
       "</style>\n",
       "<table border=\"1\" class=\"dataframe\">\n",
       "  <thead>\n",
       "    <tr style=\"text-align: right;\">\n",
       "      <th></th>\n",
       "      <th>TotalCoinsMined</th>\n",
       "      <th>TotalCoinSupply</th>\n",
       "      <th>Algorithm_1GB AES Pattern Search</th>\n",
       "      <th>Algorithm_536</th>\n",
       "      <th>Algorithm_Argon2d</th>\n",
       "      <th>Algorithm_BLAKE256</th>\n",
       "      <th>Algorithm_Blake</th>\n",
       "      <th>Algorithm_Blake2S</th>\n",
       "      <th>Algorithm_Blake2b</th>\n",
       "      <th>Algorithm_C11</th>\n",
       "      <th>...</th>\n",
       "      <th>ProofType_PoW/PoS</th>\n",
       "      <th>ProofType_PoW/PoS</th>\n",
       "      <th>ProofType_PoW/PoW</th>\n",
       "      <th>ProofType_PoW/nPoS</th>\n",
       "      <th>ProofType_Pos</th>\n",
       "      <th>ProofType_Proof of Authority</th>\n",
       "      <th>ProofType_Proof of Trust</th>\n",
       "      <th>ProofType_TPoS</th>\n",
       "      <th>ProofType_Zero-Knowledge Proof</th>\n",
       "      <th>ProofType_dPoW/PoW</th>\n",
       "    </tr>\n",
       "  </thead>\n",
       "  <tbody>\n",
       "    <tr>\n",
       "      <th>42</th>\n",
       "      <td>4.199995e+01</td>\n",
       "      <td>42</td>\n",
       "      <td>0.0</td>\n",
       "      <td>0.0</td>\n",
       "      <td>0.0</td>\n",
       "      <td>0.0</td>\n",
       "      <td>0.0</td>\n",
       "      <td>0.0</td>\n",
       "      <td>0.0</td>\n",
       "      <td>0.0</td>\n",
       "      <td>...</td>\n",
       "      <td>1.0</td>\n",
       "      <td>0.0</td>\n",
       "      <td>0.0</td>\n",
       "      <td>0.0</td>\n",
       "      <td>0.0</td>\n",
       "      <td>0.0</td>\n",
       "      <td>0.0</td>\n",
       "      <td>0.0</td>\n",
       "      <td>0.0</td>\n",
       "      <td>0.0</td>\n",
       "    </tr>\n",
       "    <tr>\n",
       "      <th>404</th>\n",
       "      <td>1.055185e+09</td>\n",
       "      <td>532000000</td>\n",
       "      <td>0.0</td>\n",
       "      <td>0.0</td>\n",
       "      <td>0.0</td>\n",
       "      <td>0.0</td>\n",
       "      <td>0.0</td>\n",
       "      <td>0.0</td>\n",
       "      <td>0.0</td>\n",
       "      <td>0.0</td>\n",
       "      <td>...</td>\n",
       "      <td>1.0</td>\n",
       "      <td>0.0</td>\n",
       "      <td>0.0</td>\n",
       "      <td>0.0</td>\n",
       "      <td>0.0</td>\n",
       "      <td>0.0</td>\n",
       "      <td>0.0</td>\n",
       "      <td>0.0</td>\n",
       "      <td>0.0</td>\n",
       "      <td>0.0</td>\n",
       "    </tr>\n",
       "    <tr>\n",
       "      <th>1337</th>\n",
       "      <td>2.927942e+10</td>\n",
       "      <td>314159265359</td>\n",
       "      <td>0.0</td>\n",
       "      <td>0.0</td>\n",
       "      <td>0.0</td>\n",
       "      <td>0.0</td>\n",
       "      <td>0.0</td>\n",
       "      <td>0.0</td>\n",
       "      <td>0.0</td>\n",
       "      <td>0.0</td>\n",
       "      <td>...</td>\n",
       "      <td>1.0</td>\n",
       "      <td>0.0</td>\n",
       "      <td>0.0</td>\n",
       "      <td>0.0</td>\n",
       "      <td>0.0</td>\n",
       "      <td>0.0</td>\n",
       "      <td>0.0</td>\n",
       "      <td>0.0</td>\n",
       "      <td>0.0</td>\n",
       "      <td>0.0</td>\n",
       "    </tr>\n",
       "    <tr>\n",
       "      <th>BTC</th>\n",
       "      <td>1.792718e+07</td>\n",
       "      <td>21000000</td>\n",
       "      <td>0.0</td>\n",
       "      <td>0.0</td>\n",
       "      <td>0.0</td>\n",
       "      <td>0.0</td>\n",
       "      <td>0.0</td>\n",
       "      <td>0.0</td>\n",
       "      <td>0.0</td>\n",
       "      <td>0.0</td>\n",
       "      <td>...</td>\n",
       "      <td>0.0</td>\n",
       "      <td>0.0</td>\n",
       "      <td>0.0</td>\n",
       "      <td>0.0</td>\n",
       "      <td>0.0</td>\n",
       "      <td>0.0</td>\n",
       "      <td>0.0</td>\n",
       "      <td>0.0</td>\n",
       "      <td>0.0</td>\n",
       "      <td>0.0</td>\n",
       "    </tr>\n",
       "    <tr>\n",
       "      <th>ETH</th>\n",
       "      <td>1.076842e+08</td>\n",
       "      <td>0</td>\n",
       "      <td>0.0</td>\n",
       "      <td>0.0</td>\n",
       "      <td>0.0</td>\n",
       "      <td>0.0</td>\n",
       "      <td>0.0</td>\n",
       "      <td>0.0</td>\n",
       "      <td>0.0</td>\n",
       "      <td>0.0</td>\n",
       "      <td>...</td>\n",
       "      <td>0.0</td>\n",
       "      <td>0.0</td>\n",
       "      <td>0.0</td>\n",
       "      <td>0.0</td>\n",
       "      <td>0.0</td>\n",
       "      <td>0.0</td>\n",
       "      <td>0.0</td>\n",
       "      <td>0.0</td>\n",
       "      <td>0.0</td>\n",
       "      <td>0.0</td>\n",
       "    </tr>\n",
       "  </tbody>\n",
       "</table>\n",
       "<p>5 rows × 98 columns</p>\n",
       "</div>"
      ],
      "text/plain": [
       "      TotalCoinsMined TotalCoinSupply  Algorithm_1GB AES Pattern Search  \\\n",
       "42       4.199995e+01              42                               0.0   \n",
       "404      1.055185e+09       532000000                               0.0   \n",
       "1337     2.927942e+10    314159265359                               0.0   \n",
       "BTC      1.792718e+07        21000000                               0.0   \n",
       "ETH      1.076842e+08               0                               0.0   \n",
       "\n",
       "      Algorithm_536  Algorithm_Argon2d  Algorithm_BLAKE256  Algorithm_Blake  \\\n",
       "42              0.0                0.0                 0.0              0.0   \n",
       "404             0.0                0.0                 0.0              0.0   \n",
       "1337            0.0                0.0                 0.0              0.0   \n",
       "BTC             0.0                0.0                 0.0              0.0   \n",
       "ETH             0.0                0.0                 0.0              0.0   \n",
       "\n",
       "      Algorithm_Blake2S  Algorithm_Blake2b  Algorithm_C11  ...  \\\n",
       "42                  0.0                0.0            0.0  ...   \n",
       "404                 0.0                0.0            0.0  ...   \n",
       "1337                0.0                0.0            0.0  ...   \n",
       "BTC                 0.0                0.0            0.0  ...   \n",
       "ETH                 0.0                0.0            0.0  ...   \n",
       "\n",
       "      ProofType_PoW/PoS  ProofType_PoW/PoS   ProofType_PoW/PoW  \\\n",
       "42                  1.0                 0.0                0.0   \n",
       "404                 1.0                 0.0                0.0   \n",
       "1337                1.0                 0.0                0.0   \n",
       "BTC                 0.0                 0.0                0.0   \n",
       "ETH                 0.0                 0.0                0.0   \n",
       "\n",
       "      ProofType_PoW/nPoS  ProofType_Pos  ProofType_Proof of Authority  \\\n",
       "42                   0.0            0.0                           0.0   \n",
       "404                  0.0            0.0                           0.0   \n",
       "1337                 0.0            0.0                           0.0   \n",
       "BTC                  0.0            0.0                           0.0   \n",
       "ETH                  0.0            0.0                           0.0   \n",
       "\n",
       "      ProofType_Proof of Trust  ProofType_TPoS  \\\n",
       "42                         0.0             0.0   \n",
       "404                        0.0             0.0   \n",
       "1337                       0.0             0.0   \n",
       "BTC                        0.0             0.0   \n",
       "ETH                        0.0             0.0   \n",
       "\n",
       "      ProofType_Zero-Knowledge Proof  ProofType_dPoW/PoW  \n",
       "42                               0.0                 0.0  \n",
       "404                              0.0                 0.0  \n",
       "1337                             0.0                 0.0  \n",
       "BTC                              0.0                 0.0  \n",
       "ETH                              0.0                 0.0  \n",
       "\n",
       "[5 rows x 98 columns]"
      ]
     },
     "execution_count": 239,
     "metadata": {},
     "output_type": "execute_result"
    }
   ],
   "source": [
    "# Use get_dummies() to create variables for text features.\n",
    "crypto_encoded = pd.get_dummies(filtered_crypto_df, columns=[\"Algorithm\", \"ProofType\"], dtype=float)\n",
    "crypto_encoded.head()"
   ]
  },
  {
   "cell_type": "code",
   "execution_count": 240,
   "metadata": {},
   "outputs": [
    {
     "data": {
      "text/plain": [
       "array([[-0.11710817, -0.1528703 , -0.0433963 , -0.0433963 , -0.0433963 ,\n",
       "        -0.06142951, -0.07530656, -0.0433963 , -0.06142951, -0.06142951,\n",
       "        -0.0433963 , -0.0433963 , -0.19245009, -0.06142951, -0.09740465,\n",
       "        -0.0433963 , -0.11547005, -0.07530656, -0.0433963 , -0.0433963 ,\n",
       "        -0.15191091, -0.0433963 , -0.13118084, -0.0433963 , -0.0433963 ,\n",
       "        -0.08703883, -0.0433963 , -0.0433963 , -0.0433963 , -0.0433963 ,\n",
       "        -0.06142951, -0.0433963 , -0.08703883, -0.08703883, -0.08703883,\n",
       "        -0.0433963 , -0.13118084, -0.13840913, -0.13840913, -0.0433963 ,\n",
       "        -0.06142951, -0.0433963 , -0.07530656, -0.18168574, -0.0433963 ,\n",
       "        -0.0433963 , -0.0433963 , -0.07530656, -0.15826614, -0.31491833,\n",
       "        -0.0433963 , -0.08703883, -0.07530656, -0.06142951,  1.38675049,\n",
       "        -0.0433963 , -0.0433963 , -0.06142951, -0.0433963 , -0.0433963 ,\n",
       "        -0.0433963 , -0.0433963 , -0.0433963 , -0.0433963 , -0.0433963 ,\n",
       "        -0.0433963 , -0.39879994, -0.0433963 , -0.18168574, -0.0433963 ,\n",
       "        -0.08703883, -0.08703883, -0.10680283, -0.0433963 , -0.13118084,\n",
       "        -0.0433963 , -0.0433963 , -0.0433963 , -0.0433963 , -0.07530656,\n",
       "        -0.43911856, -0.0433963 , -0.06142951, -0.0433963 , -0.0433963 ,\n",
       "        -0.89632016, -0.0433963 , -0.0433963 ,  1.42222617, -0.0433963 ,\n",
       "        -0.0433963 , -0.0433963 , -0.0433963 , -0.0433963 , -0.0433963 ,\n",
       "        -0.0433963 , -0.0433963 , -0.0433963 ],\n",
       "       [-0.09396955, -0.145009  , -0.0433963 , -0.0433963 , -0.0433963 ,\n",
       "        -0.06142951, -0.07530656, -0.0433963 , -0.06142951, -0.06142951,\n",
       "        -0.0433963 , -0.0433963 , -0.19245009, -0.06142951, -0.09740465,\n",
       "        -0.0433963 , -0.11547005, -0.07530656, -0.0433963 , -0.0433963 ,\n",
       "        -0.15191091, -0.0433963 , -0.13118084, -0.0433963 , -0.0433963 ,\n",
       "        -0.08703883, -0.0433963 , -0.0433963 , -0.0433963 , -0.0433963 ,\n",
       "        -0.06142951, -0.0433963 , -0.08703883, -0.08703883, -0.08703883,\n",
       "        -0.0433963 , -0.13118084, -0.13840913, -0.13840913, -0.0433963 ,\n",
       "        -0.06142951, -0.0433963 , -0.07530656, -0.18168574, -0.0433963 ,\n",
       "        -0.0433963 , -0.0433963 , -0.07530656, -0.15826614, -0.31491833,\n",
       "        -0.0433963 , -0.08703883, -0.07530656, -0.06142951,  1.38675049,\n",
       "        -0.0433963 , -0.0433963 , -0.06142951, -0.0433963 , -0.0433963 ,\n",
       "        -0.0433963 , -0.0433963 , -0.0433963 , -0.0433963 , -0.0433963 ,\n",
       "        -0.0433963 , -0.39879994, -0.0433963 , -0.18168574, -0.0433963 ,\n",
       "        -0.08703883, -0.08703883, -0.10680283, -0.0433963 , -0.13118084,\n",
       "        -0.0433963 , -0.0433963 , -0.0433963 , -0.0433963 , -0.07530656,\n",
       "        -0.43911856, -0.0433963 , -0.06142951, -0.0433963 , -0.0433963 ,\n",
       "        -0.89632016, -0.0433963 , -0.0433963 ,  1.42222617, -0.0433963 ,\n",
       "        -0.0433963 , -0.0433963 , -0.0433963 , -0.0433963 , -0.0433963 ,\n",
       "        -0.0433963 , -0.0433963 , -0.0433963 ],\n",
       "       [ 0.52494561,  4.48942416, -0.0433963 , -0.0433963 , -0.0433963 ,\n",
       "        -0.06142951, -0.07530656, -0.0433963 , -0.06142951, -0.06142951,\n",
       "        -0.0433963 , -0.0433963 , -0.19245009, -0.06142951, -0.09740465,\n",
       "        -0.0433963 , -0.11547005, -0.07530656, -0.0433963 , -0.0433963 ,\n",
       "        -0.15191091, -0.0433963 , -0.13118084, -0.0433963 , -0.0433963 ,\n",
       "        -0.08703883, -0.0433963 , -0.0433963 , -0.0433963 , -0.0433963 ,\n",
       "        -0.06142951, -0.0433963 , -0.08703883, -0.08703883, -0.08703883,\n",
       "        -0.0433963 , -0.13118084, -0.13840913, -0.13840913, -0.0433963 ,\n",
       "        -0.06142951, -0.0433963 , -0.07530656, -0.18168574, -0.0433963 ,\n",
       "        -0.0433963 , -0.0433963 , -0.07530656, -0.15826614, -0.31491833,\n",
       "        -0.0433963 , -0.08703883, -0.07530656, -0.06142951, -0.72111026,\n",
       "        -0.0433963 , -0.0433963 , -0.06142951, -0.0433963 , -0.0433963 ,\n",
       "        -0.0433963 , -0.0433963 , -0.0433963 , -0.0433963 , -0.0433963 ,\n",
       "        -0.0433963 , -0.39879994, -0.0433963 ,  5.50400923, -0.0433963 ,\n",
       "        -0.08703883, -0.08703883, -0.10680283, -0.0433963 , -0.13118084,\n",
       "        -0.0433963 , -0.0433963 , -0.0433963 , -0.0433963 , -0.07530656,\n",
       "        -0.43911856, -0.0433963 , -0.06142951, -0.0433963 , -0.0433963 ,\n",
       "        -0.89632016, -0.0433963 , -0.0433963 ,  1.42222617, -0.0433963 ,\n",
       "        -0.0433963 , -0.0433963 , -0.0433963 , -0.0433963 , -0.0433963 ,\n",
       "        -0.0433963 , -0.0433963 , -0.0433963 ],\n",
       "       [-0.11671506, -0.15255998, -0.0433963 , -0.0433963 , -0.0433963 ,\n",
       "        -0.06142951, -0.07530656, -0.0433963 , -0.06142951, -0.06142951,\n",
       "        -0.0433963 , -0.0433963 , -0.19245009, -0.06142951, -0.09740465,\n",
       "        -0.0433963 , -0.11547005, -0.07530656, -0.0433963 , -0.0433963 ,\n",
       "        -0.15191091, -0.0433963 , -0.13118084, -0.0433963 , -0.0433963 ,\n",
       "        -0.08703883, -0.0433963 , -0.0433963 , -0.0433963 , -0.0433963 ,\n",
       "        -0.06142951, -0.0433963 , -0.08703883, -0.08703883, -0.08703883,\n",
       "        -0.0433963 , -0.13118084, -0.13840913, -0.13840913, -0.0433963 ,\n",
       "        -0.06142951, -0.0433963 , -0.07530656, -0.18168574, -0.0433963 ,\n",
       "        -0.0433963 , -0.0433963 , -0.07530656, -0.15826614,  3.17542648,\n",
       "        -0.0433963 , -0.08703883, -0.07530656, -0.06142951, -0.72111026,\n",
       "        -0.0433963 , -0.0433963 , -0.06142951, -0.0433963 , -0.0433963 ,\n",
       "        -0.0433963 , -0.0433963 , -0.0433963 , -0.0433963 , -0.0433963 ,\n",
       "        -0.0433963 , -0.39879994, -0.0433963 , -0.18168574, -0.0433963 ,\n",
       "        -0.08703883, -0.08703883, -0.10680283, -0.0433963 , -0.13118084,\n",
       "        -0.0433963 , -0.0433963 , -0.0433963 , -0.0433963 , -0.07530656,\n",
       "        -0.43911856, -0.0433963 , -0.06142951, -0.0433963 , -0.0433963 ,\n",
       "         1.11567277, -0.0433963 , -0.0433963 , -0.70312305, -0.0433963 ,\n",
       "        -0.0433963 , -0.0433963 , -0.0433963 , -0.0433963 , -0.0433963 ,\n",
       "        -0.0433963 , -0.0433963 , -0.0433963 ],\n",
       "       [-0.11474682, -0.1528703 , -0.0433963 , -0.0433963 , -0.0433963 ,\n",
       "        -0.06142951, -0.07530656, -0.0433963 , -0.06142951, -0.06142951,\n",
       "        -0.0433963 , -0.0433963 , -0.19245009, -0.06142951, -0.09740465,\n",
       "        -0.0433963 , -0.11547005, -0.07530656, -0.0433963 , -0.0433963 ,\n",
       "        -0.15191091, -0.0433963 ,  7.62306442, -0.0433963 , -0.0433963 ,\n",
       "        -0.08703883, -0.0433963 , -0.0433963 , -0.0433963 , -0.0433963 ,\n",
       "        -0.06142951, -0.0433963 , -0.08703883, -0.08703883, -0.08703883,\n",
       "        -0.0433963 , -0.13118084, -0.13840913, -0.13840913, -0.0433963 ,\n",
       "        -0.06142951, -0.0433963 , -0.07530656, -0.18168574, -0.0433963 ,\n",
       "        -0.0433963 , -0.0433963 , -0.07530656, -0.15826614, -0.31491833,\n",
       "        -0.0433963 , -0.08703883, -0.07530656, -0.06142951, -0.72111026,\n",
       "        -0.0433963 , -0.0433963 , -0.06142951, -0.0433963 , -0.0433963 ,\n",
       "        -0.0433963 , -0.0433963 , -0.0433963 , -0.0433963 , -0.0433963 ,\n",
       "        -0.0433963 , -0.39879994, -0.0433963 , -0.18168574, -0.0433963 ,\n",
       "        -0.08703883, -0.08703883, -0.10680283, -0.0433963 , -0.13118084,\n",
       "        -0.0433963 , -0.0433963 , -0.0433963 , -0.0433963 , -0.07530656,\n",
       "        -0.43911856, -0.0433963 , -0.06142951, -0.0433963 , -0.0433963 ,\n",
       "         1.11567277, -0.0433963 , -0.0433963 , -0.70312305, -0.0433963 ,\n",
       "        -0.0433963 , -0.0433963 , -0.0433963 , -0.0433963 , -0.0433963 ,\n",
       "        -0.0433963 , -0.0433963 , -0.0433963 ]])"
      ]
     },
     "execution_count": 240,
     "metadata": {},
     "output_type": "execute_result"
    }
   ],
   "source": [
    "# Standardize the data with StandardScaler().\n",
    "scaled_features = StandardScaler().fit_transform(crypto_encoded)\n",
    "scaled_features[0:5]"
   ]
  },
  {
   "cell_type": "markdown",
   "metadata": {},
   "source": [
    "### Deliverable 2: Reducing Data Dimensions Using PCA"
   ]
  },
  {
   "cell_type": "code",
   "execution_count": 241,
   "metadata": {},
   "outputs": [
    {
     "data": {
      "text/plain": [
       "array([[-0.32863747,  1.02144514, -0.54455313],\n",
       "       [-0.31191438,  1.02133497, -0.54480904],\n",
       "       [ 2.31610881,  1.5880804 , -0.72424637],\n",
       "       ...,\n",
       "       [ 0.29727149, -2.27632117,  0.35006574],\n",
       "       [-0.12762746, -2.08210101,  0.23213025],\n",
       "       [-0.26856538,  0.74952583, -0.26840506]])"
      ]
     },
     "execution_count": 241,
     "metadata": {},
     "output_type": "execute_result"
    }
   ],
   "source": [
    "# Using PCA to reduce dimension to three principal components.\n",
    "pca = PCA(n_components=3)\n",
    "X_pca = pca.fit_transform(scaled_features)\n",
    "X_pca"
   ]
  },
  {
   "cell_type": "code",
   "execution_count": 243,
   "metadata": {},
   "outputs": [
    {
     "data": {
      "text/html": [
       "<div>\n",
       "<style scoped>\n",
       "    .dataframe tbody tr th:only-of-type {\n",
       "        vertical-align: middle;\n",
       "    }\n",
       "\n",
       "    .dataframe tbody tr th {\n",
       "        vertical-align: top;\n",
       "    }\n",
       "\n",
       "    .dataframe thead th {\n",
       "        text-align: right;\n",
       "    }\n",
       "</style>\n",
       "<table border=\"1\" class=\"dataframe\">\n",
       "  <thead>\n",
       "    <tr style=\"text-align: right;\">\n",
       "      <th></th>\n",
       "      <th>PC 1</th>\n",
       "      <th>PC 2</th>\n",
       "      <th>PC 3</th>\n",
       "    </tr>\n",
       "  </thead>\n",
       "  <tbody>\n",
       "    <tr>\n",
       "      <th>42</th>\n",
       "      <td>-0.328637</td>\n",
       "      <td>1.021445</td>\n",
       "      <td>-0.544553</td>\n",
       "    </tr>\n",
       "    <tr>\n",
       "      <th>404</th>\n",
       "      <td>-0.311914</td>\n",
       "      <td>1.021335</td>\n",
       "      <td>-0.544809</td>\n",
       "    </tr>\n",
       "    <tr>\n",
       "      <th>1337</th>\n",
       "      <td>2.316109</td>\n",
       "      <td>1.588080</td>\n",
       "      <td>-0.724246</td>\n",
       "    </tr>\n",
       "    <tr>\n",
       "      <th>BTC</th>\n",
       "      <td>-0.158617</td>\n",
       "      <td>-1.292804</td>\n",
       "      <td>0.179480</td>\n",
       "    </tr>\n",
       "    <tr>\n",
       "      <th>ETH</th>\n",
       "      <td>-0.162976</td>\n",
       "      <td>-1.980426</td>\n",
       "      <td>0.442665</td>\n",
       "    </tr>\n",
       "    <tr>\n",
       "      <th>...</th>\n",
       "      <td>...</td>\n",
       "      <td>...</td>\n",
       "      <td>...</td>\n",
       "    </tr>\n",
       "    <tr>\n",
       "      <th>ZEPH</th>\n",
       "      <td>2.423302</td>\n",
       "      <td>1.026081</td>\n",
       "      <td>-0.071645</td>\n",
       "    </tr>\n",
       "    <tr>\n",
       "      <th>GAP</th>\n",
       "      <td>-0.326676</td>\n",
       "      <td>1.021292</td>\n",
       "      <td>-0.544572</td>\n",
       "    </tr>\n",
       "    <tr>\n",
       "      <th>BDX</th>\n",
       "      <td>0.297271</td>\n",
       "      <td>-2.276321</td>\n",
       "      <td>0.350066</td>\n",
       "    </tr>\n",
       "    <tr>\n",
       "      <th>ZEN</th>\n",
       "      <td>-0.127627</td>\n",
       "      <td>-2.082101</td>\n",
       "      <td>0.232130</td>\n",
       "    </tr>\n",
       "    <tr>\n",
       "      <th>XBC</th>\n",
       "      <td>-0.268565</td>\n",
       "      <td>0.749526</td>\n",
       "      <td>-0.268405</td>\n",
       "    </tr>\n",
       "  </tbody>\n",
       "</table>\n",
       "<p>532 rows × 3 columns</p>\n",
       "</div>"
      ],
      "text/plain": [
       "          PC 1      PC 2      PC 3\n",
       "42   -0.328637  1.021445 -0.544553\n",
       "404  -0.311914  1.021335 -0.544809\n",
       "1337  2.316109  1.588080 -0.724246\n",
       "BTC  -0.158617 -1.292804  0.179480\n",
       "ETH  -0.162976 -1.980426  0.442665\n",
       "...        ...       ...       ...\n",
       "ZEPH  2.423302  1.026081 -0.071645\n",
       "GAP  -0.326676  1.021292 -0.544572\n",
       "BDX   0.297271 -2.276321  0.350066\n",
       "ZEN  -0.127627 -2.082101  0.232130\n",
       "XBC  -0.268565  0.749526 -0.268405\n",
       "\n",
       "[532 rows x 3 columns]"
      ]
     },
     "execution_count": 243,
     "metadata": {},
     "output_type": "execute_result"
    }
   ],
   "source": [
    "# Create a DataFrame with the three principal components.\n",
    "pcs_df = pd.DataFrame(data=X_pca, index=filtered_crypto_df.index, columns = ['PC 1', 'PC 2', 'PC 3'])\n",
    "pcs_df"
   ]
  },
  {
   "cell_type": "markdown",
   "metadata": {},
   "source": [
    "### Deliverable 3: Clustering Crytocurrencies Using K-Means\n",
    "\n",
    "#### Finding the Best Value for `k` Using the Elbow Curve"
   ]
  },
  {
   "cell_type": "code",
   "execution_count": 244,
   "metadata": {},
   "outputs": [
    {
     "data": {},
     "metadata": {},
     "output_type": "display_data"
    },
    {
     "data": {
      "application/vnd.holoviews_exec.v0+json": "",
      "text/html": [
       "<div id='2428'>\n",
       "\n",
       "\n",
       "\n",
       "\n",
       "\n",
       "  <div class=\"bk-root\" id=\"8d552417-9a64-42dc-87e8-3137b6994e35\" data-root-id=\"2428\"></div>\n",
       "</div>\n",
       "<script type=\"application/javascript\">(function(root) {\n",
       "  function embed_document(root) {\n",
       "    var docs_json = {\"17f9e38b-62cf-47c7-9cc3-0785ee6d0bca\":{\"defs\":[{\"extends\":null,\"module\":null,\"name\":\"ReactiveHTML1\",\"overrides\":[],\"properties\":[]},{\"extends\":null,\"module\":null,\"name\":\"FlexBox1\",\"overrides\":[],\"properties\":[{\"default\":\"flex-start\",\"kind\":null,\"name\":\"align_content\"},{\"default\":\"flex-start\",\"kind\":null,\"name\":\"align_items\"},{\"default\":\"row\",\"kind\":null,\"name\":\"flex_direction\"},{\"default\":\"wrap\",\"kind\":null,\"name\":\"flex_wrap\"},{\"default\":\"flex-start\",\"kind\":null,\"name\":\"justify_content\"}]},{\"extends\":null,\"module\":null,\"name\":\"GridStack1\",\"overrides\":[],\"properties\":[{\"default\":\"warn\",\"kind\":null,\"name\":\"mode\"},{\"default\":null,\"kind\":null,\"name\":\"ncols\"},{\"default\":null,\"kind\":null,\"name\":\"nrows\"},{\"default\":true,\"kind\":null,\"name\":\"allow_resize\"},{\"default\":true,\"kind\":null,\"name\":\"allow_drag\"},{\"default\":[],\"kind\":null,\"name\":\"state\"}]},{\"extends\":null,\"module\":null,\"name\":\"click1\",\"overrides\":[],\"properties\":[{\"default\":\"\",\"kind\":null,\"name\":\"terminal_output\"},{\"default\":\"\",\"kind\":null,\"name\":\"debug_name\"},{\"default\":0,\"kind\":null,\"name\":\"clears\"}]},{\"extends\":null,\"module\":null,\"name\":\"TemplateActions1\",\"overrides\":[],\"properties\":[{\"default\":0,\"kind\":null,\"name\":\"open_modal\"},{\"default\":0,\"kind\":null,\"name\":\"close_modal\"}]},{\"extends\":null,\"module\":null,\"name\":\"MaterialTemplateActions1\",\"overrides\":[],\"properties\":[{\"default\":0,\"kind\":null,\"name\":\"open_modal\"},{\"default\":0,\"kind\":null,\"name\":\"close_modal\"}]}],\"roots\":{\"references\":[{\"attributes\":{\"line_alpha\":0.2,\"line_color\":\"#30a2da\",\"line_width\":2,\"x\":{\"field\":\"k\"},\"y\":{\"field\":\"inertia\"}},\"id\":\"2468\",\"type\":\"Line\"},{\"attributes\":{},\"id\":\"2440\",\"type\":\"LinearScale\"},{\"attributes\":{\"coordinates\":null,\"group\":null,\"text\":\"Elbow Curve\",\"text_color\":\"black\",\"text_font_size\":\"12pt\"},\"id\":\"2434\",\"type\":\"Title\"},{\"attributes\":{\"ticks\":[1,2,3,4,5,6,7,8,9,10]},\"id\":\"2472\",\"type\":\"FixedTicker\"},{\"attributes\":{\"line_color\":\"#30a2da\",\"line_width\":2,\"x\":{\"field\":\"k\"},\"y\":{\"field\":\"inertia\"}},\"id\":\"2466\",\"type\":\"Line\"},{\"attributes\":{},\"id\":\"2452\",\"type\":\"WheelZoomTool\"},{\"attributes\":{\"end\":10.0,\"reset_end\":10.0,\"reset_start\":1.0,\"start\":1.0,\"tags\":[[[\"k\",\"k\",null]]]},\"id\":\"2430\",\"type\":\"Range1d\"},{\"attributes\":{\"coordinates\":null,\"data_source\":{\"id\":\"2463\"},\"glyph\":{\"id\":\"2466\"},\"group\":null,\"hover_glyph\":null,\"muted_glyph\":{\"id\":\"2468\"},\"nonselection_glyph\":{\"id\":\"2467\"},\"selection_glyph\":{\"id\":\"2471\"},\"view\":{\"id\":\"2470\"}},\"id\":\"2469\",\"type\":\"GlyphRenderer\"},{\"attributes\":{\"source\":{\"id\":\"2463\"}},\"id\":\"2470\",\"type\":\"CDSView\"},{\"attributes\":{},\"id\":\"2447\",\"type\":\"BasicTicker\"},{\"attributes\":{},\"id\":\"2475\",\"type\":\"AllLabels\"},{\"attributes\":{\"children\":[{\"id\":\"2429\"},{\"id\":\"2433\"},{\"id\":\"2499\"}],\"margin\":[0,0,0,0],\"name\":\"Row04404\",\"tags\":[\"embedded\"]},\"id\":\"2428\",\"type\":\"Row\"},{\"attributes\":{},\"id\":\"2464\",\"type\":\"Selection\"},{\"attributes\":{\"axis_label\":\"inertia\",\"coordinates\":null,\"formatter\":{\"id\":\"2479\"},\"group\":null,\"major_label_policy\":{\"id\":\"2480\"},\"ticker\":{\"id\":\"2447\"}},\"id\":\"2446\",\"type\":\"LinearAxis\"},{\"attributes\":{\"data\":{\"inertia\":{\"__ndarray__\":\"TTE/BV5srEA/CzY0M0mjQLvOv1PKWJdAdFvmr9qxgUAc+IKxgO13QBHZy9yEiXJA82dOomimbUBiSuWa4rtmQDwujx+B8WJAZ85iFj5iX0A=\",\"dtype\":\"float64\",\"order\":\"little\",\"shape\":[10]},\"k\":[1,2,3,4,5,6,7,8,9,10]},\"selected\":{\"id\":\"2464\"},\"selection_policy\":{\"id\":\"2487\"}},\"id\":\"2463\",\"type\":\"ColumnDataSource\"},{\"attributes\":{},\"id\":\"2454\",\"type\":\"ResetTool\"},{\"attributes\":{},\"id\":\"2480\",\"type\":\"AllLabels\"},{\"attributes\":{},\"id\":\"2474\",\"type\":\"BasicTickFormatter\"},{\"attributes\":{\"margin\":[5,5,5,5],\"name\":\"HSpacer04409\",\"sizing_mode\":\"stretch_width\"},\"id\":\"2499\",\"type\":\"Spacer\"},{\"attributes\":{},\"id\":\"2479\",\"type\":\"BasicTickFormatter\"},{\"attributes\":{\"margin\":[5,5,5,5],\"name\":\"HSpacer04408\",\"sizing_mode\":\"stretch_width\"},\"id\":\"2429\",\"type\":\"Spacer\"},{\"attributes\":{\"tools\":[{\"id\":\"2432\"},{\"id\":\"2450\"},{\"id\":\"2451\"},{\"id\":\"2452\"},{\"id\":\"2453\"},{\"id\":\"2454\"}]},\"id\":\"2456\",\"type\":\"Toolbar\"},{\"attributes\":{\"line_alpha\":0.1,\"line_color\":\"#30a2da\",\"line_width\":2,\"x\":{\"field\":\"k\"},\"y\":{\"field\":\"inertia\"}},\"id\":\"2467\",\"type\":\"Line\"},{\"attributes\":{\"end\":3989.4484932065925,\"reset_end\":3989.4484932065925,\"reset_start\":-225.72981990941742,\"start\":-225.72981990941742,\"tags\":[[[\"inertia\",\"inertia\",null]]]},\"id\":\"2431\",\"type\":\"Range1d\"},{\"attributes\":{\"callback\":null,\"renderers\":[{\"id\":\"2469\"}],\"tags\":[\"hv_created\"],\"tooltips\":[[\"k\",\"@{k}\"],[\"inertia\",\"@{inertia}\"]]},\"id\":\"2432\",\"type\":\"HoverTool\"},{\"attributes\":{},\"id\":\"2450\",\"type\":\"SaveTool\"},{\"attributes\":{},\"id\":\"2438\",\"type\":\"LinearScale\"},{\"attributes\":{\"axis\":{\"id\":\"2446\"},\"coordinates\":null,\"dimension\":1,\"grid_line_color\":null,\"group\":null,\"ticker\":null},\"id\":\"2449\",\"type\":\"Grid\"},{\"attributes\":{},\"id\":\"2451\",\"type\":\"PanTool\"},{\"attributes\":{\"below\":[{\"id\":\"2442\"}],\"center\":[{\"id\":\"2445\"},{\"id\":\"2449\"}],\"height\":300,\"left\":[{\"id\":\"2446\"}],\"margin\":[5,5,5,5],\"min_border_bottom\":10,\"min_border_left\":10,\"min_border_right\":10,\"min_border_top\":10,\"renderers\":[{\"id\":\"2469\"}],\"sizing_mode\":\"fixed\",\"title\":{\"id\":\"2434\"},\"toolbar\":{\"id\":\"2456\"},\"width\":700,\"x_range\":{\"id\":\"2430\"},\"x_scale\":{\"id\":\"2438\"},\"y_range\":{\"id\":\"2431\"},\"y_scale\":{\"id\":\"2440\"}},\"id\":\"2433\",\"subtype\":\"Figure\",\"type\":\"Plot\"},{\"attributes\":{\"axis_label\":\"k\",\"coordinates\":null,\"formatter\":{\"id\":\"2474\"},\"group\":null,\"major_label_policy\":{\"id\":\"2475\"},\"ticker\":{\"id\":\"2472\"}},\"id\":\"2442\",\"type\":\"LinearAxis\"},{\"attributes\":{\"line_color\":\"#30a2da\",\"line_width\":2,\"x\":{\"field\":\"k\"},\"y\":{\"field\":\"inertia\"}},\"id\":\"2471\",\"type\":\"Line\"},{\"attributes\":{\"bottom_units\":\"screen\",\"coordinates\":null,\"fill_alpha\":0.5,\"fill_color\":\"lightgrey\",\"group\":null,\"left_units\":\"screen\",\"level\":\"overlay\",\"line_alpha\":1.0,\"line_color\":\"black\",\"line_dash\":[4,4],\"line_width\":2,\"right_units\":\"screen\",\"syncable\":false,\"top_units\":\"screen\"},\"id\":\"2455\",\"type\":\"BoxAnnotation\"},{\"attributes\":{\"axis\":{\"id\":\"2442\"},\"coordinates\":null,\"grid_line_color\":null,\"group\":null,\"ticker\":null},\"id\":\"2445\",\"type\":\"Grid\"},{\"attributes\":{},\"id\":\"2487\",\"type\":\"UnionRenderers\"},{\"attributes\":{\"overlay\":{\"id\":\"2455\"}},\"id\":\"2453\",\"type\":\"BoxZoomTool\"}],\"root_ids\":[\"2428\"]},\"title\":\"Bokeh Application\",\"version\":\"2.4.2\"}};\n",
       "    var render_items = [{\"docid\":\"17f9e38b-62cf-47c7-9cc3-0785ee6d0bca\",\"root_ids\":[\"2428\"],\"roots\":{\"2428\":\"8d552417-9a64-42dc-87e8-3137b6994e35\"}}];\n",
       "    root.Bokeh.embed.embed_items_notebook(docs_json, render_items);\n",
       "  }\n",
       "  if (root.Bokeh !== undefined && root.Bokeh.Panel !== undefined) {\n",
       "    embed_document(root);\n",
       "  } else {\n",
       "    var attempts = 0;\n",
       "    var timer = setInterval(function(root) {\n",
       "      if (root.Bokeh !== undefined && root.Bokeh.Panel !== undefined) {\n",
       "        clearInterval(timer);\n",
       "        embed_document(root);\n",
       "      } else if (document.readyState == \"complete\") {\n",
       "        attempts++;\n",
       "        if (attempts > 200) {\n",
       "          clearInterval(timer);\n",
       "          console.log(\"Bokeh: ERROR: Unable to run BokehJS code because BokehJS library is missing\");\n",
       "        }\n",
       "      }\n",
       "    }, 25, root)\n",
       "  }\n",
       "})(window);</script>"
      ],
      "text/plain": [
       ":Curve   [k]   (inertia)"
      ]
     },
     "execution_count": 244,
     "metadata": {
      "application/vnd.holoviews_exec.v0+json": {
       "id": "2428"
      }
     },
     "output_type": "execute_result"
    }
   ],
   "source": [
    "\n",
    "# # Create an elbow curve to find the best value for K.\n",
    "inertia = []\n",
    "k = list(range(1, 11))\n",
    "\n",
    "# Calculate the inertia for the range of K values\n",
    "for i in k:\n",
    "    km = KMeans(n_clusters=i, random_state=0).fit(pcs_df)\n",
    "    inertia.append(km.inertia_)\n",
    "\n",
    "# Create the elbow curve\n",
    "elbow_data = {\"k\": k, \"inertia\": inertia}\n",
    "elbow_df = pd.DataFrame(elbow_data)\n",
    "elbow_df.hvplot.line(x=\"k\", y=\"inertia\", xticks=k, title=\"Elbow Curve\")\n",
    "\n"
   ]
  },
  {
   "cell_type": "markdown",
   "metadata": {},
   "source": [
    "Running K-Means with `k=4`"
   ]
  },
  {
   "cell_type": "code",
   "execution_count": 245,
   "metadata": {},
   "outputs": [
    {
     "data": {
      "text/plain": [
       "array([0, 0, 0, 3, 3, 3, 0, 3, 3, 3, 0, 3, 0, 0, 3, 0, 3, 3, 0, 0, 3, 3,\n",
       "       3, 3, 3, 0, 3, 3, 3, 0, 3, 0, 3, 3, 0, 0, 3, 3, 3, 3, 3, 3, 0, 0,\n",
       "       3, 3, 3, 3, 3, 0, 0, 3, 0, 3, 3, 3, 3, 0, 3, 3, 0, 3, 0, 0, 0, 3,\n",
       "       3, 3, 0, 0, 0, 0, 0, 3, 3, 3, 0, 0, 3, 0, 3, 0, 0, 3, 3, 3, 3, 0,\n",
       "       0, 3, 0, 3, 3, 0, 0, 3, 0, 0, 3, 3, 0, 0, 3, 0, 0, 3, 0, 3, 0, 3,\n",
       "       0, 3, 0, 0, 3, 3, 0, 3, 3, 3, 0, 3, 3, 3, 3, 3, 0, 0, 3, 3, 3, 0,\n",
       "       3, 0, 3, 3, 0, 3, 0, 3, 0, 0, 3, 3, 0, 3, 3, 0, 0, 3, 0, 3, 0, 0,\n",
       "       0, 3, 3, 3, 3, 0, 0, 0, 0, 0, 3, 3, 0, 0, 0, 0, 0, 3, 0, 0, 0, 0,\n",
       "       0, 3, 0, 3, 0, 0, 3, 0, 3, 0, 0, 3, 0, 3, 0, 3, 0, 3, 0, 0, 0, 0,\n",
       "       3, 0, 0, 0, 0, 0, 3, 3, 0, 0, 3, 3, 0, 0, 0, 0, 0, 3, 0, 0, 0, 0,\n",
       "       0, 0, 0, 0, 3, 0, 0, 0, 0, 0, 0, 3, 3, 3, 0, 0, 0, 0, 3, 0, 3, 0,\n",
       "       0, 3, 0, 3, 3, 0, 3, 3, 0, 3, 0, 0, 0, 3, 0, 0, 3, 0, 0, 0, 0, 0,\n",
       "       0, 0, 3, 0, 3, 0, 0, 0, 0, 3, 0, 3, 0, 3, 3, 3, 3, 0, 3, 0, 0, 3,\n",
       "       0, 3, 3, 3, 0, 3, 0, 3, 3, 3, 0, 3, 0, 3, 0, 0, 0, 3, 0, 3, 3, 3,\n",
       "       3, 3, 0, 0, 3, 0, 0, 0, 3, 0, 3, 0, 3, 0, 3, 0, 0, 0, 0, 3, 0, 0,\n",
       "       3, 0, 0, 0, 3, 3, 3, 3, 0, 0, 0, 0, 3, 0, 3, 3, 3, 0, 0, 3, 3, 0,\n",
       "       0, 3, 0, 3, 3, 3, 0, 3, 3, 0, 0, 0, 3, 3, 3, 0, 3, 0, 3, 3, 0, 3,\n",
       "       3, 3, 3, 0, 1, 1, 3, 3, 3, 0, 1, 0, 0, 0, 0, 3, 3, 3, 3, 0, 0, 0,\n",
       "       3, 0, 3, 0, 0, 0, 0, 3, 0, 0, 3, 0, 0, 3, 3, 0, 3, 0, 3, 3, 3, 3,\n",
       "       0, 0, 3, 0, 3, 0, 0, 0, 0, 0, 0, 3, 3, 3, 0, 0, 0, 0, 0, 0, 3, 0,\n",
       "       3, 3, 3, 3, 0, 0, 0, 0, 3, 0, 0, 3, 0, 0, 3, 1, 3, 0, 3, 3, 0, 0,\n",
       "       3, 0, 3, 3, 3, 3, 3, 0, 3, 0, 3, 0, 0, 3, 0, 0, 0, 0, 0, 3, 3, 3,\n",
       "       0, 0, 0, 3, 0, 3, 0, 3, 0, 0, 0, 0, 3, 0, 0, 0, 3, 0, 3, 0, 3, 0,\n",
       "       0, 0, 3, 3, 0, 0, 0, 0, 0, 0, 3, 0, 3, 0, 3, 0, 0, 1, 0, 2, 0, 0,\n",
       "       0, 3, 3, 0])"
      ]
     },
     "execution_count": 245,
     "metadata": {},
     "output_type": "execute_result"
    }
   ],
   "source": [
    "# Initialize the K-Means model and fit the model\n",
    "model = KMeans(n_clusters=4, random_state=0)\n",
    "\n",
    "#fit the model \n",
    "model.fit(pcs_df)\n",
    "\n",
    "# Predict clusters\n",
    "predictions = model.predict(pcs_df)\n",
    "predictions"
   ]
  },
  {
   "cell_type": "code",
   "execution_count": 246,
   "metadata": {},
   "outputs": [
    {
     "name": "stdout",
     "output_type": "stream",
     "text": [
      "(532, 9)\n"
     ]
    },
    {
     "data": {
      "text/html": [
       "<div>\n",
       "<style scoped>\n",
       "    .dataframe tbody tr th:only-of-type {\n",
       "        vertical-align: middle;\n",
       "    }\n",
       "\n",
       "    .dataframe tbody tr th {\n",
       "        vertical-align: top;\n",
       "    }\n",
       "\n",
       "    .dataframe thead th {\n",
       "        text-align: right;\n",
       "    }\n",
       "</style>\n",
       "<table border=\"1\" class=\"dataframe\">\n",
       "  <thead>\n",
       "    <tr style=\"text-align: right;\">\n",
       "      <th></th>\n",
       "      <th>Algorithm</th>\n",
       "      <th>ProofType</th>\n",
       "      <th>TotalCoinsMined</th>\n",
       "      <th>TotalCoinSupply</th>\n",
       "      <th>PC 1</th>\n",
       "      <th>PC 2</th>\n",
       "      <th>PC 3</th>\n",
       "      <th>CoinName</th>\n",
       "      <th>Class</th>\n",
       "    </tr>\n",
       "  </thead>\n",
       "  <tbody>\n",
       "    <tr>\n",
       "      <th>42</th>\n",
       "      <td>Scrypt</td>\n",
       "      <td>PoW/PoS</td>\n",
       "      <td>4.199995e+01</td>\n",
       "      <td>42</td>\n",
       "      <td>-0.328637</td>\n",
       "      <td>1.021445</td>\n",
       "      <td>-0.544553</td>\n",
       "      <td>42 Coin</td>\n",
       "      <td>0</td>\n",
       "    </tr>\n",
       "    <tr>\n",
       "      <th>404</th>\n",
       "      <td>Scrypt</td>\n",
       "      <td>PoW/PoS</td>\n",
       "      <td>1.055185e+09</td>\n",
       "      <td>532000000</td>\n",
       "      <td>-0.311914</td>\n",
       "      <td>1.021335</td>\n",
       "      <td>-0.544809</td>\n",
       "      <td>404Coin</td>\n",
       "      <td>0</td>\n",
       "    </tr>\n",
       "    <tr>\n",
       "      <th>1337</th>\n",
       "      <td>X13</td>\n",
       "      <td>PoW/PoS</td>\n",
       "      <td>2.927942e+10</td>\n",
       "      <td>314159265359</td>\n",
       "      <td>2.316109</td>\n",
       "      <td>1.588080</td>\n",
       "      <td>-0.724246</td>\n",
       "      <td>EliteCoin</td>\n",
       "      <td>0</td>\n",
       "    </tr>\n",
       "    <tr>\n",
       "      <th>BTC</th>\n",
       "      <td>SHA-256</td>\n",
       "      <td>PoW</td>\n",
       "      <td>1.792718e+07</td>\n",
       "      <td>21000000</td>\n",
       "      <td>-0.158617</td>\n",
       "      <td>-1.292804</td>\n",
       "      <td>0.179480</td>\n",
       "      <td>Bitcoin</td>\n",
       "      <td>3</td>\n",
       "    </tr>\n",
       "    <tr>\n",
       "      <th>ETH</th>\n",
       "      <td>Ethash</td>\n",
       "      <td>PoW</td>\n",
       "      <td>1.076842e+08</td>\n",
       "      <td>0</td>\n",
       "      <td>-0.162976</td>\n",
       "      <td>-1.980426</td>\n",
       "      <td>0.442665</td>\n",
       "      <td>Ethereum</td>\n",
       "      <td>3</td>\n",
       "    </tr>\n",
       "    <tr>\n",
       "      <th>LTC</th>\n",
       "      <td>Scrypt</td>\n",
       "      <td>PoW</td>\n",
       "      <td>6.303924e+07</td>\n",
       "      <td>84000000</td>\n",
       "      <td>-0.166366</td>\n",
       "      <td>-1.121056</td>\n",
       "      <td>0.007740</td>\n",
       "      <td>Litecoin</td>\n",
       "      <td>3</td>\n",
       "    </tr>\n",
       "    <tr>\n",
       "      <th>DASH</th>\n",
       "      <td>X11</td>\n",
       "      <td>PoW/PoS</td>\n",
       "      <td>9.031294e+06</td>\n",
       "      <td>22000000</td>\n",
       "      <td>-0.396469</td>\n",
       "      <td>1.253728</td>\n",
       "      <td>-0.467400</td>\n",
       "      <td>Dash</td>\n",
       "      <td>0</td>\n",
       "    </tr>\n",
       "    <tr>\n",
       "      <th>XMR</th>\n",
       "      <td>CryptoNight-V7</td>\n",
       "      <td>PoW</td>\n",
       "      <td>1.720114e+07</td>\n",
       "      <td>0</td>\n",
       "      <td>-0.172354</td>\n",
       "      <td>-2.147142</td>\n",
       "      <td>0.391043</td>\n",
       "      <td>Monero</td>\n",
       "      <td>3</td>\n",
       "    </tr>\n",
       "    <tr>\n",
       "      <th>ETC</th>\n",
       "      <td>Ethash</td>\n",
       "      <td>PoW</td>\n",
       "      <td>1.133597e+08</td>\n",
       "      <td>210000000</td>\n",
       "      <td>-0.161413</td>\n",
       "      <td>-1.980557</td>\n",
       "      <td>0.442651</td>\n",
       "      <td>Ethereum Classic</td>\n",
       "      <td>3</td>\n",
       "    </tr>\n",
       "    <tr>\n",
       "      <th>ZEC</th>\n",
       "      <td>Equihash</td>\n",
       "      <td>PoW</td>\n",
       "      <td>7.383056e+06</td>\n",
       "      <td>21000000</td>\n",
       "      <td>-0.127626</td>\n",
       "      <td>-2.082101</td>\n",
       "      <td>0.232130</td>\n",
       "      <td>ZCash</td>\n",
       "      <td>3</td>\n",
       "    </tr>\n",
       "  </tbody>\n",
       "</table>\n",
       "</div>"
      ],
      "text/plain": [
       "           Algorithm ProofType  TotalCoinsMined TotalCoinSupply      PC 1  \\\n",
       "42            Scrypt   PoW/PoS     4.199995e+01              42 -0.328637   \n",
       "404           Scrypt   PoW/PoS     1.055185e+09       532000000 -0.311914   \n",
       "1337             X13   PoW/PoS     2.927942e+10    314159265359  2.316109   \n",
       "BTC          SHA-256       PoW     1.792718e+07        21000000 -0.158617   \n",
       "ETH           Ethash       PoW     1.076842e+08               0 -0.162976   \n",
       "LTC           Scrypt       PoW     6.303924e+07        84000000 -0.166366   \n",
       "DASH             X11   PoW/PoS     9.031294e+06        22000000 -0.396469   \n",
       "XMR   CryptoNight-V7       PoW     1.720114e+07               0 -0.172354   \n",
       "ETC           Ethash       PoW     1.133597e+08       210000000 -0.161413   \n",
       "ZEC         Equihash       PoW     7.383056e+06        21000000 -0.127626   \n",
       "\n",
       "          PC 2      PC 3          CoinName  Class  \n",
       "42    1.021445 -0.544553           42 Coin      0  \n",
       "404   1.021335 -0.544809           404Coin      0  \n",
       "1337  1.588080 -0.724246         EliteCoin      0  \n",
       "BTC  -1.292804  0.179480           Bitcoin      3  \n",
       "ETH  -1.980426  0.442665          Ethereum      3  \n",
       "LTC  -1.121056  0.007740          Litecoin      3  \n",
       "DASH  1.253728 -0.467400              Dash      0  \n",
       "XMR  -2.147142  0.391043            Monero      3  \n",
       "ETC  -1.980557  0.442651  Ethereum Classic      3  \n",
       "ZEC  -2.082101  0.232130             ZCash      3  "
      ]
     },
     "execution_count": 246,
     "metadata": {},
     "output_type": "execute_result"
    }
   ],
   "source": [
    "# Create a new DataFrame including predicted clusters and cryptocurrencies features.\n",
    "# Concatentate the crypto_df and pcs_df DataFrames on the same columns.\n",
    "\n",
    "clustered_df = pd.concat([filtered_crypto_df, pcs_df], axis=1, sort=False)\n",
    "clustered_df.head(10)\n",
    "\n",
    "# # Add a new column, \"CoinName\" to the clustered_df DataFrame that holds the names of the cryptocurrencies. \n",
    "clustered_df[\"CoinName\"] = crypto_names_df\n",
    "\n",
    "# # Add a new column, \"Class\" to the clustered_df DataFrame that holds the predictions.\n",
    "\n",
    "clustered_df[\"Class\"] = model.labels_\n",
    "\n",
    "# Print the shape of the clustered_df\n",
    "print(clustered_df.shape)\n",
    "clustered_df.head(10)"
   ]
  },
  {
   "cell_type": "markdown",
   "metadata": {},
   "source": [
    "### Deliverable 4: Visualizing Cryptocurrencies Results\n",
    "\n",
    "#### 3D-Scatter with Clusters"
   ]
  },
  {
   "cell_type": "code",
   "execution_count": 247,
   "metadata": {},
   "outputs": [
    {
     "data": {
      "application/vnd.plotly.v1+json": {
       "config": {
        "plotlyServerURL": "https://plot.ly"
       },
       "data": [
        {
         "customdata": [
          [
           "Scrypt"
          ],
          [
           "Scrypt"
          ],
          [
           "X13"
          ],
          [
           "X11"
          ],
          [
           "SHA-512"
          ],
          [
           "SHA-256"
          ],
          [
           "SHA-256"
          ],
          [
           "X15"
          ],
          [
           "Scrypt"
          ],
          [
           "Scrypt"
          ],
          [
           "Scrypt"
          ],
          [
           "Scrypt"
          ],
          [
           "Scrypt"
          ],
          [
           "Scrypt"
          ],
          [
           "Groestl"
          ],
          [
           "PoS"
          ],
          [
           "Scrypt"
          ],
          [
           "Scrypt"
          ],
          [
           "X11"
          ],
          [
           "X11"
          ],
          [
           "SHA3"
          ],
          [
           "Scrypt"
          ],
          [
           "SHA-256"
          ],
          [
           "Scrypt"
          ],
          [
           "X13"
          ],
          [
           "X13"
          ],
          [
           "NeoScrypt"
          ],
          [
           "Scrypt"
          ],
          [
           "Scrypt"
          ],
          [
           "Scrypt"
          ],
          [
           "X11"
          ],
          [
           "X11"
          ],
          [
           "Multiple"
          ],
          [
           "PHI1612"
          ],
          [
           "X11"
          ],
          [
           "Scrypt"
          ],
          [
           "Scrypt"
          ],
          [
           "Scrypt"
          ],
          [
           "X11"
          ],
          [
           "Multiple"
          ],
          [
           "X13"
          ],
          [
           "Scrypt"
          ],
          [
           "Shabal256"
          ],
          [
           "Counterparty"
          ],
          [
           "SHA-256"
          ],
          [
           "Groestl"
          ],
          [
           "Scrypt"
          ],
          [
           "X13"
          ],
          [
           "Scrypt"
          ],
          [
           "Scrypt"
          ],
          [
           "X13"
          ],
          [
           "X11"
          ],
          [
           "Scrypt"
          ],
          [
           "X11"
          ],
          [
           "SHA3"
          ],
          [
           "QUAIT"
          ],
          [
           "X11"
          ],
          [
           "Scrypt"
          ],
          [
           "X13"
          ],
          [
           "SHA-256"
          ],
          [
           "X15"
          ],
          [
           "BLAKE256"
          ],
          [
           "SHA-256"
          ],
          [
           "X11"
          ],
          [
           "SHA-256"
          ],
          [
           "NIST5"
          ],
          [
           "Scrypt"
          ],
          [
           "Scrypt"
          ],
          [
           "X11"
          ],
          [
           "Scrypt"
          ],
          [
           "SHA-256"
          ],
          [
           "Scrypt"
          ],
          [
           "PoS"
          ],
          [
           "X11"
          ],
          [
           "SHA-256"
          ],
          [
           "SHA-256"
          ],
          [
           "NIST5"
          ],
          [
           "X11"
          ],
          [
           "POS 3.0"
          ],
          [
           "Scrypt"
          ],
          [
           "Scrypt"
          ],
          [
           "Scrypt"
          ],
          [
           "X13"
          ],
          [
           "X11"
          ],
          [
           "X11"
          ],
          [
           "Scrypt"
          ],
          [
           "SHA-256"
          ],
          [
           "X11"
          ],
          [
           "Scrypt"
          ],
          [
           "Scrypt"
          ],
          [
           "Scrypt"
          ],
          [
           "Scrypt"
          ],
          [
           "SHA-256D"
          ],
          [
           "PoS"
          ],
          [
           "Scrypt"
          ],
          [
           "X11"
          ],
          [
           "PoS"
          ],
          [
           "X13"
          ],
          [
           "X14"
          ],
          [
           "PoS"
          ],
          [
           "SHA-256D"
          ],
          [
           "DPoS"
          ],
          [
           "X11"
          ],
          [
           "X13"
          ],
          [
           "X11"
          ],
          [
           "PoS"
          ],
          [
           "Scrypt"
          ],
          [
           "Scrypt"
          ],
          [
           "PoS"
          ],
          [
           "X11"
          ],
          [
           "SHA-256"
          ],
          [
           "Scrypt"
          ],
          [
           "X11"
          ],
          [
           "Scrypt"
          ],
          [
           "Scrypt"
          ],
          [
           "X11"
          ],
          [
           "Scrypt"
          ],
          [
           "Scrypt"
          ],
          [
           "Scrypt"
          ],
          [
           "Scrypt"
          ],
          [
           "Quark"
          ],
          [
           "QuBit"
          ],
          [
           "Scrypt"
          ],
          [
           "SHA-256"
          ],
          [
           "X11"
          ],
          [
           "Scrypt"
          ],
          [
           "Scrypt"
          ],
          [
           "Scrypt"
          ],
          [
           "Scrypt"
          ],
          [
           "X13"
          ],
          [
           "Scrypt"
          ],
          [
           "Scrypt"
          ],
          [
           "X11"
          ],
          [
           "Blake2S"
          ],
          [
           "X11"
          ],
          [
           "PoS"
          ],
          [
           "X11"
          ],
          [
           "PoS"
          ],
          [
           "X11"
          ],
          [
           "Scrypt"
          ],
          [
           "Scrypt"
          ],
          [
           "Scrypt"
          ],
          [
           "SHA-256"
          ],
          [
           "X11"
          ],
          [
           "Scrypt"
          ],
          [
           "PoS"
          ],
          [
           "Scrypt"
          ],
          [
           "X15"
          ],
          [
           "SHA-256"
          ],
          [
           "POS 3.0"
          ],
          [
           "536"
          ],
          [
           "NIST5"
          ],
          [
           "NIST5"
          ],
          [
           "Skein"
          ],
          [
           "X13"
          ],
          [
           "Scrypt"
          ],
          [
           "X13"
          ],
          [
           "SkunkHash v2 Raptor"
          ],
          [
           "Skein"
          ],
          [
           "X11"
          ],
          [
           "Scrypt"
          ],
          [
           "VeChainThor Authority"
          ],
          [
           "PoS"
          ],
          [
           "Scrypt"
          ],
          [
           "Scrypt"
          ],
          [
           "SHA-512"
          ],
          [
           "Ouroboros"
          ],
          [
           "X11"
          ],
          [
           "NeoScrypt"
          ],
          [
           "Scrypt"
          ],
          [
           "Lyra2REv2"
          ],
          [
           "Scrypt"
          ],
          [
           "SHA-256"
          ],
          [
           "NIST5"
          ],
          [
           "PHI1612"
          ],
          [
           "Scrypt"
          ],
          [
           "Quark"
          ],
          [
           "POS 2.0"
          ],
          [
           "Scrypt"
          ],
          [
           "SHA-256"
          ],
          [
           "X11"
          ],
          [
           "DPoS"
          ],
          [
           "NIST5"
          ],
          [
           "X13"
          ],
          [
           "Scrypt"
          ],
          [
           "NIST5"
          ],
          [
           "Quark"
          ],
          [
           "Scrypt"
          ],
          [
           "Scrypt"
          ],
          [
           "X11"
          ],
          [
           "Quark"
          ],
          [
           "Scrypt"
          ],
          [
           "Scrypt"
          ],
          [
           "X11"
          ],
          [
           "POS 3.0"
          ],
          [
           "Scrypt"
          ],
          [
           "Scrypt"
          ],
          [
           "X13"
          ],
          [
           "C11"
          ],
          [
           "X11"
          ],
          [
           "XEVAN"
          ],
          [
           "Scrypt"
          ],
          [
           "VBFT"
          ],
          [
           "NIST5"
          ],
          [
           "Scrypt"
          ],
          [
           "Scrypt"
          ],
          [
           "Scrypt"
          ],
          [
           "Green Protocol"
          ],
          [
           "PoS"
          ],
          [
           "Scrypt"
          ],
          [
           "Semux BFT consensus"
          ],
          [
           "Quark"
          ],
          [
           "PoS"
          ],
          [
           "X16R"
          ],
          [
           "Scrypt"
          ],
          [
           "XEVAN"
          ],
          [
           "Scrypt"
          ],
          [
           "Scrypt"
          ],
          [
           "Scrypt"
          ],
          [
           "SHA-256D"
          ],
          [
           "Scrypt"
          ],
          [
           "X15"
          ],
          [
           "Scrypt"
          ],
          [
           "Quark"
          ],
          [
           "SHA-256"
          ],
          [
           "DPoS"
          ],
          [
           "X16R"
          ],
          [
           "Quark"
          ],
          [
           "Quark"
          ],
          [
           "Scrypt"
          ],
          [
           "Lyra2REv2"
          ],
          [
           "Quark"
          ],
          [
           "Scrypt"
          ],
          [
           "X11"
          ],
          [
           "X11"
          ],
          [
           "Scrypt"
          ],
          [
           "PoS"
          ],
          [
           "Keccak"
          ],
          [
           "X11"
          ],
          [
           "Scrypt"
          ],
          [
           "SHA-512"
          ],
          [
           "XEVAN"
          ],
          [
           "XEVAN"
          ],
          [
           "X11"
          ],
          [
           "Quark"
          ],
          [
           "Scrypt"
          ],
          [
           "Quark"
          ],
          [
           "Quark"
          ],
          [
           "Scrypt"
          ],
          [
           "X11"
          ],
          [
           "Scrypt"
          ],
          [
           "XEVAN"
          ],
          [
           "SHA-256D"
          ],
          [
           "X11"
          ],
          [
           "X11"
          ],
          [
           "DPoS"
          ],
          [
           "Scrypt"
          ],
          [
           "X11"
          ],
          [
           "Scrypt"
          ],
          [
           "Scrypt"
          ],
          [
           "SHA-256"
          ],
          [
           "Scrypt"
          ],
          [
           "X11"
          ],
          [
           "Scrypt"
          ],
          [
           "SHA-256"
          ],
          [
           "X11"
          ],
          [
           "Scrypt"
          ],
          [
           "Scrypt"
          ],
          [
           "X11"
          ],
          [
           "Scrypt"
          ],
          [
           "PoS"
          ],
          [
           "X11"
          ],
          [
           "SHA-256"
          ],
          [
           "DPoS"
          ],
          [
           "Scrypt"
          ],
          [
           "Scrypt"
          ],
          [
           "NeoScrypt"
          ],
          [
           "X13"
          ],
          [
           "DPoS"
          ],
          [
           "DPoS"
          ],
          [
           "SHA-256"
          ],
          [
           "PoS"
          ],
          [
           "PoS"
          ],
          [
           "SHA-256"
          ],
          [
           "Scrypt"
          ],
          [
           "Scrypt"
          ]
         ],
         "hovertemplate": "<b>%{hovertext}</b><br><br>Class=%{marker.color}<br>PC 1=%{x}<br>PC 2=%{y}<br>PC 3=%{z}<br>Algorithm=%{customdata[0]}<extra></extra>",
         "hovertext": [
          "42 Coin",
          "404Coin",
          "EliteCoin",
          "Dash",
          "Bitshares",
          "BitcoinDark",
          "PayCoin",
          "KoboCoin",
          "Aurora Coin",
          "BlueCoin",
          "EnergyCoin",
          "BitBar",
          "CryptoBullion",
          "CasinoCoin",
          "Diamond",
          "Exclusive Coin",
          "FlutterCoin",
          "HoboNickels",
          "HyperStake",
          "IOCoin",
          "MaxCoin",
          "MintCoin",
          "MazaCoin",
          "Nautilus Coin",
          "NavCoin",
          "OpalCoin",
          "Orbitcoin",
          "PotCoin",
          "PhoenixCoin",
          "Reddcoin",
          "SuperCoin",
          "SyncCoin",
          "TeslaCoin",
          "TittieCoin",
          "TorCoin",
          "UnitaryStatus Dollar",
          "UltraCoin",
          "VeriCoin",
          "X11 Coin",
          "Crypti",
          "StealthCoin",
          "ZCC Coin",
          "BurstCoin",
          "StorjCoin",
          "Neutron",
          "FairCoin",
          "RubyCoin",
          "Kore",
          "Dnotes",
          "8BIT Coin",
          "Sativa Coin",
          "Ucoin",
          "Vtorrent",
          "IslaCoin",
          "Nexus",
          "Droidz",
          "Squall Coin",
          "Diggits",
          "Paycon",
          "Emercoin",
          "EverGreenCoin",
          "Decred",
          "EDRCoin",
          "Hitcoin",
          "DubaiCoin",
          "PWR Coin",
          "BillaryCoin",
          "GPU Coin",
          "EuropeCoin",
          "ZeitCoin",
          "SwingCoin",
          "SafeExchangeCoin",
          "Nebuchadnezzar",
          "Ratecoin",
          "Revenu",
          "Clockcoin",
          "VIP Tokens",
          "BitSend",
          "Let it Ride",
          "PutinCoin",
          "iBankCoin",
          "Frankywillcoin",
          "MudraCoin",
          "Lutetium Coin",
          "GoldBlocks",
          "CarterCoin",
          "BitTokens",
          "MustangCoin",
          "ZoneCoin",
          "RootCoin",
          "BitCurrency",
          "Swiscoin",
          "BuzzCoin",
          "Opair",
          "PesoBit",
          "Halloween Coin",
          "CoffeeCoin",
          "RoyalCoin",
          "GanjaCoin V2",
          "TeamUP",
          "LanaCoin",
          "ARK",
          "InsaneCoin",
          "EmberCoin",
          "XenixCoin",
          "FreeCoin",
          "PLNCoin",
          "AquariusCoin",
          "Creatio",
          "Eternity",
          "Eurocoin",
          "BitcoinFast",
          "Stakenet",
          "BitConnect Coin",
          "MoneyCoin",
          "Enigma",
          "Russiacoin",
          "PandaCoin",
          "GameUnits",
          "GAKHcoin",
          "Allsafe",
          "LiteCreed",
          "Klingon Empire Darsek",
          "Internet of People",
          "KushCoin",
          "Printerium",
          "Impeach",
          "Zilbercoin",
          "FirstCoin",
          "FindCoin",
          "OpenChat",
          "RenosCoin",
          "VirtacoinPlus",
          "TajCoin",
          "Impact",
          "Atmos",
          "HappyCoin",
          "MacronCoin",
          "Condensate",
          "Independent Money System",
          "ArgusCoin",
          "LomoCoin",
          "ProCurrency",
          "GoldReserve",
          "GrowthCoin",
          "Phreak",
          "Degas Coin",
          "HTML5 Coin",
          "Ultimate Secure Cash",
          "QTUM",
          "Espers",
          "Denarius",
          "Virta Unique Coin",
          "Bitcoin Planet",
          "BritCoin",
          "Linda",
          "DeepOnion",
          "Signatum",
          "Cream",
          "Monoeci",
          "Draftcoin",
          "Vechain",
          "Stakecoin",
          "CoinonatX",
          "Ethereum Dark",
          "Obsidian",
          "Cardano",
          "Regalcoin",
          "TrezarCoin",
          "TerraNovaCoin",
          "Rupee",
          "WomenCoin",
          "Theresa May Coin",
          "NamoCoin",
          "LUXCoin",
          "Xios",
          "Bitcloud 2.0",
          "KekCoin",
          "BlackholeCoin",
          "Infinity Economics",
          "Magnet",
          "Lamden Tau",
          "Electra",
          "Bitcoin Diamond",
          "Cash & Back Coin",
          "Bulwark",
          "Kalkulus",
          "GermanCoin",
          "LiteCoin Ultra",
          "PhantomX",
          "Digiwage",
          "Trollcoin",
          "Litecoin Plus",
          "Monkey Project",
          "TokenPay",
          "My Big Coin",
          "Unified Society USDEX",
          "Tokyo Coin",
          "Stipend",
          "Pushi",
          "Ellerium",
          "Velox",
          "Ontology",
          "Bitspace",
          "Briacoin",
          "Ignition",
          "MedicCoin",
          "Bitcoin Green",
          "Deviant Coin",
          "Abjcoin",
          "Semux",
          "Carebit",
          "Zealium",
          "Proton",
          "iDealCash",
          "Bitcoin Incognito",
          "HollyWoodCoin",
          "Swisscoin",
          "Xt3ch",
          "TheVig",
          "EmaratCoin",
          "Dekado",
          "Lynx",
          "Poseidon Quark",
          "BitcoinWSpectrum",
          "Muse",
          "Trivechain",
          "Dystem",
          "Giant",
          "Peony Coin",
          "Absolute Coin",
          "Vitae",
          "TPCash",
          "ARENON",
          "EUNO",
          "MMOCoin",
          "Ketan",
          "XDNA",
          "PAXEX",
          "ThunderStake",
          "Kcash",
          "Bettex coin",
          "BitMoney",
          "Junson Ming Chan Coin",
          "HerbCoin",
          "Oduwa",
          "Galilel",
          "Crypto Sports",
          "Credit",
          "Dash Platinum",
          "Nasdacoin",
          "Beetle Coin",
          "Titan Coin",
          "Award",
          "Insane Coin",
          "ALAX",
          "LiteDoge",
          "TruckCoin",
          "OrangeCoin",
          "BitstarCoin",
          "NeosCoin",
          "HyperCoin",
          "PinkCoin",
          "AudioCoin",
          "IncaKoin",
          "Piggy Coin",
          "Genstake",
          "XiaoMiCoin",
          "CapriCoin",
          " ClubCoin",
          "Radium",
          "Creditbit ",
          "OKCash",
          "Lisk",
          "HiCoin",
          "WhiteCoin",
          "FriendshipCoin",
          "Triangles Coin",
          "EOS",
          "Oxycoin",
          "TigerCash",
          "Particl",
          "Nxt",
          "ZEPHYR",
          "Gapcoin",
          "BitcoinPlus"
         ],
         "legendgroup": "0",
         "marker": {
          "color": [
           0,
           0,
           0,
           0,
           0,
           0,
           0,
           0,
           0,
           0,
           0,
           0,
           0,
           0,
           0,
           0,
           0,
           0,
           0,
           0,
           0,
           0,
           0,
           0,
           0,
           0,
           0,
           0,
           0,
           0,
           0,
           0,
           0,
           0,
           0,
           0,
           0,
           0,
           0,
           0,
           0,
           0,
           0,
           0,
           0,
           0,
           0,
           0,
           0,
           0,
           0,
           0,
           0,
           0,
           0,
           0,
           0,
           0,
           0,
           0,
           0,
           0,
           0,
           0,
           0,
           0,
           0,
           0,
           0,
           0,
           0,
           0,
           0,
           0,
           0,
           0,
           0,
           0,
           0,
           0,
           0,
           0,
           0,
           0,
           0,
           0,
           0,
           0,
           0,
           0,
           0,
           0,
           0,
           0,
           0,
           0,
           0,
           0,
           0,
           0,
           0,
           0,
           0,
           0,
           0,
           0,
           0,
           0,
           0,
           0,
           0,
           0,
           0,
           0,
           0,
           0,
           0,
           0,
           0,
           0,
           0,
           0,
           0,
           0,
           0,
           0,
           0,
           0,
           0,
           0,
           0,
           0,
           0,
           0,
           0,
           0,
           0,
           0,
           0,
           0,
           0,
           0,
           0,
           0,
           0,
           0,
           0,
           0,
           0,
           0,
           0,
           0,
           0,
           0,
           0,
           0,
           0,
           0,
           0,
           0,
           0,
           0,
           0,
           0,
           0,
           0,
           0,
           0,
           0,
           0,
           0,
           0,
           0,
           0,
           0,
           0,
           0,
           0,
           0,
           0,
           0,
           0,
           0,
           0,
           0,
           0,
           0,
           0,
           0,
           0,
           0,
           0,
           0,
           0,
           0,
           0,
           0,
           0,
           0,
           0,
           0,
           0,
           0,
           0,
           0,
           0,
           0,
           0,
           0,
           0,
           0,
           0,
           0,
           0,
           0,
           0,
           0,
           0,
           0,
           0,
           0,
           0,
           0,
           0,
           0,
           0,
           0,
           0,
           0,
           0,
           0,
           0,
           0,
           0,
           0,
           0,
           0,
           0,
           0,
           0,
           0,
           0,
           0,
           0,
           0,
           0,
           0,
           0,
           0,
           0,
           0,
           0,
           0,
           0,
           0,
           0,
           0,
           0,
           0,
           0,
           0,
           0,
           0,
           0,
           0,
           0,
           0,
           0,
           0,
           0,
           0,
           0,
           0,
           0,
           0,
           0,
           0,
           0,
           0,
           0,
           0,
           0,
           0,
           0,
           0,
           0
          ],
          "coloraxis": "coloraxis",
          "symbol": "circle"
         },
         "mode": "markers",
         "name": "0",
         "scene": "scene",
         "showlegend": true,
         "type": "scatter3d",
         "x": [
          -0.32863746529336646,
          -0.31191437655271803,
          2.316108813808969,
          -0.39646863458671666,
          -0.3372440752164429,
          -0.3197151547642947,
          -0.2595880185741092,
          -0.22780173277470944,
          -0.3282958232916604,
          -0.32084530763588676,
          -0.3271283556561001,
          -0.3286333881012897,
          -0.3286176117795095,
          0.6640969475984834,
          -0.3839697483010847,
          -0.3253047646795452,
          -0.2346033416099432,
          -0.3266893863891248,
          -0.31608886416938986,
          -0.39636293279949214,
          -0.4819098788503925,
          -0.0074481554182882085,
          -0.28289240239166613,
          -0.2682605796402666,
          -0.2763429357021535,
          -0.27696749567517487,
          -0.3656509360125249,
          -0.3229198713684938,
          -0.3270335608269912,
          0.030857266551092992,
          -0.33605061318190677,
          -0.39673582086193315,
          -0.2335684617515223,
          -0.3027232410648178,
          -0.39664716658545807,
          -0.3037823465574602,
          -0.32731026391753393,
          -0.2474395823133623,
          -0.3966114904319869,
          -0.23403756854872024,
          -0.2767475310812965,
          -0.31971095887336987,
          -0.034388328469091296,
          -0.33558117227865947,
          -0.318924074598107,
          -0.3833891081079349,
          -0.2682406998732363,
          -0.27704321519716685,
          -0.2628765316923936,
          -0.32861946607644266,
          -0.27699521199337873,
          -0.3364972184191787,
          -0.3283529239520084,
          -0.39671727996171924,
          -0.5724082424191912,
          -0.4015990409104531,
          -0.2794205491144219,
          -0.2666365970760943,
          -0.2765152016051668,
          -0.3122476650730044,
          -0.23025111067351126,
          -0.06918210641230357,
          -0.31968595881581846,
          -0.07307277878473882,
          -0.31974984795505346,
          -0.2452866244846904,
          -0.3282284231913168,
          -0.2665056312890727,
          -0.39387732085273786,
          0.8888612237005479,
          -0.3195492733041367,
          -0.06928200482218344,
          -0.3249869216442723,
          -0.39455242614981906,
          -0.31828880068060045,
          -0.31594943317012064,
          -0.3671041671851403,
          -0.39544824930135314,
          -0.30659380077206466,
          -0.3044431453386407,
          -0.32826667415752303,
          -0.32670000182152414,
          -0.21560629503269504,
          -0.3239432973054303,
          -0.39618939806105224,
          -0.3274680764204896,
          -0.31973076999765054,
          -0.39670644271884253,
          -0.3284564576100549,
          -0.32861367738511066,
          -0.26649428549493154,
          -0.2375460595280836,
          0.0012935892015382327,
          -0.3239402763597172,
          -0.3282263764496827,
          -0.3828225390660257,
          -0.3232662428654044,
          -0.21704151334700508,
          -0.46019225623179544,
          -0.3230152795304981,
          -0.31437069812019897,
          3.626480798502781,
          -0.3962975543834763,
          0.8594456822505894,
          -0.39666118557700203,
          -0.3244056823585987,
          -0.3281538121138108,
          -0.32830873514994685,
          -0.3249869216442723,
          -0.39623470997350146,
          -0.31959292008886553,
          -0.3281545285313163,
          -0.3794533315963107,
          -0.32830245601536806,
          -0.3238763171269985,
          -0.3966902935871841,
          -0.32751064211426106,
          0.3773109062298143,
          -0.3285024248875379,
          -0.32857322387944304,
          -0.32309953859201146,
          -0.36242157556799787,
          -0.32478772374912124,
          -0.3197070945792984,
          -0.3965999223332642,
          -0.3283502628227353,
          -0.3284777033519379,
          -0.2681470773167042,
          -0.27760586848631447,
          -0.21680853854658957,
          -0.3092628232513131,
          -0.26788714742503145,
          -0.39586325720513343,
          -0.44396121435787567,
          -0.3945969012912265,
          -0.32322721248935615,
          -0.3957607566148692,
          -0.3176071268188563,
          -0.3916880108629441,
          -0.3284207727233245,
          -0.3284199892881339,
          -0.32151962125966743,
          0.2747874761451073,
          -0.396240802425385,
          -0.2507314091872714,
          -0.32502138556210214,
          -0.3276288151853554,
          0.9080488403767911,
          -0.25827423458903265,
          -0.3053678029868551,
          0.5562357058872838,
          -0.3686452972989747,
          -0.36714230796353414,
          -0.4310918268408139,
          -0.27667919658832596,
          0.13786555327381925,
          -0.27675019176161353,
          -0.31457519940288003,
          -0.4305948416965142,
          -0.3965140934407039,
          -0.2682214089531834,
          4.449433341338426,
          -0.32488728148803153,
          -0.32805469912338403,
          -0.32855609260710894,
          -0.39551347496928374,
          0.681718336635522,
          -0.3964547678217275,
          -0.36063287419091206,
          -0.32851158640042044,
          -0.31018036338744953,
          0.4434104614669729,
          -0.31804743387590884,
          -0.35335936450476524,
          -0.39850950598543206,
          -0.3284617586537334,
          -0.38159964148880493,
          -0.2543697254954415,
          -0.3283316433915938,
          -0.08545222735760803,
          -0.39524332900558273,
          3.6313536508074016,
          0.19284060978132408,
          -0.2734092324885271,
          -0.3257831034510509,
          -0.3083446047216793,
          -0.322985031381256,
          0.0871775844387013,
          -0.3274674625628304,
          -0.3958262885363724,
          -0.3221470133416645,
          -0.3149892537869577,
          -0.3285783069155955,
          -0.33646904586020165,
          -0.30687674827985334,
          -0.2501599820430204,
          -0.3241076454080116,
          -0.20857644217543722,
          -0.38611605081157485,
          -0.3965314656617098,
          -0.232698169165886,
          -0.2673786456345206,
          -0.3094452952251348,
          -0.36824290263805254,
          -0.32860576097008865,
          -0.32858741087519283,
          -0.2617403521173824,
          -0.31156648015668775,
          -0.32448031268202004,
          -0.32830295080187843,
          3.8158516856227056,
          -0.38026263825039636,
          -0.32466966237093325,
          -0.2843190091241771,
          -0.2749925323174156,
          -0.11553568440280912,
          -0.2679144979391066,
          -0.131016108978043,
          -0.268167579820766,
          -0.3799029340076684,
          -0.32777521100388357,
          -0.16952922685703936,
          2.312840458497549,
          -0.3186792699337627,
          -0.25840204464397043,
          0.9802403906850358,
          -0.34371661133265075,
          -0.3230989961403985,
          -0.3832893750223184,
          -0.14851556133649754,
          -0.3701718976553198,
          -0.32181400761704926,
          -0.3214594862755101,
          -0.33604499278426087,
          -0.3960029125903271,
          -0.2654035151701495,
          -0.32376657673406006,
          -0.3617078323678498,
          -0.33590602625305593,
          -0.18762848308543467,
          -0.5488732820689811,
          -0.1726277896276685,
          0.7708258699875917,
          -0.12562835674394102,
          -0.38258153437751435,
          -0.3283069040800618,
          -0.3830392366298879,
          -0.32321638427994476,
          0.5813322026071179,
          -0.3365235608267766,
          -0.32778812155664966,
          -0.2271345923880771,
          -0.3344711221496443,
          -0.3935598255377713,
          -0.3962309280810652,
          3.6436396026608007,
          0.10812693416809646,
          -0.3937611732627563,
          -0.3271717476095776,
          -0.32799928357880076,
          -0.2596208050029497,
          -0.3285193593808468,
          -0.38782901199331254,
          -0.24193782175391643,
          -0.09854260914223335,
          -0.3835632905941734,
          -0.3277950146379773,
          -0.3208346763296009,
          -0.3927872894778731,
          -0.3262288842065656,
          -0.3252635494139166,
          -0.37606105054317324,
          -0.3182249404595412,
          3.626873954039166,
          -0.07476179583471594,
          -0.32341362563177345,
          -0.3652756035579617,
          -0.27715077734876337,
          3.636779825315594,
          3.6380286545878247,
          -0.2404493700813003,
          -0.32519917251126546,
          -0.3398604418648184,
          2.4233015576755452,
          -0.32667643939547436,
          -0.268565375983385
         ],
         "y": [
          1.021445136048448,
          1.0213349736137172,
          1.5880804030789708,
          1.2537284451664479,
          1.7328243651553445,
          0.849653453339728,
          0.5777429442225999,
          1.8609879501583466,
          1.0214384718780627,
          1.0215792386202907,
          1.0214711077612686,
          1.0214448322201062,
          1.0214447297016311,
          0.4330662574701612,
          0.9731334289788933,
          1.47354481922285,
          0.2598172050719746,
          1.0213888956805386,
          0.9821758333027614,
          1.253730264287524,
          2.3423132793467074,
          0.7540203839279891,
          0.848493930854658,
          0.7495197150583889,
          1.7784731802747353,
          1.7784624316371038,
          0.6249102964864088,
          1.0212293520104938,
          1.0213994296911413,
          1.027632017676656,
          0.9818322928648483,
          1.2537403033904075,
          0.06060912815201822,
          1.5705796115905688,
          1.2537343493134503,
          1.020676001580539,
          1.0213931715365538,
          0.15972761294925006,
          1.253738329549572,
          0.06067586044875124,
          1.7784662172138512,
          1.020850704740327,
          0.900783443662397,
          1.575308327868523,
          0.8496326572056326,
          0.9731466982449548,
          0.7495321607331997,
          1.7784521518375145,
          0.7492504497530963,
          1.0214454458452484,
          1.778454474081516,
          0.9818096456979547,
          1.0214350718993428,
          1.2537406232261836,
          2.9727238162657525,
          1.951970661426653,
          0.46819066010158317,
          0.7494849616458363,
          1.7784328127919196,
          0.8490503696454827,
          1.8611879437268941,
          0.8949480523655361,
          0.8496539558001543,
          1.2394496391371372,
          0.8496614589155391,
          1.554272996210297,
          1.0214207573186502,
          0.7493966614170661,
          1.25350224525786,
          0.6953882725591475,
          0.8496428431420574,
          0.4487606521818055,
          1.4735353281623749,
          1.2537217760270767,
          0.849527847272643,
          0.8493419890271191,
          1.5521091989699156,
          1.2536584833864735,
          1.3932030775917872,
          1.0203654068951438,
          1.0214183535583061,
          1.0214036741086265,
          1.506416442969531,
          0.9815491862458633,
          1.2537123052427848,
          1.021397936152864,
          0.8496539326584998,
          1.2537385655665967,
          1.021432542035686,
          1.0214455454682603,
          0.7495622164141884,
          0.18576095525987543,
          2.0228686008192103,
          1.4735129458401985,
          1.021452210892862,
          1.2528576669125207,
          1.4735499798926184,
          1.506539483910569,
          2.0671447443911983,
          1.473359056276378,
          2.026782249444876,
          2.332816668891016,
          1.2537254049983249,
          1.7973841829925556,
          1.2537387061029721,
          1.473522889575205,
          1.0214246296441634,
          1.0214193751549223,
          1.4735353281623749,
          1.253704044868133,
          0.8496570531026613,
          1.0214287615446291,
          0.7012991309819114,
          1.0214299560017368,
          1.0210403451788879,
          1.2537373473802307,
          1.021356808578644,
          0.7363190859798212,
          1.0214377353893513,
          1.0214437612748422,
          1.3396867324706203,
          0.6062495749394503,
          1.0211373619131328,
          0.8496543401109523,
          1.2537356456281865,
          1.0214351176972094,
          1.0214314782125073,
          0.749492628894203,
          0.25709760620847727,
          1.5065344982232027,
          1.0210305164935316,
          0.7495124924578943,
          1.2536805153087658,
          2.141567036929326,
          1.2536948286544416,
          1.4734980706514245,
          1.2536822793374407,
          1.473378072703385,
          1.2534531486540605,
          1.0214329974919532,
          1.021427484427976,
          1.020819577775058,
          0.5308446671051825,
          1.2537189011364298,
          0.7483373826175964,
          1.4735272544810254,
          1.0213839490096308,
          1.8134726507240957,
          0.5776252308848712,
          1.3931744312154233,
          2.057197392626042,
          1.5521425206941675,
          1.5520861008910183,
          2.059994550807329,
          1.7784449515676413,
          0.9920708260019151,
          1.7784520345220087,
          1.3914650004075886,
          2.060003103890228,
          1.2537370080827146,
          0.7495194721482312,
          1.7519934233444554,
          1.473505923861806,
          1.021419070253069,
          1.0214433946636556,
          1.7344466166152348,
          1.4228214278156337,
          1.2537249435328475,
          0.6247002548037294,
          1.0214355330342793,
          0.6674095825327135,
          1.0160306333064772,
          0.8496238063465998,
          1.5515154040497139,
          1.8435591812181722,
          1.0214324508050594,
          1.6114939589085187,
          1.2552131454747784,
          1.0214393367975985,
          0.5740166573208634,
          1.2536582697720504,
          2.3326200093895615,
          1.539371459687671,
          1.7783665773718957,
          1.0213371677170422,
          1.2802146392902225,
          1.3396849628527223,
          0.991198489264306,
          1.02135306336029,
          1.2537185543347371,
          1.3396245794951371,
          1.0210067705812558,
          1.0214431619680018,
          0.9818093824899623,
          1.3932045665586534,
          0.2205823667130116,
          1.02134954501308,
          1.5060885927223115,
          0.9225579228139318,
          1.2537251196797732,
          1.1828396043304596,
          0.7494542376942707,
          1.374901041523605,
          1.5521195236428131,
          1.0214434375414105,
          1.0214422572334823,
          0.7492700033317182,
          1.5252976713823692,
          1.4734931790659445,
          1.0214284513745913,
          2.305642285991882,
          1.611516968649685,
          1.4734959048173775,
          0.5862628842321917,
          1.0185368558954349,
          0.397316505021307,
          0.7495183251931428,
          1.0172160164281208,
          0.7495005046628593,
          2.031194546179001,
          1.0213971387218124,
          1.5892329109871137,
          0.15927677008585844,
          1.339287789486129,
          0.5776977037192519,
          1.8837023138221278,
          0.8581649681839124,
          1.339682253470476,
          1.6116106366551664,
          0.7389654383516756,
          0.9393082122872896,
          1.3396452716216036,
          1.0208206126943316,
          0.9817912465142641,
          1.2537155146459402,
          0.7493864939553777,
          1.4734141995905128,
          1.0377405711459755,
          0.9817599756017069,
          1.0104068846372372,
          2.3886555155894498,
          0.9109284924629164,
          0.3296006547226314,
          0.985453646588816,
          1.6115862767627704,
          1.0214351158424777,
          1.6116045547649551,
          1.3396859408949204,
          0.9811510714170497,
          0.9818094167635715,
          1.0213969165320163,
          1.1826062085167228,
          2.028310950630441,
          1.253480779317934,
          1.253726551632775,
          2.332457421868656,
          1.0027798655043612,
          1.2537914976354976,
          1.0213207497984107,
          1.0214155325341414,
          0.5777360214946543,
          1.0214471686751478,
          1.2535195617805224,
          1.0150826439819851,
          0.8533341454609211,
          1.2532189466007835,
          1.021448413763101,
          1.021280199204232,
          1.2536526624761497,
          1.0213668986559565,
          1.4735387960314108,
          0.8495631001856655,
          0.849617011189771,
          2.332797314156031,
          0.7453747513805314,
          1.0213106212449032,
          0.6248745669662523,
          1.7784591876043792,
          2.3330874214848483,
          2.3331089137576346,
          0.5773336139015925,
          1.4735401776375843,
          1.7414588751601898,
          1.026081248751894,
          1.021291871223926,
          0.7495258250219292
         ],
         "z": [
          -0.5445531290988612,
          -0.5448090360901943,
          -0.7242463700619584,
          -0.467399920486351,
          -0.219782806938279,
          -0.37282876669936205,
          -0.09668230098581995,
          -0.6623903289864504,
          -0.5445579920032675,
          -0.544687709212692,
          -0.5445791932741602,
          -0.5445531685785499,
          -0.5445534101139383,
          -0.2089189119291907,
          -0.3422236324897234,
          -0.0617762315925304,
          -0.2164997821028961,
          -0.5445793489662936,
          -0.1916040161089318,
          -0.46740174608574,
          -0.29282156309593793,
          -0.27291493915265164,
          -0.3733163971246423,
          -0.2684093877363583,
          -0.6989123683650083,
          -0.6989015814489403,
          -0.27966666559000736,
          -0.5446258884973024,
          -0.5445747660569212,
          -0.5507620436438853,
          -0.19125925224243537,
          -0.46739666719500406,
          -0.0449518523953225,
          -0.3242823275997154,
          -0.46739757960445955,
          -0.5448833961924895,
          -0.5445698632913931,
          -0.33185034775988326,
          -0.4673984742445355,
          -0.0449499385502756,
          -0.6989053805070204,
          -0.5446454187640263,
          0.0319883866307102,
          -0.3948303403598028,
          -0.3728395830492948,
          -0.3422339319007166,
          -0.26841073233573215,
          -0.6988995310955073,
          -0.2684724370725355,
          -0.5445534399699998,
          -0.6989004839337438,
          -0.1912503011818827,
          -0.5445568058382718,
          -0.46739698748095304,
          0.3365231242685199,
          -0.8539627075832185,
          0.04879079506027293,
          -0.26843224895251805,
          -0.6989062990196779,
          -0.3728972187600624,
          -0.662368056569382,
          -0.3365831747367722,
          -0.37282927094916857,
          -0.47134375639865006,
          -0.37282887914892543,
          -0.5959782707428789,
          -0.5445575947140517,
          -0.268427019908109,
          -0.4674222743507804,
          -0.2822689783237864,
          -0.3728305177986965,
          -0.19859494974113542,
          -0.061780483490396956,
          -0.46742973600595095,
          -0.3728409803093915,
          -0.372862678658758,
          -0.5938687631219289,
          -0.46741030359170965,
          -0.12123113113761855,
          -0.5448472305710694,
          -0.5445567896815828,
          -0.5445804032656041,
          -0.4227634652529459,
          -0.19142770392240363,
          -0.4674030105461505,
          -0.5445677564965029,
          -0.37282855888718897,
          -0.4673969890072919,
          -0.5445549558030862,
          -0.5445535399477927,
          -0.26844089505209495,
          -0.41015491540960614,
          -0.7444986307387236,
          -0.061795218706757374,
          -0.5445602291095445,
          -0.46754414362005137,
          -0.061808964086896886,
          -0.42275089896953366,
          -0.9097253074479782,
          -0.0617971473119923,
          -0.7398198759133879,
          -0.1297599253857178,
          -0.4674023801947644,
          -0.7184762298525144,
          -0.46739771784798617,
          -0.06178866574385419,
          -0.5445590974506535,
          -0.5445562076281127,
          -0.061780483490396956,
          -0.4674016091334795,
          -0.3728310016060762,
          -0.5445594279037566,
          -0.10614205060247434,
          -0.5445571824250465,
          -0.5445950958055961,
          -0.46739714415850075,
          -0.544563679704553,
          -0.27754811018228936,
          -0.5445546569482105,
          -0.5445540334416133,
          -0.28282857591123917,
          -0.2875134293259317,
          -0.5445886778344845,
          -0.37282896779067537,
          -0.46739843554638655,
          -0.5445568517992354,
          -0.5445545311065378,
          -0.2684089457997078,
          -0.31646495263845675,
          -0.4227541786151342,
          -0.5448258708693244,
          -0.26841470824240665,
          -0.46740554929629297,
          -0.7079779753182701,
          -0.4674268019942959,
          -0.06180528849243049,
          -0.4674073196070908,
          -0.061884426414311904,
          -0.46745290810022505,
          -0.5445555589983274,
          -0.544555115352176,
          -0.5446141809482867,
          -0.10127124099021816,
          -0.4674027415502063,
          -0.2685893751580533,
          -0.06177926943588591,
          -0.5445640521104375,
          -0.676460135202419,
          -0.09669338355183864,
          -0.12124819046592102,
          -0.8229474124390276,
          -0.593847096479714,
          -0.593866247922694,
          -0.6131077341929339,
          -0.6989047042661959,
          -0.5495161057920602,
          -0.6989041650953743,
          -0.12760622475936265,
          -0.6131163177353798,
          -0.46739990843181295,
          -0.2684099884014735,
          3.486360428182906,
          -0.06177963010721979,
          -0.5445602082550605,
          -0.5445542746028972,
          -0.218993578321256,
          -0.11590753463906636,
          -0.46739985057216243,
          -0.27972881414534956,
          -0.5445543295734293,
          -0.025379495581057593,
          -0.5563402918156481,
          -0.3728527434834609,
          -0.5940374636406256,
          -0.5999521201166007,
          -0.5445548642475658,
          -0.558992282185179,
          -0.07963101834273636,
          -0.5445574958917505,
          -0.0991336746345891,
          -0.4674135334061168,
          -0.12982087975050965,
          -0.601688803703441,
          -0.6989500417856737,
          -0.5445894321994255,
          -0.3177019441085146,
          -0.28283024418087604,
          -0.5486406624574353,
          -0.5445640541760671,
          -0.46740928189259484,
          -0.28283852957514216,
          -0.5447331566010098,
          -0.5445539033109766,
          -0.19125072587445657,
          -0.12122677028479178,
          -0.2166054314504768,
          -0.5446170080080088,
          -0.4228477502010527,
          -0.40075076096834383,
          -0.4673986496705646,
          -0.301836216203251,
          -0.2684179476956068,
          -0.42002449574273365,
          -0.5938515710469279,
          -0.5445534910278552,
          -0.5445536841923969,
          -0.26849206028606615,
          -0.2561487855072259,
          -0.06178502526912811,
          -0.5445570501153933,
          -0.10524738252161381,
          -0.5590153738694649,
          -0.06178225002430611,
          -0.06712593932876762,
          -0.545162686030654,
          0.21435147153272308,
          -0.2684147573097735,
          -0.5473350952629059,
          -0.26840927239879925,
          -0.7391463522983899,
          -0.5445628231981366,
          -0.38622733298692236,
          -0.3296437889634142,
          -0.2828656242709903,
          -0.09669735330444115,
          -0.15531379758426175,
          -0.34328326940949566,
          -0.28282821398779207,
          -0.5589751560704292,
          -0.26943396332304126,
          -0.30152712754716954,
          -0.28284551863290647,
          -0.5446152195531524,
          -0.19125594580128927,
          -0.46740623137874865,
          -0.2684436446613561,
          -0.06178980275445639,
          -0.5597073793556879,
          -0.19125556123169046,
          -0.5458746502632782,
          -0.2750630131156013,
          -0.025688801173800957,
          0.3087659000865173,
          -0.1948935024617438,
          -0.5589843584698893,
          -0.5445575387758111,
          -0.5589786170348965,
          -0.2828266587107543,
          -0.5556406436112048,
          -0.1912498647808363,
          -0.5445626002170699,
          -0.30190507789338755,
          -0.739627793356222,
          -0.4674255301304218,
          -0.4674035309126507,
          -0.130002132173266,
          -0.5499307140258357,
          -0.4674480430660458,
          -0.5445660674335873,
          -0.5445607938022783,
          -0.09668120872666243,
          -0.5445551689353032,
          -0.4675195577395061,
          -0.5454007767476793,
          -0.37663829140321703,
          -0.4675622909543571,
          -0.5445667510259946,
          -0.5446631400116506,
          -0.46745199176770535,
          -0.544584827121611,
          -0.06177638649229624,
          -0.12460623116872174,
          -0.3728493683170368,
          -0.12976455484171345,
          -0.27113298291143473,
          -0.5446247866011497,
          -0.2796696580090612,
          -0.6988984085239996,
          -0.12994553745439108,
          -0.12996710626623276,
          -0.09695174038141877,
          -0.06177752100045646,
          0.43784471736550845,
          -0.07164503059387989,
          -0.544571527911302,
          -0.2684050628994111
         ]
        },
        {
         "customdata": [
          [
           "SHA-256"
          ],
          [
           "Ethash"
          ],
          [
           "Scrypt"
          ],
          [
           "CryptoNight-V7"
          ],
          [
           "Ethash"
          ],
          [
           "Equihash"
          ],
          [
           "Multiple"
          ],
          [
           "Scrypt"
          ],
          [
           "X11"
          ],
          [
           "Scrypt"
          ],
          [
           "Multiple"
          ],
          [
           "Scrypt"
          ],
          [
           "SHA-256"
          ],
          [
           "Scrypt"
          ],
          [
           "Scrypt"
          ],
          [
           "Quark"
          ],
          [
           "Groestl"
          ],
          [
           "Scrypt"
          ],
          [
           "Scrypt"
          ],
          [
           "Scrypt"
          ],
          [
           "X11"
          ],
          [
           "Multiple"
          ],
          [
           "SHA-256"
          ],
          [
           "Scrypt"
          ],
          [
           "Scrypt"
          ],
          [
           "Scrypt"
          ],
          [
           "Scrypt"
          ],
          [
           "Scrypt"
          ],
          [
           "NeoScrypt"
          ],
          [
           "Scrypt"
          ],
          [
           "Scrypt"
          ],
          [
           "Scrypt"
          ],
          [
           "Scrypt"
          ],
          [
           "SHA-256"
          ],
          [
           "Scrypt"
          ],
          [
           "Scrypt"
          ],
          [
           "Scrypt"
          ],
          [
           "Scrypt"
          ],
          [
           "HybridScryptHash256"
          ],
          [
           "Scrypt"
          ],
          [
           "Scrypt"
          ],
          [
           "SHA-256"
          ],
          [
           "Scrypt"
          ],
          [
           "Scrypt"
          ],
          [
           "Scrypt"
          ],
          [
           "Scrypt"
          ],
          [
           "SHA-256"
          ],
          [
           "SHA-256"
          ],
          [
           "SHA-256"
          ],
          [
           "SHA-256"
          ],
          [
           "SHA-256"
          ],
          [
           "X11"
          ],
          [
           "Scrypt"
          ],
          [
           "Lyra2REv2"
          ],
          [
           "Scrypt"
          ],
          [
           "SHA-256"
          ],
          [
           "CryptoNight"
          ],
          [
           "CryptoNight"
          ],
          [
           "Scrypt"
          ],
          [
           "Scrypt"
          ],
          [
           "Scrypt"
          ],
          [
           "Scrypt"
          ],
          [
           "Scrypt"
          ],
          [
           "Scrypt"
          ],
          [
           "Stanford Folding"
          ],
          [
           "Multiple"
          ],
          [
           "QuBit"
          ],
          [
           "Scrypt"
          ],
          [
           "Scrypt"
          ],
          [
           "M7 POW"
          ],
          [
           "Scrypt"
          ],
          [
           "SHA-256"
          ],
          [
           "Scrypt"
          ],
          [
           "X11"
          ],
          [
           "Lyra2RE"
          ],
          [
           "SHA-256"
          ],
          [
           "X11"
          ],
          [
           "Scrypt"
          ],
          [
           "Scrypt"
          ],
          [
           "Ethash"
          ],
          [
           "Blake2b"
          ],
          [
           "X11"
          ],
          [
           "SHA-256"
          ],
          [
           "Scrypt"
          ],
          [
           "1GB AES Pattern Search"
          ],
          [
           "Scrypt"
          ],
          [
           "SHA-256"
          ],
          [
           "X11"
          ],
          [
           "Dagger"
          ],
          [
           "Scrypt"
          ],
          [
           "X11GOST"
          ],
          [
           "Scrypt"
          ],
          [
           "X11"
          ],
          [
           "Scrypt"
          ],
          [
           "X11"
          ],
          [
           "Equihash"
          ],
          [
           "CryptoNight"
          ],
          [
           "SHA-256"
          ],
          [
           "Multiple"
          ],
          [
           "Scrypt"
          ],
          [
           "SHA-256"
          ],
          [
           "Scrypt"
          ],
          [
           "Lyra2Z"
          ],
          [
           "Ethash"
          ],
          [
           "Equihash"
          ],
          [
           "Scrypt"
          ],
          [
           "X11"
          ],
          [
           "X11"
          ],
          [
           "CryptoNight"
          ],
          [
           "Scrypt"
          ],
          [
           "CryptoNight"
          ],
          [
           "Lyra2RE"
          ],
          [
           "X11"
          ],
          [
           "CryptoNight-V7"
          ],
          [
           "Scrypt"
          ],
          [
           "X11"
          ],
          [
           "Equihash"
          ],
          [
           "Scrypt"
          ],
          [
           "Lyra2RE"
          ],
          [
           "Dagger-Hashimoto"
          ],
          [
           "Scrypt"
          ],
          [
           "NIST5"
          ],
          [
           "Scrypt"
          ],
          [
           "SHA-256"
          ],
          [
           "Scrypt"
          ],
          [
           "CryptoNight-V7"
          ],
          [
           "Argon2d"
          ],
          [
           "Blake2b"
          ],
          [
           "Cloverhash"
          ],
          [
           "CryptoNight"
          ],
          [
           "X11"
          ],
          [
           "Scrypt"
          ],
          [
           "Scrypt"
          ],
          [
           "X11"
          ],
          [
           "X11"
          ],
          [
           "CryptoNight"
          ],
          [
           "Time Travel"
          ],
          [
           "Scrypt"
          ],
          [
           "Keccak"
          ],
          [
           "X11"
          ],
          [
           "SHA-256"
          ],
          [
           "Scrypt"
          ],
          [
           "Scrypt"
          ],
          [
           "Scrypt"
          ],
          [
           "Scrypt"
          ],
          [
           "Scrypt"
          ],
          [
           "Scrypt"
          ],
          [
           "CryptoNight"
          ],
          [
           "Equihash"
          ],
          [
           "X11"
          ],
          [
           "NeoScrypt"
          ],
          [
           "Equihash"
          ],
          [
           "Dagger"
          ],
          [
           "Scrypt"
          ],
          [
           "X11"
          ],
          [
           "NeoScrypt"
          ],
          [
           "Ethash"
          ],
          [
           "NeoScrypt"
          ],
          [
           "Multiple"
          ],
          [
           "CryptoNight"
          ],
          [
           "CryptoNight"
          ],
          [
           "Ethash"
          ],
          [
           "X11"
          ],
          [
           "CryptoNight-V7"
          ],
          [
           "Scrypt"
          ],
          [
           "BLAKE256"
          ],
          [
           "X11"
          ],
          [
           "NeoScrypt"
          ],
          [
           "NeoScrypt"
          ],
          [
           "Scrypt"
          ],
          [
           "X11"
          ],
          [
           "SHA-256"
          ],
          [
           "C11"
          ],
          [
           "Ethash"
          ],
          [
           "CryptoNight"
          ],
          [
           "SkunkHash"
          ],
          [
           "CryptoNight"
          ],
          [
           "Scrypt"
          ],
          [
           "Dagger"
          ],
          [
           "Lyra2REv2"
          ],
          [
           "Scrypt"
          ],
          [
           "Scrypt"
          ],
          [
           "X11"
          ],
          [
           "Ethash"
          ],
          [
           "CryptoNight"
          ],
          [
           "Scrypt"
          ],
          [
           "IMesh"
          ],
          [
           "Equihash"
          ],
          [
           "Lyra2Z"
          ],
          [
           "X11"
          ],
          [
           "CryptoNight"
          ],
          [
           "NIST5"
          ],
          [
           "Lyra2RE"
          ],
          [
           "Tribus"
          ],
          [
           "Lyra2Z"
          ],
          [
           "CryptoNight"
          ],
          [
           "CryptoNight Heavy"
          ],
          [
           "CryptoNight"
          ],
          [
           "Jump Consistent Hash"
          ],
          [
           "CryptoNight"
          ],
          [
           "X16R"
          ],
          [
           "HMQ1725"
          ],
          [
           "X11"
          ],
          [
           "Scrypt"
          ],
          [
           "CryptoNight-V7"
          ],
          [
           "Cryptonight-GPU"
          ],
          [
           "XEVAN"
          ],
          [
           "CryptoNight Heavy"
          ],
          [
           "SHA-256"
          ],
          [
           "X11"
          ],
          [
           "X16R"
          ],
          [
           "Equihash"
          ],
          [
           "Lyra2Z"
          ],
          [
           "SHA-256"
          ],
          [
           "CryptoNight"
          ],
          [
           "Blake"
          ],
          [
           "Blake"
          ],
          [
           "Equihash"
          ],
          [
           "Exosis"
          ],
          [
           "Scrypt"
          ],
          [
           "Equihash"
          ],
          [
           "Equihash"
          ],
          [
           "QuBit"
          ],
          [
           "SHA-256"
          ],
          [
           "X13"
          ],
          [
           "SHA-256"
          ],
          [
           "Scrypt"
          ],
          [
           "NeoScrypt"
          ],
          [
           "Blake"
          ],
          [
           "Scrypt"
          ],
          [
           "SHA-256"
          ],
          [
           "Scrypt"
          ],
          [
           "Groestl"
          ],
          [
           "Scrypt"
          ],
          [
           "Scrypt"
          ],
          [
           "Multiple"
          ],
          [
           "Equihash+Scrypt"
          ],
          [
           "Ethash"
          ],
          [
           "CryptoNight"
          ],
          [
           "Equihash"
          ]
         ],
         "hovertemplate": "<b>%{hovertext}</b><br><br>Class=%{marker.color}<br>PC 1=%{x}<br>PC 2=%{y}<br>PC 3=%{z}<br>Algorithm=%{customdata[0]}<extra></extra>",
         "hovertext": [
          "Bitcoin",
          "Ethereum",
          "Litecoin",
          "Monero",
          "Ethereum Classic",
          "ZCash",
          "DigiByte",
          "ProsperCoin",
          "Spreadcoin",
          "Argentum",
          "MyriadCoin",
          "MoonCoin",
          "ZetaCoin",
          "SexCoin",
          "Quatloo",
          "QuarkCoin",
          "Riecoin",
          "Digitalcoin ",
          "Catcoin",
          "CannaCoin",
          "CryptCoin",
          "Verge",
          "DevCoin",
          "EarthCoin",
          "E-Gulden",
          "Einsteinium",
          "Emerald",
          "Franko",
          "FeatherCoin",
          "GrandCoin",
          "GlobalCoin",
          "GoldCoin",
          "Infinite Coin",
          "IXcoin",
          "KrugerCoin",
          "LuckyCoin",
          "Litebar ",
          "MegaCoin",
          "MediterraneanCoin",
          "MinCoin",
          "NobleCoin",
          "Namecoin",
          "NyanCoin",
          "RonPaulCoin",
          "StableCoin",
          "SmartCoin",
          "SysCoin",
          "TigerCoin",
          "TerraCoin",
          "UnbreakableCoin",
          "Unobtanium",
          "UroCoin",
          "ViaCoin",
          "Vertcoin",
          "WorldCoin",
          "JouleCoin",
          "ByteCoin",
          "DigitalNote ",
          "MonaCoin",
          "Gulden",
          "PesetaCoin",
          "Wild Beast Coin",
          "Flo",
          "ArtByte",
          "Folding Coin",
          "Unitus",
          "CypherPunkCoin",
          "OmniCron",
          "GreenCoin",
          "Cryptonite",
          "MasterCoin",
          "SoonCoin",
          "1Credit",
          "MarsCoin ",
          "Crypto",
          "Anarchists Prime",
          "BowsCoin",
          "Song Coin",
          "BitZeny",
          "Expanse",
          "Siacoin",
          "MindCoin",
          "I0coin",
          "Revolution VR",
          "HOdlcoin",
          "Gamecredits",
          "CarpeDiemCoin",
          "Adzcoin",
          "SoilCoin",
          "YoCoin",
          "SibCoin",
          "Francs",
          "BolivarCoin",
          "Omni",
          "PizzaCoin",
          "Komodo",
          "Karbo",
          "ZayedCoin",
          "Circuits of Value",
          "DopeCoin",
          "DollarCoin",
          "Shilling",
          "ZCoin",
          "Elementrem",
          "ZClassic",
          "KiloCoin",
          "ArtexCoin",
          "Kurrent",
          "Cannabis Industry Coin",
          "OsmiumCoin",
          "Bikercoins",
          "HexxCoin",
          "PacCoin",
          "Citadel",
          "BeaverCoin",
          "VaultCoin",
          "Zero",
          "Canada eCoin",
          "Zoin",
          "DubaiCoin",
          "EB3coin",
          "Coinonat",
          "BenjiRolls",
          "ILCoin",
          "EquiTrader",
          "Quantum Resistant Ledger",
          "Dynamic",
          "Nano",
          "ChanCoin",
          "Dinastycoin",
          "DigitalPrice",
          "Unify",
          "SocialCoin",
          "ArcticCoin",
          "DAS",
          "LeviarCoin",
          "Bitcore",
          "gCn Coin",
          "SmartCash",
          "Onix",
          "Bitcoin Cash",
          "Sojourn Coin",
          "NewYorkCoin",
          "FrazCoin",
          "Kronecoin",
          "AdCoin",
          "Linx",
          "Sumokoin",
          "BitcoinZ",
          "Elements",
          "VIVO Coin",
          "Bitcoin Gold",
          "Pirl",
          "eBoost",
          "Pura",
          "Innova",
          "Ellaism",
          "GoByte",
          "SHIELD",
          "UltraNote",
          "BitCoal",
          "DaxxCoin",
          "AC3",
          "Lethean",
          "PopularCoin",
          "Photon",
          "Sucre",
          "SparksPay",
          "GunCoin",
          "IrishCoin",
          "Pioneer Coin",
          "UnitedBitcoin",
          "Interzone",
          "1717 Masonic Commemorative Token",
          "TurtleCoin",
          "MUNcoin",
          "Niobio Cash",
          "ShareChain",
          "Travelflex",
          "KREDS",
          "BitFlip",
          "LottoCoin",
          "Crypto Improvement Fund",
          "Callisto Network",
          "BitTube",
          "Poseidon",
          "Aidos Kuneen",
          "Bitrolium",
          "Alpenschillling",
          "FuturoCoin",
          "Monero Classic",
          "Jumpcoin",
          "Infinex",
          "KEYCO",
          "GINcoin",
          "PlatinCoin",
          "Loki",
          "Newton Coin",
          "MassGrid",
          "PluraCoin",
          "Motion",
          "PlusOneCoin",
          "Axe",
          "HexCoin",
          "Webchain",
          "Ryo",
          "Urals Coin",
          "Qwertycoin",
          "Project Pai",
          "Azart",
          "Xchange",
          "CrypticCoin",
          "Actinium",
          "Bitcoin SV",
          "FREDEnergy",
          "Universal Molecule",
          "Lithium",
          "PirateCash",
          "Exosis",
          "Block-Logic",
          "Beam",
          "Bithereum",
          "SLICE",
          "BLAST",
          "Bitcoin Rhodium",
          "GlobalToken",
          "SolarCoin",
          "UFO Coin",
          "BlakeCoin",
          "Crypto Escudo",
          "Crown Coin",
          "SmileyCoin",
          "Groestlcoin",
          "Bata",
          "Pakcoin",
          "JoinCoin",
          "Vollar",
          "Reality Clash",
          "Beldex",
          "Horizen"
         ],
         "legendgroup": "3",
         "marker": {
          "color": [
           3,
           3,
           3,
           3,
           3,
           3,
           3,
           3,
           3,
           3,
           3,
           3,
           3,
           3,
           3,
           3,
           3,
           3,
           3,
           3,
           3,
           3,
           3,
           3,
           3,
           3,
           3,
           3,
           3,
           3,
           3,
           3,
           3,
           3,
           3,
           3,
           3,
           3,
           3,
           3,
           3,
           3,
           3,
           3,
           3,
           3,
           3,
           3,
           3,
           3,
           3,
           3,
           3,
           3,
           3,
           3,
           3,
           3,
           3,
           3,
           3,
           3,
           3,
           3,
           3,
           3,
           3,
           3,
           3,
           3,
           3,
           3,
           3,
           3,
           3,
           3,
           3,
           3,
           3,
           3,
           3,
           3,
           3,
           3,
           3,
           3,
           3,
           3,
           3,
           3,
           3,
           3,
           3,
           3,
           3,
           3,
           3,
           3,
           3,
           3,
           3,
           3,
           3,
           3,
           3,
           3,
           3,
           3,
           3,
           3,
           3,
           3,
           3,
           3,
           3,
           3,
           3,
           3,
           3,
           3,
           3,
           3,
           3,
           3,
           3,
           3,
           3,
           3,
           3,
           3,
           3,
           3,
           3,
           3,
           3,
           3,
           3,
           3,
           3,
           3,
           3,
           3,
           3,
           3,
           3,
           3,
           3,
           3,
           3,
           3,
           3,
           3,
           3,
           3,
           3,
           3,
           3,
           3,
           3,
           3,
           3,
           3,
           3,
           3,
           3,
           3,
           3,
           3,
           3,
           3,
           3,
           3,
           3,
           3,
           3,
           3,
           3,
           3,
           3,
           3,
           3,
           3,
           3,
           3,
           3,
           3,
           3,
           3,
           3,
           3,
           3,
           3,
           3,
           3,
           3,
           3,
           3,
           3,
           3,
           3,
           3,
           3,
           3,
           3,
           3,
           3,
           3,
           3,
           3,
           3,
           3,
           3,
           3,
           3,
           3,
           3,
           3,
           3,
           3,
           3,
           3,
           3,
           3,
           3,
           3,
           3,
           3,
           3,
           3,
           3,
           3,
           3,
           3,
           3,
           3,
           3,
           3,
           3,
           3,
           3
          ],
          "coloraxis": "coloraxis",
          "symbol": "diamond"
         },
         "mode": "markers",
         "name": "3",
         "scene": "scene",
         "showlegend": true,
         "type": "scatter3d",
         "x": [
          -0.15861683488332204,
          -0.16297580470891584,
          -0.16636563925284606,
          -0.17235399380871405,
          -0.1614127468837377,
          -0.12762639791118405,
          0.1547937728114129,
          -0.1675159866118728,
          -0.2355554826023192,
          -0.16713124050642122,
          -0.09949949954017973,
          2.5631618710640307,
          -0.15569127856395854,
          -0.16437694683539275,
          -0.16693466951473063,
          -0.2175576761948994,
          -0.22193502844118085,
          -0.1669834171773951,
          -0.16749818517142986,
          -0.16758493771498761,
          -0.23564515674132197,
          0.17865125707947677,
          0.2205824509500079,
          0.08203712059283594,
          -0.1673302992637322,
          -0.16292002030560643,
          -0.1672694064278976,
          -0.1676421498461895,
          -0.19986741415943063,
          -0.14679112821287754,
          -0.1664329090953892,
          -0.16671142119771806,
          1.587554493329975,
          -0.15857805736659078,
          -0.16399128046784897,
          -0.16735683741533025,
          -0.1677129256631529,
          -0.1669695217243723,
          -0.17531785293770427,
          -0.16759377528260325,
          -0.03204546399487877,
          -0.15865596313211167,
          -0.16123490596008214,
          -0.16757318278599234,
          -0.1656611915602719,
          -0.16705809505297878,
          -0.1457626627876222,
          -0.15811779619717894,
          -0.1584060734413768,
          -0.1583891466836405,
          -0.15898177885156023,
          -0.23581964011424755,
          -0.16728860180592148,
          -0.20858243873574797,
          -0.16438174083423648,
          -0.15818533885737118,
          3.8443712154083456,
          0.4311052389722232,
          -0.16615221917244363,
          -0.1506988771931776,
          -0.1648664101313413,
          -0.16771514852599478,
          -0.16473091040637983,
          -0.15090552718737182,
          -0.14227142764448047,
          -0.13362738927578832,
          -0.20237345550473004,
          -0.16758774633929904,
          -0.040082653018466884,
          -0.12353298229924839,
          -0.16772406680661145,
          -0.15868384633588895,
          0.4865426439865098,
          -0.23520462783045873,
          -0.16574932010711585,
          -0.1584228509620536,
          -0.235490562170158,
          -0.16584155637286985,
          -0.16503088534530072,
          -0.16404739243337202,
          0.38226595886591586,
          -0.23552607343282098,
          -0.15857918398809023,
          -0.16366739397190255,
          -0.1331851171021939,
          -0.16628228987849603,
          0.2614096268592691,
          -0.23468387662576276,
          -0.1697233460634431,
          -0.16653099788293016,
          -0.20409738484689166,
          -0.16751325735308817,
          -0.23548921338635967,
          -0.16772412551177932,
          -0.23563975513807153,
          -0.11202602562430128,
          0.2754601514540158,
          -0.15884021313598037,
          -0.11362888357364427,
          -0.16488086150484732,
          -0.1587986890292663,
          -0.16738636360474038,
          -0.1838562204678939,
          -0.1637886057781162,
          -0.12764809724152984,
          -0.09421174697054202,
          -0.22217393469445312,
          -0.2334604622464259,
          0.2754544492835677,
          -0.16770580236976262,
          0.2755856465241666,
          -0.1662915953786484,
          0.48192186630007106,
          -0.17111474725874265,
          -0.1676739714255082,
          -0.22835011615490866,
          -0.12766050290919384,
          -0.16580052495881828,
          -0.1660089482595987,
          -0.14116869785923428,
          -0.13850321007564187,
          -0.20739887617880431,
          -0.16723481369375642,
          -0.12504729243444548,
          -0.1670563495893251,
          -0.17097161650323472,
          -0.17268361029534965,
          -0.019562112029113548,
          -0.16026043419460942,
          0.3117059031032644,
          -0.23469236716117814,
          -0.1673766118036761,
          -0.16713931840755825,
          -0.23508838679104238,
          -0.23566786962266273,
          0.27585080609344814,
          -0.17982639232092076,
          3.2541397684386983,
          -0.1404267169792038,
          -0.22650965043491536,
          -0.15861599591933218,
          -0.09305712830821485,
          1.5859446362522966,
          -0.16747483472131464,
          -0.16692465094948625,
          -0.16662455307279558,
          -0.16661143425293293,
          0.27603497284850376,
          0.0853886092946711,
          -0.18988843273968395,
          -0.2045727409988929,
          -0.12750598446846853,
          -0.1684782326558371,
          -0.16579872729701994,
          -0.2311966858662009,
          -0.20441763777258348,
          -0.16214861856107496,
          -0.2045181705733417,
          -0.1238247103105597,
          1.11624036201521,
          0.27543718797929423,
          -0.08679153574883919,
          -0.23093809092915796,
          -0.16004588364897207,
          -0.08356478173318659,
          1.100484563192885,
          -0.23564177292121374,
          -0.20457026592044114,
          -0.1975835863816195,
          -0.1667231638888504,
          -0.23556690946824438,
          -0.15859531149920572,
          -0.22518047116582968,
          -0.26510297231563557,
          8.038656542516767,
          -0.16430634618251871,
          0.27932504848243933,
          0.026010359586283668,
          -0.16797932777115088,
          -0.1940896538466838,
          -0.16729897478976136,
          0.14087138372985156,
          -0.22968746054151812,
          -0.11503373770174131,
          0.2833864580201393,
          -0.16753681026605438,
          -0.17624732282470335,
          -0.12649343467155147,
          -0.18163243177515875,
          -0.2347332948576851,
          0.2756203775792353,
          -0.20745845277241604,
          -0.16613631111978647,
          -0.20640893984852315,
          -0.18394087371611653,
          0.2795611738578234,
          0.5550253154552907,
          2.090240157389655,
          -0.19914046905803306,
          0.28927311629528785,
          -0.18359840436437477,
          -0.16766628414167065,
          -0.23562387010729424,
          -0.16756149023764777,
          -0.1599283729089332,
          -0.14301507948121858,
          -0.07055432553199191,
          3.086434219757575,
          -0.11829927054987613,
          -0.23559514303753773,
          -0.18302426639420688,
          -0.021882386397567802,
          -0.18333663330540664,
          -0.15861603362784008,
          0.35565131474506334,
          -0.15065950970056038,
          -0.15105270015438893,
          -0.22779229001863668,
          -0.19314429242839673,
          -0.1664499693675124,
          -0.12555968997250733,
          -0.12733820707746688,
          -0.20158183315115374,
          -0.15788959526009885,
          -0.1162226741540514,
          -0.1567536482209426,
          0.5306044044840706,
          -0.12946714813704394,
          -0.10135803102481077,
          -0.1510566868006683,
          -0.15840544149478475,
          0.5506359747630027,
          -0.2214944425604483,
          -0.1676385512678014,
          -0.1655872015735517,
          -0.1343650849149461,
          -0.13911153031947585,
          -0.16382188356663707,
          0.2972714908040918,
          -0.12762745888451324
         ],
         "y": [
          -1.2928038763908012,
          -1.9804263327678988,
          -1.121055582439663,
          -2.1471424705869113,
          -1.9805565243911816,
          -2.0821009912889625,
          -1.8206197215416828,
          -1.1210282523200819,
          -0.8887313232359154,
          -1.1210537972698107,
          -1.8107830296167133,
          -1.3612712348920166,
          -1.292864835176587,
          -1.1211455344567205,
          -1.1210773443096922,
          -0.5309486175562611,
          -1.169368093637949,
          -1.1210394085217494,
          -1.1210279459584183,
          -1.121023559244435,
          -0.8887313704102745,
          -1.8168840270468212,
          -1.301971346450005,
          -1.1268165052851538,
          -1.1210250566525657,
          -1.1211577083877875,
          -1.1210322373061667,
          -1.1210231194231783,
          -1.517715675898879,
          -1.12171856511791,
          -1.1210462673660995,
          -1.1210527404510124,
          -1.158581760302429,
          -1.2928032090321906,
          -1.1211504327841293,
          -1.1210247653165253,
          -1.1210169423292724,
          -1.1210345568688915,
          -2.119669625620535,
          -1.1210213624427305,
          -1.1299019432757451,
          -1.292804549785488,
          -1.1211565409996789,
          -1.121029236662621,
          -1.1211676362272063,
          -1.1210429633250185,
          -1.2932312214110802,
          -1.2928147463740218,
          -1.2928159583746748,
          -1.2928440931923604,
          -1.2927946348924406,
          -0.8887209082509793,
          -1.1210258351538547,
          -1.2031649767898385,
          -1.121157152582338,
          -1.292814403714297,
          -2.352220326523146,
          -2.280451010890528,
          -1.1210677084352578,
          -1.1219798557524217,
          -1.121091410138847,
          -1.1210179366001056,
          -1.1210843011118514,
          -1.1214747341394666,
          -2.1543100583652985,
          -1.8098742565396184,
          -1.536167603579003,
          -1.121016300074197,
          -1.1262999830383942,
          -2.016264456984888,
          -1.1210165875963176,
          -1.2928050296536613,
          -1.1785773829205755,
          -0.8887350097748387,
          -2.143870653017615,
          -1.2928250442527216,
          -0.8887309540153342,
          -1.1211409975896347,
          -1.1211567886971143,
          -1.980457421655739,
          -2.2041789809982006,
          -0.888727824882167,
          -1.2928032284212754,
          -1.1211034008588032,
          -2.161846381962645,
          -1.121054148002209,
          -1.3017372058155774,
          -0.8887641985330151,
          -2.100855308634839,
          -1.1211215277431255,
          -2.031962580427898,
          -1.1210274572937604,
          -0.8887339230266522,
          -1.1210165863400205,
          -0.8887365138406774,
          -1.7319541883791205,
          -2.275656574057398,
          -1.2927992946141753,
          -1.810427750661903,
          -1.1211168039987882,
          -1.2927992549563132,
          -1.1210327540198823,
          -2.154236087754051,
          -1.980459924232277,
          -2.082101364733066,
          -1.1272315413216127,
          -0.8888600944990122,
          -0.8888508637057886,
          -2.2756649008068455,
          -1.1210178403001043,
          -2.2756656351344344,
          -2.1438382521717667,
          -0.951174217364962,
          -2.147259533582997,
          -1.1210177755217667,
          -0.8893404141665086,
          -2.0820985860100207,
          -1.12105782575362,
          -2.1438416164489285,
          -2.2646670111702094,
          -1.1235054588976816,
          -0.5903416229155685,
          -1.1210342754235678,
          -1.2940805773896358,
          -1.1210584928494676,
          -2.1471972258357144,
          -2.1323060638499958,
          -2.2113489669319017,
          -2.1257279866119414,
          -2.2765214183054114,
          -0.8887763135497992,
          -1.1210245646384351,
          -1.1210621649054333,
          -0.8887532067845643,
          -0.8887324345478814,
          -2.2756827653775797,
          -2.0395761343961865,
          -1.211737254106031,
          -1.1071482558106511,
          -0.8893835454629198,
          -1.292803861952284,
          -1.127585698382673,
          -1.0908355967330352,
          -1.1210267960426983,
          -1.1210652029956114,
          -1.1210720072253413,
          -1.1210717814512814,
          -2.2757056947196466,
          -2.0941284822720942,
          -0.8892769357879907,
          -1.5175655049874923,
          -2.0820989189812305,
          -2.10092836481483,
          -1.1210577948159741,
          -0.8889031670834209,
          -1.517576300677886,
          -1.9806215526127362,
          -1.5175681565024821,
          -1.8101992699819276,
          -2.324764075039507,
          -2.275658839397221,
          -1.9865957658219804,
          -0.8890483278709942,
          -2.1476783168849347,
          -1.123308027970466,
          -1.2974619542773904,
          -0.8887326586756554,
          -1.517560974055847,
          -1.5177990525431455,
          -1.1210467742970336,
          -0.8887337640594065,
          -1.292802882096059,
          -1.2199056931621357,
          -0.10990697541937104,
          -2.890100925052447,
          -2.1405323551836495,
          -2.275833925663832,
          -1.1251625264718874,
          -2.1008776581068673,
          -1.2036755817241993,
          -1.1210387306234078,
          -1.12947466680576,
          -0.8889894018036049,
          -1.9844636165047909,
          -2.2762607382136517,
          -1.1210286106938536,
          -2.186904966005323,
          -2.0821181478048407,
          -2.1544062248790916,
          -0.8887770179128675,
          -2.275660100245901,
          -0.5903222622042155,
          -2.1438477580911153,
          -2.096280293522248,
          -2.1542293908212393,
          -2.27602734911946,
          -2.179144881445859,
          -2.3820591392585544,
          -2.05266813192366,
          -2.2761594291970715,
          -1.2842647416941597,
          -2.1720866932476786,
          -0.8887332482365008,
          -1.1210298622331676,
          -2.148237724350386,
          -2.2661825326644744,
          -0.9597126884509248,
          -2.2734611670969587,
          -1.2936652219796512,
          -0.8887357460692488,
          -1.2843131525523048,
          -2.085950659587403,
          -2.1542739739943455,
          -1.2928038626012446,
          -2.2803133007291705,
          -2.202523984184752,
          -2.20247098787897,
          -0.2116095068337624,
          -2.089316566949828,
          -1.1210839637698247,
          -2.0822463033048706,
          -2.0821034268240695,
          -1.5362287854034107,
          -1.2928235270487516,
          -0.3640033007512856,
          -1.2928817752909003,
          -1.182382224106894,
          -1.5192449687758234,
          -2.206833264865431,
          -1.1214773355868508,
          -1.2928159474989138,
          -1.1460559908342938,
          -1.169376220357767,
          -1.121018392754852,
          -1.1211154950595865,
          -1.8098890467915696,
          -2.3030264316591675,
          -1.9804592120837525,
          -2.276321166582579,
          -2.0821010095482473
         ],
         "z": [
          0.17947974304880346,
          0.44266455902636814,
          0.007740372730871383,
          0.39104306647159603,
          0.4426505583311467,
          0.23213023374199396,
          0.22753940469956277,
          0.007756342070756287,
          0.08491172545625572,
          0.0077523579618474165,
          0.2307556023284676,
          -0.01564440615692701,
          0.17943842288100417,
          0.007716297994826424,
          0.0077511906934490974,
          -0.0067316424624169775,
          0.21007369341355892,
          0.007748825031562763,
          0.007756034618066181,
          0.00775704654795119,
          0.08491315047443873,
          0.22685229103548743,
          0.17422873006848638,
          0.004280362149622741,
          0.0077531350227134895,
          0.007694216347313154,
          0.007752764031281128,
          0.007757916836584763,
          0.2725815459316693,
          0.007485009070711386,
          0.007740668214897224,
          0.007745617428693279,
          -0.016950662308325242,
          0.17947907331357377,
          0.0077105913346554285,
          0.007753531487069599,
          0.007758527467378551,
          0.007748203475391547,
          0.3968624953761441,
          0.007757004873961952,
          0.006343531244545439,
          0.17948041884160998,
          0.007667414836303486,
          0.007757329918771634,
          0.007738478474933631,
          0.0077503025600989895,
          0.17931138747551886,
          0.17947273371286762,
          0.17947740246331528,
          0.1794794616350561,
          0.17948476202597025,
          0.08491505013934772,
          0.007752538620605011,
          0.2507749107943207,
          0.007717335063651512,
          0.1794737757526876,
          0.3001315547794993,
          0.34828643933153514,
          0.007737993653280335,
          0.007568552290855774,
          0.007719577420689046,
          0.007758644944193114,
          0.007716841995679294,
          0.007530041601045259,
          0.5504081639677707,
          0.23122126872074367,
          0.2648084020588967,
          0.0077564905515221,
          0.0061729331386163044,
          0.5259862663193444,
          0.007758674682385558,
          0.17948090041870698,
          0.002151796364078834,
          0.08490647023095306,
          0.4794911655879175,
          0.17947841996446826,
          0.08491066608288066,
          0.007739133166282642,
          0.007727592314226362,
          0.4426841128618548,
          0.373623901989049,
          0.08491096999569325,
          0.17947909277170765,
          0.007701567865717815,
          0.46802102986815447,
          0.007738933185038643,
          0.17356235019622085,
          0.0849006322036543,
          0.4255615677627231,
          0.0077484485077152455,
          0.22467636201982533,
          0.007756233051071074,
          0.08491089031589903,
          0.007758675508793045,
          0.08491349035642443,
          -0.25039152510026513,
          0.3503564191220712,
          0.1794829040256368,
          0.23095012847136126,
          0.0077219071165718165,
          0.17948224268947333,
          0.0077546602609602465,
          0.26186201769975287,
          0.4426802187490965,
          0.23213060851601958,
          0.0071078089207525985,
          0.08471031310626352,
          0.08488841335217825,
          0.350357198308002,
          0.007758488864176314,
          0.35035517989905535,
          0.4794970790028776,
          0.07870697898802692,
          0.3910331113428463,
          0.007757979062864404,
          0.08484792434926532,
          0.23213057524893463,
          0.007731602627191997,
          0.4794928780432994,
          0.5225216432739739,
          0.007501484512238176,
          -0.04153871562752411,
          0.00775238442191256,
          0.17905336149640028,
          0.007751559560272398,
          0.3910256887359611,
          0.4209834617856855,
          0.3805850225396469,
          0.45117792694754427,
          0.3498535558389083,
          0.08490176895827437,
          0.007753828261895281,
          0.007753178179558529,
          0.0849061334208904,
          0.0849135984475696,
          0.35035239484758085,
          0.3685255757445844,
          -0.03896473686138803,
          -0.00815147696986242,
          0.08482232545516359,
          0.1794797285588695,
          0.00711880826249977,
          -0.02252937109289995,
          0.007755569445137293,
          0.007750027547881285,
          0.0077458346024813635,
          0.007745608024386571,
          0.35035137305767045,
          0.22974942689514868,
          0.08423314957934215,
          0.2726436911411534,
          0.23212815405428444,
          0.42554787924693244,
          0.007731571579369919,
          0.08485686476917106,
          0.27264212619512496,
          0.4426675994796739,
          0.27264304567683445,
          0.23109280659045106,
          0.34109446933123844,
          0.35035697043452313,
          0.44196758376373046,
          0.08486477492609126,
          0.39089234028379866,
          0.006614512575184186,
          0.20387426983896542,
          0.0849132034193944,
          0.27264327710126496,
          0.27255225008221134,
          0.007745309978606384,
          0.08491210845835799,
          0.17947931970396436,
          0.15156084783666424,
          0.1665231063750499,
          0.27815792745835594,
          0.4514054080701201,
          0.35030984115999414,
          0.005031425820808406,
          0.42553577817262933,
          0.25058747479437415,
          0.007753769769457641,
          0.003567876261641764,
          0.08484008090468789,
          0.4422387740529684,
          0.35028078531621126,
          0.0077567017207811825,
          0.32547781835954936,
          0.23211369829856607,
          0.26184085048085853,
          0.08490247582974571,
          0.3503541716296991,
          -0.04153937307615113,
          0.47949540449314504,
          0.4289587675945904,
          0.26186280525082783,
          0.35032209987650914,
          0.3175868673331221,
          0.33039862146983184,
          0.5389958784439242,
          0.3501791155143113,
          0.20903848791120738,
          0.5762494880164237,
          0.08491296847431,
          0.007757196370064978,
          0.39093675434553565,
          0.3661619778863904,
          0.25046358025683796,
          0.28527243152559156,
          0.17891206207272506,
          0.08491271985078058,
          0.20903339395970785,
          0.23077290907981274,
          0.26185691760857505,
          0.17947972921014171,
          0.34947080754359,
          0.4826055314428251,
          0.48260737849310864,
          -0.044039994576208594,
          0.4303573346596362,
          0.00774405696879303,
          0.23210950224106985,
          0.2321258680990133,
          0.2648009179749817,
          0.1794698436571542,
          -0.14658677451659288,
          0.17945666019215234,
          0.0017682762222841896,
          0.2715923828704808,
          0.4821807037446767,
          0.007532652312797318,
          0.179477391548823,
          -0.001554219754651521,
          0.21006738347838458,
          0.007757468799885488,
          0.00773299259835216,
          0.23123418289811828,
          0.3376679774066323,
          0.44268068720899717,
          0.35006574037765675,
          0.2321302520663039
         ]
        },
        {
         "customdata": [
          [
           "Proof-of-BibleHash"
          ],
          [
           "SHA-256 + Hive"
          ],
          [
           "Proof-of-Authority"
          ],
          [
           "ECC 256K1"
          ],
          [
           "Leased POS"
          ]
         ],
         "hovertemplate": "<b>%{hovertext}</b><br><br>Class=%{marker.color}<br>PC 1=%{x}<br>PC 2=%{y}<br>PC 3=%{z}<br>Algorithm=%{customdata[0]}<extra></extra>",
         "hovertext": [
          "BiblePay",
          "LitecoinCash",
          "Poa Network",
          "Acute Angle Cloud",
          "Waves"
         ],
         "legendgroup": "1",
         "marker": {
          "color": [
           1,
           1,
           1,
           1,
           1
          ],
          "coloraxis": "coloraxis",
          "symbol": "square"
         },
         "mode": "markers",
         "name": "1",
         "scene": "scene",
         "showlegend": true,
         "type": "scatter3d",
         "x": [
          0.02561285439510811,
          -0.28685175805920116,
          -0.3168732626028264,
          -0.3202602012751645,
          -0.6850068751242911
         ],
         "y": [
          0.3714570720481435,
          2.1402841861139397,
          2.1861700073764316,
          2.9438071122966396,
          6.823855021637772
         ],
         "z": [
          13.237287308034537,
          9.18172556015959,
          8.227491998628452,
          20.172850715033228,
          15.849162279188699
         ]
        },
        {
         "customdata": [
          [
           "TRC10"
          ]
         ],
         "hovertemplate": "<b>%{hovertext}</b><br><br>Class=%{marker.color}<br>PC 1=%{x}<br>PC 2=%{y}<br>PC 3=%{z}<br>Algorithm=%{customdata[0]}<extra></extra>",
         "hovertext": [
          "BitTorrent"
         ],
         "legendgroup": "2",
         "marker": {
          "color": [
           2
          ],
          "coloraxis": "coloraxis",
          "symbol": "x"
         },
         "mode": "markers",
         "name": "2",
         "scene": "scene",
         "showlegend": true,
         "type": "scatter3d",
         "x": [
          34.131818270681244
         ],
         "y": [
          1.443048682688398
         ],
         "z": [
          -0.5672324392681287
         ]
        }
       ],
       "layout": {
        "coloraxis": {
         "colorbar": {
          "title": {
           "text": "Class"
          }
         },
         "colorscale": [
          [
           0,
           "#0d0887"
          ],
          [
           0.1111111111111111,
           "#46039f"
          ],
          [
           0.2222222222222222,
           "#7201a8"
          ],
          [
           0.3333333333333333,
           "#9c179e"
          ],
          [
           0.4444444444444444,
           "#bd3786"
          ],
          [
           0.5555555555555556,
           "#d8576b"
          ],
          [
           0.6666666666666666,
           "#ed7953"
          ],
          [
           0.7777777777777778,
           "#fb9f3a"
          ],
          [
           0.8888888888888888,
           "#fdca26"
          ],
          [
           1,
           "#f0f921"
          ]
         ]
        },
        "legend": {
         "title": {
          "text": "Class"
         },
         "tracegroupgap": 0,
         "x": 0,
         "y": 1
        },
        "margin": {
         "t": 60
        },
        "scene": {
         "domain": {
          "x": [
           0,
           1
          ],
          "y": [
           0,
           1
          ]
         },
         "xaxis": {
          "title": {
           "text": "PC 1"
          }
         },
         "yaxis": {
          "title": {
           "text": "PC 2"
          }
         },
         "zaxis": {
          "title": {
           "text": "PC 3"
          }
         }
        },
        "template": {
         "data": {
          "bar": [
           {
            "error_x": {
             "color": "#2a3f5f"
            },
            "error_y": {
             "color": "#2a3f5f"
            },
            "marker": {
             "line": {
              "color": "#E5ECF6",
              "width": 0.5
             },
             "pattern": {
              "fillmode": "overlay",
              "size": 10,
              "solidity": 0.2
             }
            },
            "type": "bar"
           }
          ],
          "barpolar": [
           {
            "marker": {
             "line": {
              "color": "#E5ECF6",
              "width": 0.5
             },
             "pattern": {
              "fillmode": "overlay",
              "size": 10,
              "solidity": 0.2
             }
            },
            "type": "barpolar"
           }
          ],
          "carpet": [
           {
            "aaxis": {
             "endlinecolor": "#2a3f5f",
             "gridcolor": "white",
             "linecolor": "white",
             "minorgridcolor": "white",
             "startlinecolor": "#2a3f5f"
            },
            "baxis": {
             "endlinecolor": "#2a3f5f",
             "gridcolor": "white",
             "linecolor": "white",
             "minorgridcolor": "white",
             "startlinecolor": "#2a3f5f"
            },
            "type": "carpet"
           }
          ],
          "choropleth": [
           {
            "colorbar": {
             "outlinewidth": 0,
             "ticks": ""
            },
            "type": "choropleth"
           }
          ],
          "contour": [
           {
            "colorbar": {
             "outlinewidth": 0,
             "ticks": ""
            },
            "colorscale": [
             [
              0,
              "#0d0887"
             ],
             [
              0.1111111111111111,
              "#46039f"
             ],
             [
              0.2222222222222222,
              "#7201a8"
             ],
             [
              0.3333333333333333,
              "#9c179e"
             ],
             [
              0.4444444444444444,
              "#bd3786"
             ],
             [
              0.5555555555555556,
              "#d8576b"
             ],
             [
              0.6666666666666666,
              "#ed7953"
             ],
             [
              0.7777777777777778,
              "#fb9f3a"
             ],
             [
              0.8888888888888888,
              "#fdca26"
             ],
             [
              1,
              "#f0f921"
             ]
            ],
            "type": "contour"
           }
          ],
          "contourcarpet": [
           {
            "colorbar": {
             "outlinewidth": 0,
             "ticks": ""
            },
            "type": "contourcarpet"
           }
          ],
          "heatmap": [
           {
            "colorbar": {
             "outlinewidth": 0,
             "ticks": ""
            },
            "colorscale": [
             [
              0,
              "#0d0887"
             ],
             [
              0.1111111111111111,
              "#46039f"
             ],
             [
              0.2222222222222222,
              "#7201a8"
             ],
             [
              0.3333333333333333,
              "#9c179e"
             ],
             [
              0.4444444444444444,
              "#bd3786"
             ],
             [
              0.5555555555555556,
              "#d8576b"
             ],
             [
              0.6666666666666666,
              "#ed7953"
             ],
             [
              0.7777777777777778,
              "#fb9f3a"
             ],
             [
              0.8888888888888888,
              "#fdca26"
             ],
             [
              1,
              "#f0f921"
             ]
            ],
            "type": "heatmap"
           }
          ],
          "heatmapgl": [
           {
            "colorbar": {
             "outlinewidth": 0,
             "ticks": ""
            },
            "colorscale": [
             [
              0,
              "#0d0887"
             ],
             [
              0.1111111111111111,
              "#46039f"
             ],
             [
              0.2222222222222222,
              "#7201a8"
             ],
             [
              0.3333333333333333,
              "#9c179e"
             ],
             [
              0.4444444444444444,
              "#bd3786"
             ],
             [
              0.5555555555555556,
              "#d8576b"
             ],
             [
              0.6666666666666666,
              "#ed7953"
             ],
             [
              0.7777777777777778,
              "#fb9f3a"
             ],
             [
              0.8888888888888888,
              "#fdca26"
             ],
             [
              1,
              "#f0f921"
             ]
            ],
            "type": "heatmapgl"
           }
          ],
          "histogram": [
           {
            "marker": {
             "pattern": {
              "fillmode": "overlay",
              "size": 10,
              "solidity": 0.2
             }
            },
            "type": "histogram"
           }
          ],
          "histogram2d": [
           {
            "colorbar": {
             "outlinewidth": 0,
             "ticks": ""
            },
            "colorscale": [
             [
              0,
              "#0d0887"
             ],
             [
              0.1111111111111111,
              "#46039f"
             ],
             [
              0.2222222222222222,
              "#7201a8"
             ],
             [
              0.3333333333333333,
              "#9c179e"
             ],
             [
              0.4444444444444444,
              "#bd3786"
             ],
             [
              0.5555555555555556,
              "#d8576b"
             ],
             [
              0.6666666666666666,
              "#ed7953"
             ],
             [
              0.7777777777777778,
              "#fb9f3a"
             ],
             [
              0.8888888888888888,
              "#fdca26"
             ],
             [
              1,
              "#f0f921"
             ]
            ],
            "type": "histogram2d"
           }
          ],
          "histogram2dcontour": [
           {
            "colorbar": {
             "outlinewidth": 0,
             "ticks": ""
            },
            "colorscale": [
             [
              0,
              "#0d0887"
             ],
             [
              0.1111111111111111,
              "#46039f"
             ],
             [
              0.2222222222222222,
              "#7201a8"
             ],
             [
              0.3333333333333333,
              "#9c179e"
             ],
             [
              0.4444444444444444,
              "#bd3786"
             ],
             [
              0.5555555555555556,
              "#d8576b"
             ],
             [
              0.6666666666666666,
              "#ed7953"
             ],
             [
              0.7777777777777778,
              "#fb9f3a"
             ],
             [
              0.8888888888888888,
              "#fdca26"
             ],
             [
              1,
              "#f0f921"
             ]
            ],
            "type": "histogram2dcontour"
           }
          ],
          "mesh3d": [
           {
            "colorbar": {
             "outlinewidth": 0,
             "ticks": ""
            },
            "type": "mesh3d"
           }
          ],
          "parcoords": [
           {
            "line": {
             "colorbar": {
              "outlinewidth": 0,
              "ticks": ""
             }
            },
            "type": "parcoords"
           }
          ],
          "pie": [
           {
            "automargin": true,
            "type": "pie"
           }
          ],
          "scatter": [
           {
            "marker": {
             "colorbar": {
              "outlinewidth": 0,
              "ticks": ""
             }
            },
            "type": "scatter"
           }
          ],
          "scatter3d": [
           {
            "line": {
             "colorbar": {
              "outlinewidth": 0,
              "ticks": ""
             }
            },
            "marker": {
             "colorbar": {
              "outlinewidth": 0,
              "ticks": ""
             }
            },
            "type": "scatter3d"
           }
          ],
          "scattercarpet": [
           {
            "marker": {
             "colorbar": {
              "outlinewidth": 0,
              "ticks": ""
             }
            },
            "type": "scattercarpet"
           }
          ],
          "scattergeo": [
           {
            "marker": {
             "colorbar": {
              "outlinewidth": 0,
              "ticks": ""
             }
            },
            "type": "scattergeo"
           }
          ],
          "scattergl": [
           {
            "marker": {
             "colorbar": {
              "outlinewidth": 0,
              "ticks": ""
             }
            },
            "type": "scattergl"
           }
          ],
          "scattermapbox": [
           {
            "marker": {
             "colorbar": {
              "outlinewidth": 0,
              "ticks": ""
             }
            },
            "type": "scattermapbox"
           }
          ],
          "scatterpolar": [
           {
            "marker": {
             "colorbar": {
              "outlinewidth": 0,
              "ticks": ""
             }
            },
            "type": "scatterpolar"
           }
          ],
          "scatterpolargl": [
           {
            "marker": {
             "colorbar": {
              "outlinewidth": 0,
              "ticks": ""
             }
            },
            "type": "scatterpolargl"
           }
          ],
          "scatterternary": [
           {
            "marker": {
             "colorbar": {
              "outlinewidth": 0,
              "ticks": ""
             }
            },
            "type": "scatterternary"
           }
          ],
          "surface": [
           {
            "colorbar": {
             "outlinewidth": 0,
             "ticks": ""
            },
            "colorscale": [
             [
              0,
              "#0d0887"
             ],
             [
              0.1111111111111111,
              "#46039f"
             ],
             [
              0.2222222222222222,
              "#7201a8"
             ],
             [
              0.3333333333333333,
              "#9c179e"
             ],
             [
              0.4444444444444444,
              "#bd3786"
             ],
             [
              0.5555555555555556,
              "#d8576b"
             ],
             [
              0.6666666666666666,
              "#ed7953"
             ],
             [
              0.7777777777777778,
              "#fb9f3a"
             ],
             [
              0.8888888888888888,
              "#fdca26"
             ],
             [
              1,
              "#f0f921"
             ]
            ],
            "type": "surface"
           }
          ],
          "table": [
           {
            "cells": {
             "fill": {
              "color": "#EBF0F8"
             },
             "line": {
              "color": "white"
             }
            },
            "header": {
             "fill": {
              "color": "#C8D4E3"
             },
             "line": {
              "color": "white"
             }
            },
            "type": "table"
           }
          ]
         },
         "layout": {
          "annotationdefaults": {
           "arrowcolor": "#2a3f5f",
           "arrowhead": 0,
           "arrowwidth": 1
          },
          "autotypenumbers": "strict",
          "coloraxis": {
           "colorbar": {
            "outlinewidth": 0,
            "ticks": ""
           }
          },
          "colorscale": {
           "diverging": [
            [
             0,
             "#8e0152"
            ],
            [
             0.1,
             "#c51b7d"
            ],
            [
             0.2,
             "#de77ae"
            ],
            [
             0.3,
             "#f1b6da"
            ],
            [
             0.4,
             "#fde0ef"
            ],
            [
             0.5,
             "#f7f7f7"
            ],
            [
             0.6,
             "#e6f5d0"
            ],
            [
             0.7,
             "#b8e186"
            ],
            [
             0.8,
             "#7fbc41"
            ],
            [
             0.9,
             "#4d9221"
            ],
            [
             1,
             "#276419"
            ]
           ],
           "sequential": [
            [
             0,
             "#0d0887"
            ],
            [
             0.1111111111111111,
             "#46039f"
            ],
            [
             0.2222222222222222,
             "#7201a8"
            ],
            [
             0.3333333333333333,
             "#9c179e"
            ],
            [
             0.4444444444444444,
             "#bd3786"
            ],
            [
             0.5555555555555556,
             "#d8576b"
            ],
            [
             0.6666666666666666,
             "#ed7953"
            ],
            [
             0.7777777777777778,
             "#fb9f3a"
            ],
            [
             0.8888888888888888,
             "#fdca26"
            ],
            [
             1,
             "#f0f921"
            ]
           ],
           "sequentialminus": [
            [
             0,
             "#0d0887"
            ],
            [
             0.1111111111111111,
             "#46039f"
            ],
            [
             0.2222222222222222,
             "#7201a8"
            ],
            [
             0.3333333333333333,
             "#9c179e"
            ],
            [
             0.4444444444444444,
             "#bd3786"
            ],
            [
             0.5555555555555556,
             "#d8576b"
            ],
            [
             0.6666666666666666,
             "#ed7953"
            ],
            [
             0.7777777777777778,
             "#fb9f3a"
            ],
            [
             0.8888888888888888,
             "#fdca26"
            ],
            [
             1,
             "#f0f921"
            ]
           ]
          },
          "colorway": [
           "#636efa",
           "#EF553B",
           "#00cc96",
           "#ab63fa",
           "#FFA15A",
           "#19d3f3",
           "#FF6692",
           "#B6E880",
           "#FF97FF",
           "#FECB52"
          ],
          "font": {
           "color": "#2a3f5f"
          },
          "geo": {
           "bgcolor": "white",
           "lakecolor": "white",
           "landcolor": "#E5ECF6",
           "showlakes": true,
           "showland": true,
           "subunitcolor": "white"
          },
          "hoverlabel": {
           "align": "left"
          },
          "hovermode": "closest",
          "mapbox": {
           "style": "light"
          },
          "paper_bgcolor": "white",
          "plot_bgcolor": "#E5ECF6",
          "polar": {
           "angularaxis": {
            "gridcolor": "white",
            "linecolor": "white",
            "ticks": ""
           },
           "bgcolor": "#E5ECF6",
           "radialaxis": {
            "gridcolor": "white",
            "linecolor": "white",
            "ticks": ""
           }
          },
          "scene": {
           "xaxis": {
            "backgroundcolor": "#E5ECF6",
            "gridcolor": "white",
            "gridwidth": 2,
            "linecolor": "white",
            "showbackground": true,
            "ticks": "",
            "zerolinecolor": "white"
           },
           "yaxis": {
            "backgroundcolor": "#E5ECF6",
            "gridcolor": "white",
            "gridwidth": 2,
            "linecolor": "white",
            "showbackground": true,
            "ticks": "",
            "zerolinecolor": "white"
           },
           "zaxis": {
            "backgroundcolor": "#E5ECF6",
            "gridcolor": "white",
            "gridwidth": 2,
            "linecolor": "white",
            "showbackground": true,
            "ticks": "",
            "zerolinecolor": "white"
           }
          },
          "shapedefaults": {
           "line": {
            "color": "#2a3f5f"
           }
          },
          "ternary": {
           "aaxis": {
            "gridcolor": "white",
            "linecolor": "white",
            "ticks": ""
           },
           "baxis": {
            "gridcolor": "white",
            "linecolor": "white",
            "ticks": ""
           },
           "bgcolor": "#E5ECF6",
           "caxis": {
            "gridcolor": "white",
            "linecolor": "white",
            "ticks": ""
           }
          },
          "title": {
           "x": 0.05
          },
          "xaxis": {
           "automargin": true,
           "gridcolor": "white",
           "linecolor": "white",
           "ticks": "",
           "title": {
            "standoff": 15
           },
           "zerolinecolor": "white",
           "zerolinewidth": 2
          },
          "yaxis": {
           "automargin": true,
           "gridcolor": "white",
           "linecolor": "white",
           "ticks": "",
           "title": {
            "standoff": 15
           },
           "zerolinecolor": "white",
           "zerolinewidth": 2
          }
         }
        },
        "width": 800
       }
      }
     },
     "metadata": {},
     "output_type": "display_data"
    }
   ],
   "source": [
    "# Creating a 3D-Scatter with the PCA data and the clusters\n",
    "fig = px.scatter_3d(clustered_df, \n",
    "    x=\"PC 1\", \n",
    "    y=\"PC 2\", \n",
    "    z=\"PC 3\", \n",
    "    color=\"Class\", \n",
    "    symbol=\"Class\", \n",
    "    width=800, \n",
    "    hover_name=\"CoinName\", \n",
    "    hover_data=[\"Algorithm\"])\n",
    "fig.update_layout(legend=dict(x=0, y=1))\n",
    "fig.show()\n"
   ]
  },
  {
   "cell_type": "code",
   "execution_count": 248,
   "metadata": {},
   "outputs": [
    {
     "data": {},
     "metadata": {},
     "output_type": "display_data"
    },
    {
     "data": {
      "application/vnd.holoviews_exec.v0+json": "",
      "text/html": [
       "<div id='2546'>\n",
       "\n",
       "\n",
       "\n",
       "\n",
       "\n",
       "  <div class=\"bk-root\" id=\"593faa02-e82a-4b4f-a3b9-e109f06855a3\" data-root-id=\"2546\"></div>\n",
       "</div>\n",
       "<script type=\"application/javascript\">(function(root) {\n",
       "  function embed_document(root) {\n",
       "    var docs_json = {\"a70b498b-974f-421e-8d68-980dd5ee45e2\":{\"defs\":[{\"extends\":null,\"module\":null,\"name\":\"ReactiveHTML1\",\"overrides\":[],\"properties\":[]},{\"extends\":null,\"module\":null,\"name\":\"FlexBox1\",\"overrides\":[],\"properties\":[{\"default\":\"flex-start\",\"kind\":null,\"name\":\"align_content\"},{\"default\":\"flex-start\",\"kind\":null,\"name\":\"align_items\"},{\"default\":\"row\",\"kind\":null,\"name\":\"flex_direction\"},{\"default\":\"wrap\",\"kind\":null,\"name\":\"flex_wrap\"},{\"default\":\"flex-start\",\"kind\":null,\"name\":\"justify_content\"}]},{\"extends\":null,\"module\":null,\"name\":\"GridStack1\",\"overrides\":[],\"properties\":[{\"default\":\"warn\",\"kind\":null,\"name\":\"mode\"},{\"default\":null,\"kind\":null,\"name\":\"ncols\"},{\"default\":null,\"kind\":null,\"name\":\"nrows\"},{\"default\":true,\"kind\":null,\"name\":\"allow_resize\"},{\"default\":true,\"kind\":null,\"name\":\"allow_drag\"},{\"default\":[],\"kind\":null,\"name\":\"state\"}]},{\"extends\":null,\"module\":null,\"name\":\"click1\",\"overrides\":[],\"properties\":[{\"default\":\"\",\"kind\":null,\"name\":\"terminal_output\"},{\"default\":\"\",\"kind\":null,\"name\":\"debug_name\"},{\"default\":0,\"kind\":null,\"name\":\"clears\"}]},{\"extends\":null,\"module\":null,\"name\":\"TemplateActions1\",\"overrides\":[],\"properties\":[{\"default\":0,\"kind\":null,\"name\":\"open_modal\"},{\"default\":0,\"kind\":null,\"name\":\"close_modal\"}]},{\"extends\":null,\"module\":null,\"name\":\"MaterialTemplateActions1\",\"overrides\":[],\"properties\":[{\"default\":0,\"kind\":null,\"name\":\"open_modal\"},{\"default\":0,\"kind\":null,\"name\":\"close_modal\"}]}],\"roots\":{\"references\":[{\"attributes\":{},\"id\":\"2556\",\"type\":\"StringEditor\"},{\"attributes\":{\"format\":\"0,0.0[00000]\"},\"id\":\"2570\",\"type\":\"NumberFormatter\"},{\"attributes\":{\"editor\":{\"id\":\"2566\"},\"field\":\"TotalCoinSupply\",\"formatter\":{\"id\":\"2565\"},\"title\":\"TotalCoinSupply\"},\"id\":\"2567\",\"type\":\"TableColumn\"},{\"attributes\":{},\"id\":\"2551\",\"type\":\"StringEditor\"},{\"attributes\":{},\"id\":\"2565\",\"type\":\"StringFormatter\"},{\"attributes\":{\"editor\":{\"id\":\"2551\"},\"field\":\"CoinName\",\"formatter\":{\"id\":\"2550\"},\"title\":\"CoinName\"},\"id\":\"2552\",\"type\":\"TableColumn\"},{\"attributes\":{},\"id\":\"2555\",\"type\":\"StringFormatter\"},{\"attributes\":{},\"id\":\"2566\",\"type\":\"StringEditor\"},{\"attributes\":{\"columns\":[{\"id\":\"2552\"},{\"id\":\"2557\"},{\"id\":\"2562\"},{\"id\":\"2567\"},{\"id\":\"2572\"},{\"id\":\"2577\"}],\"height\":300,\"reorderable\":false,\"source\":{\"id\":\"2548\"},\"view\":{\"id\":\"2582\"},\"width\":700},\"id\":\"2580\",\"type\":\"DataTable\"},{\"attributes\":{},\"id\":\"2571\",\"type\":\"NumberEditor\"},{\"attributes\":{\"editor\":{\"id\":\"2556\"},\"field\":\"Algorithm\",\"formatter\":{\"id\":\"2555\"},\"title\":\"Algorithm\"},\"id\":\"2557\",\"type\":\"TableColumn\"},{\"attributes\":{},\"id\":\"2575\",\"type\":\"NumberFormatter\"},{\"attributes\":{\"children\":[{\"id\":\"2547\"},{\"id\":\"2580\"},{\"id\":\"2587\"}],\"margin\":[0,0,0,0],\"name\":\"Row04573\",\"tags\":[\"embedded\"]},\"id\":\"2546\",\"type\":\"Row\"},{\"attributes\":{},\"id\":\"2561\",\"type\":\"StringEditor\"},{\"attributes\":{},\"id\":\"2550\",\"type\":\"StringFormatter\"},{\"attributes\":{},\"id\":\"2560\",\"type\":\"StringFormatter\"},{\"attributes\":{},\"id\":\"2549\",\"type\":\"Selection\"},{\"attributes\":{},\"id\":\"2583\",\"type\":\"UnionRenderers\"},{\"attributes\":{\"editor\":{\"id\":\"2571\"},\"field\":\"TotalCoinsMined\",\"formatter\":{\"id\":\"2570\"},\"title\":\"TotalCoinsMined\"},\"id\":\"2572\",\"type\":\"TableColumn\"},{\"attributes\":{\"editor\":{\"id\":\"2576\"},\"field\":\"Class\",\"formatter\":{\"id\":\"2575\"},\"title\":\"Class\"},\"id\":\"2577\",\"type\":\"TableColumn\"},{\"attributes\":{\"data\":{\"Algorithm\":[\"Scrypt\",\"Scrypt\",\"X13\",\"SHA-256\",\"Ethash\",\"Scrypt\",\"X11\",\"CryptoNight-V7\",\"Ethash\",\"Equihash\",\"SHA-512\",\"Multiple\",\"SHA-256\",\"SHA-256\",\"Scrypt\",\"X15\",\"X11\",\"Scrypt\",\"Scrypt\",\"Scrypt\",\"Multiple\",\"Scrypt\",\"SHA-256\",\"Scrypt\",\"Scrypt\",\"Scrypt\",\"Quark\",\"Groestl\",\"Scrypt\",\"Scrypt\",\"Scrypt\",\"Scrypt\",\"Scrypt\",\"X11\",\"Scrypt\",\"Groestl\",\"Multiple\",\"SHA-256\",\"Scrypt\",\"Scrypt\",\"Scrypt\",\"Scrypt\",\"PoS\",\"Scrypt\",\"Scrypt\",\"NeoScrypt\",\"Scrypt\",\"Scrypt\",\"Scrypt\",\"Scrypt\",\"X11\",\"Scrypt\",\"X11\",\"SHA-256\",\"Scrypt\",\"Scrypt\",\"Scrypt\",\"SHA3\",\"Scrypt\",\"HybridScryptHash256\",\"Scrypt\",\"Scrypt\",\"SHA-256\",\"Scrypt\",\"X13\",\"Scrypt\",\"SHA-256\",\"Scrypt\",\"X13\",\"NeoScrypt\",\"Scrypt\",\"Scrypt\",\"Scrypt\",\"Scrypt\",\"Scrypt\",\"Scrypt\",\"X11\",\"X11\",\"SHA-256\",\"Multiple\",\"SHA-256\",\"PHI1612\",\"X11\",\"SHA-256\",\"SHA-256\",\"SHA-256\",\"X11\",\"Scrypt\",\"Scrypt\",\"Scrypt\",\"Scrypt\",\"Lyra2REv2\",\"Scrypt\",\"X11\",\"Multiple\",\"SHA-256\",\"X13\",\"Scrypt\",\"CryptoNight\",\"CryptoNight\",\"Shabal256\",\"Counterparty\",\"Scrypt\",\"SHA-256\",\"Groestl\",\"Scrypt\",\"Scrypt\",\"Scrypt\",\"X13\",\"Scrypt\",\"Scrypt\",\"Scrypt\",\"Scrypt\",\"X13\",\"Scrypt\",\"Stanford Folding\",\"X11\",\"Multiple\",\"QuBit\",\"Scrypt\",\"Scrypt\",\"Scrypt\",\"M7 POW\",\"Scrypt\",\"SHA-256\",\"Scrypt\",\"X11\",\"SHA3\",\"X11\",\"Lyra2RE\",\"SHA-256\",\"QUAIT\",\"X11\",\"X11\",\"Scrypt\",\"Scrypt\",\"Scrypt\",\"Ethash\",\"X13\",\"Blake2b\",\"SHA-256\",\"X15\",\"X11\",\"SHA-256\",\"BLAKE256\",\"Scrypt\",\"1GB AES Pattern Search\",\"SHA-256\",\"X11\",\"Scrypt\",\"SHA-256\",\"SHA-256\",\"NIST5\",\"Scrypt\",\"Scrypt\",\"X11\",\"Dagger\",\"Scrypt\",\"X11GOST\",\"X11\",\"Scrypt\",\"SHA-256\",\"Scrypt\",\"PoS\",\"Scrypt\",\"X11\",\"X11\",\"SHA-256\",\"SHA-256\",\"NIST5\",\"X11\",\"Scrypt\",\"POS 3.0\",\"Scrypt\",\"Scrypt\",\"Scrypt\",\"X13\",\"X11\",\"X11\",\"Equihash\",\"X11\",\"Scrypt\",\"CryptoNight\",\"SHA-256\",\"SHA-256\",\"X11\",\"Scrypt\",\"Multiple\",\"Scrypt\",\"Scrypt\",\"Scrypt\",\"SHA-256\",\"Scrypt\",\"Scrypt\",\"SHA-256D\",\"PoS\",\"Scrypt\",\"X11\",\"Lyra2Z\",\"PoS\",\"X13\",\"X14\",\"PoS\",\"SHA-256D\",\"Ethash\",\"Equihash\",\"DPoS\",\"X11\",\"Scrypt\",\"X11\",\"X13\",\"X11\",\"PoS\",\"Scrypt\",\"Scrypt\",\"X11\",\"PoS\",\"X11\",\"SHA-256\",\"Scrypt\",\"X11\",\"Scrypt\",\"Scrypt\",\"X11\",\"CryptoNight\",\"Scrypt\",\"Scrypt\",\"Scrypt\",\"Scrypt\",\"Quark\",\"QuBit\",\"Scrypt\",\"CryptoNight\",\"Lyra2RE\",\"Scrypt\",\"SHA-256\",\"X11\",\"Scrypt\",\"X11\",\"Scrypt\",\"CryptoNight-V7\",\"Scrypt\",\"Scrypt\",\"Scrypt\",\"X13\",\"X11\",\"Equihash\",\"Scrypt\",\"Scrypt\",\"Lyra2RE\",\"Scrypt\",\"Dagger-Hashimoto\",\"X11\",\"Blake2S\",\"X11\",\"Scrypt\",\"PoS\",\"X11\",\"NIST5\",\"PoS\",\"X11\",\"Scrypt\",\"Scrypt\",\"Scrypt\",\"SHA-256\",\"X11\",\"Scrypt\",\"Scrypt\",\"SHA-256\",\"PoS\",\"Scrypt\",\"X15\",\"SHA-256\",\"Scrypt\",\"POS 3.0\",\"CryptoNight-V7\",\"536\",\"Argon2d\",\"Blake2b\",\"Cloverhash\",\"CryptoNight\",\"NIST5\",\"X11\",\"NIST5\",\"Skein\",\"Scrypt\",\"X13\",\"Scrypt\",\"X11\",\"X11\",\"Scrypt\",\"CryptoNight\",\"X13\",\"Time Travel\",\"Scrypt\",\"Keccak\",\"SkunkHash v2 Raptor\",\"X11\",\"Skein\",\"SHA-256\",\"X11\",\"Scrypt\",\"VeChainThor Authority\",\"Scrypt\",\"PoS\",\"Scrypt\",\"Scrypt\",\"Scrypt\",\"Scrypt\",\"Scrypt\",\"Scrypt\",\"Scrypt\",\"CryptoNight\",\"SHA-512\",\"Ouroboros\",\"X11\",\"Equihash\",\"NeoScrypt\",\"X11\",\"Scrypt\",\"NeoScrypt\",\"Lyra2REv2\",\"Equihash\",\"Scrypt\",\"SHA-256\",\"NIST5\",\"PHI1612\",\"Dagger\",\"Scrypt\",\"Quark\",\"Scrypt\",\"POS 2.0\",\"Scrypt\",\"SHA-256\",\"X11\",\"NeoScrypt\",\"Ethash\",\"NeoScrypt\",\"X11\",\"DPoS\",\"NIST5\",\"X13\",\"Multiple\",\"Scrypt\",\"CryptoNight\",\"CryptoNight\",\"Ethash\",\"NIST5\",\"Quark\",\"X11\",\"CryptoNight-V7\",\"Scrypt\",\"Scrypt\",\"Scrypt\",\"X11\",\"BLAKE256\",\"X11\",\"NeoScrypt\",\"Quark\",\"NeoScrypt\",\"Scrypt\",\"Scrypt\",\"Scrypt\",\"X11\",\"X11\",\"SHA-256\",\"C11\",\"POS 3.0\",\"Ethash\",\"Scrypt\",\"CryptoNight\",\"SkunkHash\",\"Scrypt\",\"CryptoNight\",\"Scrypt\",\"Dagger\",\"Lyra2REv2\",\"X13\",\"Proof-of-BibleHash\",\"SHA-256 + Hive\",\"Scrypt\",\"Scrypt\",\"X11\",\"C11\",\"Proof-of-Authority\",\"X11\",\"XEVAN\",\"Scrypt\",\"VBFT\",\"Ethash\",\"CryptoNight\",\"Scrypt\",\"IMesh\",\"NIST5\",\"Scrypt\",\"Scrypt\",\"Equihash\",\"Scrypt\",\"Lyra2Z\",\"Green Protocol\",\"PoS\",\"Scrypt\",\"Semux BFT consensus\",\"X11\",\"Quark\",\"PoS\",\"CryptoNight\",\"X16R\",\"Scrypt\",\"NIST5\",\"Lyra2RE\",\"XEVAN\",\"Tribus\",\"Scrypt\",\"Lyra2Z\",\"CryptoNight\",\"CryptoNight Heavy\",\"CryptoNight\",\"Scrypt\",\"Scrypt\",\"Jump Consistent Hash\",\"SHA-256D\",\"CryptoNight\",\"Scrypt\",\"X15\",\"Scrypt\",\"Quark\",\"SHA-256\",\"DPoS\",\"X16R\",\"HMQ1725\",\"X11\",\"X16R\",\"Quark\",\"Quark\",\"Scrypt\",\"Lyra2REv2\",\"Quark\",\"Scrypt\",\"Scrypt\",\"CryptoNight-V7\",\"Cryptonight-GPU\",\"XEVAN\",\"CryptoNight Heavy\",\"X11\",\"X11\",\"Scrypt\",\"PoS\",\"SHA-256\",\"Keccak\",\"X11\",\"X11\",\"Scrypt\",\"SHA-512\",\"X16R\",\"ECC 256K1\",\"Equihash\",\"XEVAN\",\"Lyra2Z\",\"SHA-256\",\"XEVAN\",\"X11\",\"CryptoNight\",\"Quark\",\"Blake\",\"Blake\",\"Equihash\",\"Exosis\",\"Scrypt\",\"Scrypt\",\"Equihash\",\"Quark\",\"Equihash\",\"Quark\",\"Scrypt\",\"QuBit\",\"X11\",\"Scrypt\",\"XEVAN\",\"SHA-256D\",\"X11\",\"SHA-256\",\"X13\",\"SHA-256\",\"X11\",\"DPoS\",\"Scrypt\",\"Scrypt\",\"X11\",\"NeoScrypt\",\"Scrypt\",\"Blake\",\"Scrypt\",\"SHA-256\",\"Scrypt\",\"X11\",\"Scrypt\",\"Scrypt\",\"SHA-256\",\"X11\",\"SHA-256\",\"Scrypt\",\"Scrypt\",\"Scrypt\",\"Groestl\",\"X11\",\"Scrypt\",\"PoS\",\"Scrypt\",\"Scrypt\",\"X11\",\"SHA-256\",\"DPoS\",\"Scrypt\",\"Scrypt\",\"NeoScrypt\",\"Multiple\",\"X13\",\"Equihash+Scrypt\",\"DPoS\",\"Ethash\",\"DPoS\",\"SHA-256\",\"Leased POS\",\"PoS\",\"TRC10\",\"PoS\",\"SHA-256\",\"Scrypt\",\"CryptoNight\",\"Equihash\",\"Scrypt\"],\"Class\":{\"__ndarray__\":\"AAAAAAAAAAAAAAAAAwAAAAMAAAADAAAAAAAAAAMAAAADAAAAAwAAAAAAAAADAAAAAAAAAAAAAAADAAAAAAAAAAMAAAADAAAAAAAAAAAAAAADAAAAAwAAAAMAAAADAAAAAwAAAAAAAAADAAAAAwAAAAMAAAAAAAAAAwAAAAAAAAADAAAAAwAAAAAAAAAAAAAAAwAAAAMAAAADAAAAAwAAAAMAAAADAAAAAAAAAAAAAAADAAAAAwAAAAMAAAADAAAAAwAAAAAAAAAAAAAAAwAAAAAAAAADAAAAAwAAAAMAAAADAAAAAAAAAAMAAAADAAAAAAAAAAMAAAAAAAAAAAAAAAAAAAADAAAAAwAAAAMAAAAAAAAAAAAAAAAAAAAAAAAAAAAAAAMAAAADAAAAAwAAAAAAAAAAAAAAAwAAAAAAAAADAAAAAAAAAAAAAAADAAAAAwAAAAMAAAADAAAAAAAAAAAAAAADAAAAAAAAAAMAAAADAAAAAAAAAAAAAAADAAAAAAAAAAAAAAADAAAAAwAAAAAAAAAAAAAAAwAAAAAAAAAAAAAAAwAAAAAAAAADAAAAAAAAAAMAAAAAAAAAAwAAAAAAAAAAAAAAAwAAAAMAAAAAAAAAAwAAAAMAAAADAAAAAAAAAAMAAAADAAAAAwAAAAMAAAADAAAAAAAAAAAAAAADAAAAAwAAAAMAAAAAAAAAAwAAAAAAAAADAAAAAwAAAAAAAAADAAAAAAAAAAMAAAAAAAAAAAAAAAMAAAADAAAAAAAAAAMAAAADAAAAAAAAAAAAAAADAAAAAAAAAAMAAAAAAAAAAAAAAAAAAAADAAAAAwAAAAMAAAADAAAAAAAAAAAAAAAAAAAAAAAAAAAAAAADAAAAAwAAAAAAAAAAAAAAAAAAAAAAAAAAAAAAAwAAAAAAAAAAAAAAAAAAAAAAAAAAAAAAAwAAAAAAAAADAAAAAAAAAAAAAAADAAAAAAAAAAMAAAAAAAAAAAAAAAMAAAAAAAAAAwAAAAAAAAADAAAAAAAAAAMAAAAAAAAAAAAAAAAAAAAAAAAAAwAAAAAAAAAAAAAAAAAAAAAAAAAAAAAAAwAAAAMAAAAAAAAAAAAAAAMAAAADAAAAAAAAAAAAAAAAAAAAAAAAAAAAAAADAAAAAAAAAAAAAAAAAAAAAAAAAAAAAAAAAAAAAAAAAAAAAAADAAAAAAAAAAAAAAAAAAAAAAAAAAAAAAAAAAAAAwAAAAMAAAADAAAAAAAAAAAAAAAAAAAAAAAAAAMAAAAAAAAAAwAAAAAAAAAAAAAAAwAAAAAAAAADAAAAAwAAAAAAAAADAAAAAwAAAAAAAAADAAAAAAAAAAAAAAAAAAAAAwAAAAAAAAAAAAAAAwAAAAAAAAAAAAAAAAAAAAAAAAAAAAAAAAAAAAAAAAADAAAAAAAAAAMAAAAAAAAAAAAAAAAAAAAAAAAAAwAAAAAAAAADAAAAAAAAAAMAAAADAAAAAwAAAAMAAAAAAAAAAwAAAAAAAAAAAAAAAwAAAAAAAAADAAAAAwAAAAMAAAAAAAAAAwAAAAAAAAADAAAAAwAAAAMAAAAAAAAAAwAAAAAAAAADAAAAAAAAAAAAAAAAAAAAAwAAAAAAAAADAAAAAwAAAAMAAAADAAAAAwAAAAAAAAAAAAAAAwAAAAAAAAAAAAAAAAAAAAMAAAAAAAAAAwAAAAAAAAADAAAAAAAAAAMAAAAAAAAAAAAAAAAAAAAAAAAAAwAAAAAAAAAAAAAAAwAAAAAAAAAAAAAAAAAAAAMAAAADAAAAAwAAAAMAAAAAAAAAAAAAAAAAAAAAAAAAAwAAAAAAAAADAAAAAwAAAAMAAAAAAAAAAAAAAAMAAAADAAAAAAAAAAAAAAADAAAAAAAAAAMAAAADAAAAAwAAAAAAAAADAAAAAwAAAAAAAAAAAAAAAAAAAAMAAAADAAAAAwAAAAAAAAADAAAAAAAAAAMAAAADAAAAAAAAAAMAAAADAAAAAwAAAAMAAAAAAAAAAQAAAAEAAAADAAAAAwAAAAMAAAAAAAAAAQAAAAAAAAAAAAAAAAAAAAAAAAADAAAAAwAAAAMAAAADAAAAAAAAAAAAAAAAAAAAAwAAAAAAAAADAAAAAAAAAAAAAAAAAAAAAAAAAAMAAAAAAAAAAAAAAAMAAAAAAAAAAAAAAAMAAAADAAAAAAAAAAMAAAAAAAAAAwAAAAMAAAADAAAAAwAAAAAAAAAAAAAAAwAAAAAAAAADAAAAAAAAAAAAAAAAAAAAAAAAAAAAAAAAAAAAAwAAAAMAAAADAAAAAAAAAAAAAAAAAAAAAAAAAAAAAAAAAAAAAwAAAAAAAAADAAAAAwAAAAMAAAADAAAAAAAAAAAAAAAAAAAAAAAAAAMAAAAAAAAAAAAAAAMAAAAAAAAAAAAAAAMAAAABAAAAAwAAAAAAAAADAAAAAwAAAAAAAAAAAAAAAwAAAAAAAAADAAAAAwAAAAMAAAADAAAAAwAAAAAAAAADAAAAAAAAAAMAAAAAAAAAAAAAAAMAAAAAAAAAAAAAAAAAAAAAAAAAAAAAAAMAAAADAAAAAwAAAAAAAAAAAAAAAAAAAAMAAAAAAAAAAwAAAAAAAAADAAAAAAAAAAAAAAAAAAAAAAAAAAMAAAAAAAAAAAAAAAAAAAADAAAAAAAAAAMAAAAAAAAAAwAAAAAAAAAAAAAAAAAAAAMAAAADAAAAAAAAAAAAAAAAAAAAAAAAAAAAAAAAAAAAAwAAAAAAAAADAAAAAAAAAAMAAAAAAAAAAAAAAAEAAAAAAAAAAgAAAAAAAAAAAAAAAAAAAAMAAAADAAAAAAAAAA==\",\"dtype\":\"int32\",\"order\":\"little\",\"shape\":[532]},\"CoinName\":[\"42 Coin\",\"404Coin\",\"EliteCoin\",\"Bitcoin\",\"Ethereum\",\"Litecoin\",\"Dash\",\"Monero\",\"Ethereum Classic\",\"ZCash\",\"Bitshares\",\"DigiByte\",\"BitcoinDark\",\"PayCoin\",\"ProsperCoin\",\"KoboCoin\",\"Spreadcoin\",\"Argentum\",\"Aurora Coin\",\"BlueCoin\",\"MyriadCoin\",\"MoonCoin\",\"ZetaCoin\",\"SexCoin\",\"Quatloo\",\"EnergyCoin\",\"QuarkCoin\",\"Riecoin\",\"Digitalcoin \",\"BitBar\",\"Catcoin\",\"CryptoBullion\",\"CannaCoin\",\"CryptCoin\",\"CasinoCoin\",\"Diamond\",\"Verge\",\"DevCoin\",\"EarthCoin\",\"E-Gulden\",\"Einsteinium\",\"Emerald\",\"Exclusive Coin\",\"FlutterCoin\",\"Franko\",\"FeatherCoin\",\"GrandCoin\",\"GlobalCoin\",\"GoldCoin\",\"HoboNickels\",\"HyperStake\",\"Infinite Coin\",\"IOCoin\",\"IXcoin\",\"KrugerCoin\",\"LuckyCoin\",\"Litebar \",\"MaxCoin\",\"MegaCoin\",\"MediterraneanCoin\",\"MintCoin\",\"MinCoin\",\"MazaCoin\",\"Nautilus Coin\",\"NavCoin\",\"NobleCoin\",\"Namecoin\",\"NyanCoin\",\"OpalCoin\",\"Orbitcoin\",\"PotCoin\",\"PhoenixCoin\",\"Reddcoin\",\"RonPaulCoin\",\"StableCoin\",\"SmartCoin\",\"SuperCoin\",\"SyncCoin\",\"SysCoin\",\"TeslaCoin\",\"TigerCoin\",\"TittieCoin\",\"TorCoin\",\"TerraCoin\",\"UnbreakableCoin\",\"Unobtanium\",\"UroCoin\",\"UnitaryStatus Dollar\",\"UltraCoin\",\"ViaCoin\",\"VeriCoin\",\"Vertcoin\",\"WorldCoin\",\"X11 Coin\",\"Crypti\",\"JouleCoin\",\"StealthCoin\",\"ZCC Coin\",\"ByteCoin\",\"DigitalNote \",\"BurstCoin\",\"StorjCoin\",\"MonaCoin\",\"Neutron\",\"FairCoin\",\"Gulden\",\"RubyCoin\",\"PesetaCoin\",\"Kore\",\"Wild Beast Coin\",\"Dnotes\",\"Flo\",\"8BIT Coin\",\"Sativa Coin\",\"ArtByte\",\"Folding Coin\",\"Ucoin\",\"Unitus\",\"CypherPunkCoin\",\"OmniCron\",\"Vtorrent\",\"GreenCoin\",\"Cryptonite\",\"MasterCoin\",\"SoonCoin\",\"1Credit\",\"IslaCoin\",\"Nexus\",\"MarsCoin \",\"Crypto\",\"Anarchists Prime\",\"Droidz\",\"BowsCoin\",\"Squall Coin\",\"Song Coin\",\"BitZeny\",\"Diggits\",\"Expanse\",\"Paycon\",\"Siacoin\",\"Emercoin\",\"EverGreenCoin\",\"MindCoin\",\"I0coin\",\"Decred\",\"Revolution VR\",\"HOdlcoin\",\"EDRCoin\",\"Hitcoin\",\"Gamecredits\",\"DubaiCoin\",\"CarpeDiemCoin\",\"PWR Coin\",\"BillaryCoin\",\"GPU Coin\",\"Adzcoin\",\"SoilCoin\",\"YoCoin\",\"SibCoin\",\"EuropeCoin\",\"ZeitCoin\",\"SwingCoin\",\"SafeExchangeCoin\",\"Nebuchadnezzar\",\"Francs\",\"BolivarCoin\",\"Ratecoin\",\"Revenu\",\"Clockcoin\",\"VIP Tokens\",\"BitSend\",\"Omni\",\"Let it Ride\",\"PutinCoin\",\"iBankCoin\",\"Frankywillcoin\",\"MudraCoin\",\"PizzaCoin\",\"Lutetium Coin\",\"Komodo\",\"GoldBlocks\",\"CarterCoin\",\"Karbo\",\"BitTokens\",\"ZayedCoin\",\"MustangCoin\",\"ZoneCoin\",\"Circuits of Value\",\"RootCoin\",\"DopeCoin\",\"BitCurrency\",\"DollarCoin\",\"Swiscoin\",\"Shilling\",\"BuzzCoin\",\"Opair\",\"PesoBit\",\"Halloween Coin\",\"ZCoin\",\"CoffeeCoin\",\"RoyalCoin\",\"GanjaCoin V2\",\"TeamUP\",\"LanaCoin\",\"Elementrem\",\"ZClassic\",\"ARK\",\"InsaneCoin\",\"KiloCoin\",\"ArtexCoin\",\"EmberCoin\",\"XenixCoin\",\"FreeCoin\",\"PLNCoin\",\"AquariusCoin\",\"Kurrent\",\"Creatio\",\"Eternity\",\"Eurocoin\",\"BitcoinFast\",\"Stakenet\",\"BitConnect Coin\",\"MoneyCoin\",\"Enigma\",\"Cannabis Industry Coin\",\"Russiacoin\",\"PandaCoin\",\"GameUnits\",\"GAKHcoin\",\"Allsafe\",\"LiteCreed\",\"OsmiumCoin\",\"Bikercoins\",\"HexxCoin\",\"Klingon Empire Darsek\",\"Internet of People\",\"KushCoin\",\"Printerium\",\"PacCoin\",\"Impeach\",\"Citadel\",\"Zilbercoin\",\"FirstCoin\",\"BeaverCoin\",\"FindCoin\",\"VaultCoin\",\"Zero\",\"OpenChat\",\"Canada eCoin\",\"Zoin\",\"RenosCoin\",\"DubaiCoin\",\"VirtacoinPlus\",\"TajCoin\",\"Impact\",\"EB3coin\",\"Atmos\",\"HappyCoin\",\"Coinonat\",\"MacronCoin\",\"Condensate\",\"Independent Money System\",\"ArgusCoin\",\"LomoCoin\",\"ProCurrency\",\"GoldReserve\",\"BenjiRolls\",\"GrowthCoin\",\"ILCoin\",\"Phreak\",\"Degas Coin\",\"HTML5 Coin\",\"Ultimate Secure Cash\",\"EquiTrader\",\"QTUM\",\"Quantum Resistant Ledger\",\"Espers\",\"Dynamic\",\"Nano\",\"ChanCoin\",\"Dinastycoin\",\"Denarius\",\"DigitalPrice\",\"Virta Unique Coin\",\"Bitcoin Planet\",\"Unify\",\"BritCoin\",\"SocialCoin\",\"ArcticCoin\",\"DAS\",\"Linda\",\"LeviarCoin\",\"DeepOnion\",\"Bitcore\",\"gCn Coin\",\"SmartCash\",\"Signatum\",\"Onix\",\"Cream\",\"Bitcoin Cash\",\"Monoeci\",\"Draftcoin\",\"Vechain\",\"Sojourn Coin\",\"Stakecoin\",\"NewYorkCoin\",\"FrazCoin\",\"Kronecoin\",\"AdCoin\",\"Linx\",\"CoinonatX\",\"Ethereum Dark\",\"Sumokoin\",\"Obsidian\",\"Cardano\",\"Regalcoin\",\"BitcoinZ\",\"TrezarCoin\",\"Elements\",\"TerraNovaCoin\",\"VIVO Coin\",\"Rupee\",\"Bitcoin Gold\",\"WomenCoin\",\"Theresa May Coin\",\"NamoCoin\",\"LUXCoin\",\"Pirl\",\"Xios\",\"Bitcloud 2.0\",\"eBoost\",\"KekCoin\",\"BlackholeCoin\",\"Infinity Economics\",\"Pura\",\"Innova\",\"Ellaism\",\"GoByte\",\"Magnet\",\"Lamden Tau\",\"Electra\",\"Bitcoin Diamond\",\"SHIELD\",\"Cash & Back Coin\",\"UltraNote\",\"BitCoal\",\"DaxxCoin\",\"Bulwark\",\"Kalkulus\",\"AC3\",\"Lethean\",\"GermanCoin\",\"LiteCoin Ultra\",\"PopularCoin\",\"PhantomX\",\"Photon\",\"Sucre\",\"SparksPay\",\"Digiwage\",\"GunCoin\",\"IrishCoin\",\"Trollcoin\",\"Litecoin Plus\",\"Monkey Project\",\"Pioneer Coin\",\"UnitedBitcoin\",\"Interzone\",\"TokenPay\",\"1717 Masonic Commemorative Token\",\"My Big Coin\",\"TurtleCoin\",\"MUNcoin\",\"Unified Society USDEX\",\"Niobio Cash\",\"ShareChain\",\"Travelflex\",\"KREDS\",\"Tokyo Coin\",\"BiblePay\",\"LitecoinCash\",\"BitFlip\",\"LottoCoin\",\"Crypto Improvement Fund\",\"Stipend\",\"Poa Network\",\"Pushi\",\"Ellerium\",\"Velox\",\"Ontology\",\"Callisto Network\",\"BitTube\",\"Poseidon\",\"Aidos Kuneen\",\"Bitspace\",\"Briacoin\",\"Ignition\",\"Bitrolium\",\"MedicCoin\",\"Alpenschillling\",\"Bitcoin Green\",\"Deviant Coin\",\"Abjcoin\",\"Semux\",\"FuturoCoin\",\"Carebit\",\"Zealium\",\"Monero Classic\",\"Proton\",\"iDealCash\",\"Jumpcoin\",\"Infinex\",\"Bitcoin Incognito\",\"KEYCO\",\"HollyWoodCoin\",\"GINcoin\",\"PlatinCoin\",\"Loki\",\"Newton Coin\",\"Swisscoin\",\"Xt3ch\",\"MassGrid\",\"TheVig\",\"PluraCoin\",\"EmaratCoin\",\"Dekado\",\"Lynx\",\"Poseidon Quark\",\"BitcoinWSpectrum\",\"Muse\",\"Motion\",\"PlusOneCoin\",\"Axe\",\"Trivechain\",\"Dystem\",\"Giant\",\"Peony Coin\",\"Absolute Coin\",\"Vitae\",\"HexCoin\",\"TPCash\",\"Webchain\",\"Ryo\",\"Urals Coin\",\"Qwertycoin\",\"ARENON\",\"EUNO\",\"MMOCoin\",\"Ketan\",\"Project Pai\",\"XDNA\",\"PAXEX\",\"Azart\",\"ThunderStake\",\"Kcash\",\"Xchange\",\"Acute Angle Cloud\",\"CrypticCoin\",\"Bettex coin\",\"Actinium\",\"Bitcoin SV\",\"BitMoney\",\"Junson Ming Chan Coin\",\"FREDEnergy\",\"HerbCoin\",\"Universal Molecule\",\"Lithium\",\"PirateCash\",\"Exosis\",\"Block-Logic\",\"Oduwa\",\"Beam\",\"Galilel\",\"Bithereum\",\"Crypto Sports\",\"Credit\",\"SLICE\",\"Dash Platinum\",\"Nasdacoin\",\"Beetle Coin\",\"Titan Coin\",\"Award\",\"BLAST\",\"Bitcoin Rhodium\",\"GlobalToken\",\"Insane Coin\",\"ALAX\",\"LiteDoge\",\"SolarCoin\",\"TruckCoin\",\"UFO Coin\",\"OrangeCoin\",\"BlakeCoin\",\"BitstarCoin\",\"NeosCoin\",\"HyperCoin\",\"PinkCoin\",\"Crypto Escudo\",\"AudioCoin\",\"IncaKoin\",\"Piggy Coin\",\"Crown Coin\",\"Genstake\",\"SmileyCoin\",\"XiaoMiCoin\",\"Groestlcoin\",\"CapriCoin\",\" ClubCoin\",\"Radium\",\"Bata\",\"Pakcoin\",\"Creditbit \",\"OKCash\",\"Lisk\",\"HiCoin\",\"WhiteCoin\",\"FriendshipCoin\",\"JoinCoin\",\"Triangles Coin\",\"Vollar\",\"EOS\",\"Reality Clash\",\"Oxycoin\",\"TigerCash\",\"Waves\",\"Particl\",\"BitTorrent\",\"Nxt\",\"ZEPHYR\",\"Gapcoin\",\"Beldex\",\"Horizen\",\"BitcoinPlus\"],\"ProofType\":[\"PoW/PoS\",\"PoW/PoS\",\"PoW/PoS\",\"PoW\",\"PoW\",\"PoW\",\"PoW/PoS\",\"PoW\",\"PoW\",\"PoW\",\"PoS\",\"PoW\",\"PoW/PoS\",\"PoS\",\"PoW\",\"PoW/PoS\",\"PoW\",\"PoW\",\"PoW/PoS\",\"PoW/PoS\",\"PoW\",\"PoW\",\"PoW\",\"PoW\",\"PoW\",\"PoW/PoS\",\"PoW\",\"PoW\",\"PoW\",\"PoW/PoS\",\"PoW\",\"PoW/PoS\",\"PoW\",\"PoW\",\"PoC\",\"PoW/PoS\",\"PoW\",\"PoW\",\"PoW\",\"PoW\",\"PoW\",\"PoW\",\"PoS\",\"PoS/PoW/PoT\",\"PoW\",\"PoW\",\"PoW\",\"PoW\",\"PoW\",\"PoW/PoS\",\"PoS\",\"PoW\",\"PoW/PoS\",\"PoW\",\"PoW\",\"PoW\",\"PoW\",\"PoW/PoS\",\"PoW\",\"PoW\",\"PoS\",\"PoW\",\"PoW/PoS\",\"PoS\",\"PoW/PoS\",\"PoW\",\"PoW\",\"PoW\",\"PoW/PoS\",\"PoW/PoS\",\"PoW/PoS\",\"PoW/PoS\",\"PoW/PoS\",\"PoW\",\"PoW\",\"PoW\",\"PoS\",\"PoW/PoS\",\"PoW\",\"PoS\",\"PoW\",\"PoS\",\"PoW/PoS\",\"PoW\",\"PoW\",\"PoW\",\"PoW\",\"PoW/PoS\",\"PoW/PoS\",\"PoW\",\"PoST\",\"PoW\",\"PoW\",\"PoW/PoS\",\"PoS\",\"PoW\",\"PoW/PoS\",\"PoW/PoS\",\"PoW\",\"PoW\",\"PoC\",\"PoS\",\"PoW\",\"PoW/PoS\",\"PoW/PoS\",\"PoW\",\"PoS\",\"PoW\",\"PoW/PoS\",\"PoW\",\"PoS\",\"PoW\",\"PoW/PoS\",\"PoW/PoS\",\"PoW\",\"PoW\",\"PoS\",\"PoW\",\"PoW\",\"PoW\",\"PoW/PoS\",\"PoW\",\"PoW\",\"PoW\",\"PoW\",\"PoW\",\"PoW/PoS\",\"PoW/nPoS\",\"PoW\",\"PoW\",\"PoW\",\"PoW/PoS\",\"PoW\",\"PoS/PoW\",\"PoW\",\"PoW\",\"PoS\",\"PoW\",\"PoW/PoS\",\"PoW\",\"PoW/PoS\",\"PoW/PoS\",\"PoW\",\"PoW\",\"PoW/PoS\",\"PoW\",\"PoW\",\"PoW/PoS\",\"PoW/PoS\",\"PoW\",\"PoW/PoS\",\"PoW\",\"PoW/PoS\",\"PoW/PoS\",\"PoS\",\"PoW\",\"PoW\",\"PoW\",\"PoW\",\"PoW/PoS\",\"PoS\",\"PoW/PoS\",\"PoC\",\"PoS\",\"PoW\",\"PoW\",\"PoW/PoS\",\"PoW/PoS\",\"PoW/PoS\",\"PoW/PoS\",\"PoW/PoS\",\"PoW\",\"PoS\",\"PoW/PoS\",\"PoW/PoS\",\"PoW/PoS\",\"PoS\",\"PoW\",\"PoS\",\"dPoW/PoW\",\"PoW/PoS\",\"PoW/PoS\",\"PoW\",\"PoW/PoS\",\"PoW\",\"PoW/PoS\",\"PoW/PoS\",\"PoW\",\"PoW/PoS\",\"PoW\",\"PoS\",\"PoW\",\"PoW/PoW\",\"PoW\",\"PoW/PoS\",\"PoS\",\"PoW/PoS\",\"PoW/PoS\",\"PoW\",\"PoS\",\"PoS\",\"PoW/PoS\",\"PoS\",\"PoW/PoS\",\"PoW\",\"PoW\",\"DPoS\",\"PoW/PoS\",\"PoW\",\"PoW\",\"PoW/PoS\",\"PoW/PoS\",\"PoS\",\"PoW/PoS\",\"PoW/PoS\",\"PoW\",\"PoS\",\"PoW/PoS\",\"PoW/PoS\",\"PoW/PoS\",\"TPoS\",\"PoW/PoS\",\"PoW/PoS\",\"PoW/PoS\",\"PoW\",\"PoW/PoS\",\"PoS\",\"PoW/PoS\",\"PoW/PoS\",\"PoS\",\"PoW/PoS\",\"PoW\",\"PoW\",\"PoW\",\"PoW/PoS\",\"PoW/PoS\",\"PoW/PoS\",\"PoW/PoS\",\"PoW\",\"PoW/PoS\",\"PoW\",\"PoS\",\"PoW/PoS \",\"PoW\",\"PoS\",\"PoW\",\"PoW\",\"PoW/PoS\",\"PoW\",\"PoW\",\"PoS\",\"PoW\",\"PoW/PoS\",\"PoW/PoS\",\"PoW/PoS\",\"PoW\",\"PoS\",\"PoW/PoS\",\"PoW\",\"PoS\",\"PoW/PoS\",\"PoW/PoS\",\"PoW/PoS\",\"PoW/PoS\",\"PoS\",\"PoW/PoS\",\"PoW\",\"PoS\",\"PoW\",\"PoS\",\"PoW/PoS\",\"PoW/PoS\",\"PoS\",\"PoW\",\"PoS\",\"PoW\",\"PoW/PoS\",\"PoW\",\"PoW\",\"PoW\",\"PoW\",\"PoW/PoS\",\"PoW\",\"PoW/PoS\",\"PoW/PoS\",\"PoW\",\"PoW/PoS\",\"PoW\",\"PoW\",\"PoW\",\"PoW/PoS\",\"PoW\",\"PoW/PoS\",\"PoW\",\"PoW\",\"PoW\",\"PoS\",\"PoW\",\"PoW/PoS\",\"PoW\",\"PoW/PoS\",\"PoS\",\"Proof of Authority\",\"PoW\",\"PoS\",\"PoW\",\"PoW\",\"PoW\",\"PoW\",\"PoW\",\"PoW/PoS\",\"PoW/PoS\",\"PoW\",\"PoS\",\"PoS\",\"PoW/PoS\",\"PoW\",\"PoW/PoS\",\"PoW\",\"PoW/PoS\",\"PoW\",\"PoS\",\"PoW\",\"PoW/PoS\",\"PoW/PoS\",\"PoW/PoS\",\"PoW/PoS\",\"PoW\",\"PoW/PoS\",\"PoW/PoS\",\"PoW\",\"PoS\",\"PoW/PoS\",\"PoS\",\"PoW\",\"PoW\",\"PoW\",\"PoW\",\"PoW/PoS\",\"DPoS\",\"PoW/PoS\",\"PoW/PoS\",\"PoW\",\"PoW/PoS\",\"PoW\",\"PoW\",\"PoW\",\"PoS\",\"PoS\",\"PoW\",\"PoW\",\"PoW/PoS\",\"PoW/PoS\",\"PoW\",\"PoW/PoS\",\"PoW\",\"PoW\",\"PoW\",\"PoS\",\"PoW\",\"PoW\",\"PoW/PoS\",\"PoW/PoS\",\"PoS\",\"PoW\",\"PoW\",\"PoW\",\"PoS\",\"PoS\",\"PoW and PoS\",\"PoW\",\"PoW\",\"PoW/PoS\",\"PoW\",\"PoW\",\"PoW\",\"PoW\",\"PoS\",\"POBh\",\"PoW + Hive\",\"PoW\",\"PoW\",\"PoW\",\"PoW/PoS\",\"PoA\",\"PoW/PoS\",\"PoW/PoS\",\"PoS\",\"PoS\",\"PoW\",\"PoW\",\"PoW\",\"PoW\",\"PoW/PoS\",\"PoW/PoS\",\"PoW/PoS\",\"PoW\",\"PoS\",\"PoW\",\"PoS\",\"PoS\",\"PoW/PoS\",\"DPoS\",\"PoW\",\"PoW/PoS\",\"PoS\",\"PoW\",\"PoS\",\"PoW/PoS\",\"PoW\",\"PoW\",\"PoS/PoW\",\"PoW\",\"PoS\",\"PoW\",\"PoW\",\"PoW\",\"PoW\",\"PoW/PoS\",\"PoS\",\"PoW\",\"PoW/PoS\",\"PoW\",\"PoW/PoS\",\"PoS\",\"HPoW\",\"PoS\",\"PoS\",\"PoS\",\"PoW\",\"PoW\",\"PoW\",\"PoW/PoS\",\"PoS\",\"PoW/PoS\",\"PoS\",\"PoW/PoS\",\"PoS\",\"PoW\",\"PoW/PoS\",\"PoW\",\"PoW\",\"PoW\",\"PoW\",\"PoS\",\"PoW/PoS\",\"PoS\",\"PoS\",\"PoW\",\"PoW/PoS\",\"PoS\",\"PoW\",\"PoW/PoS\",\"Zero-Knowledge Proof\",\"PoW\",\"DPOS\",\"PoW\",\"PoS\",\"PoW\",\"PoW\",\"Pos\",\"PoS\",\"PoW\",\"PoW/PoS\",\"PoW\",\"PoW\",\"PoS\",\"PoW\",\"PoW\",\"PoW/PoS\",\"PoW\",\"PoW/PoS\",\"PoW\",\"PoS\",\"PoW/PoS\",\"PoW\",\"PoS\",\"PoW/PoS\",\"PoW/PoS\",\"PoW/PoS\",\"PoW/PoS\",\"PoW\",\"PoW\",\"PoW\",\"PoW/PoS\",\"DPoS\",\"PoW/PoS\",\"PoW\",\"PoW/PoS\",\"PoW\",\"PoW/PoS\",\"PoW\",\"PoW/PoS\",\"PoS\",\"PoW/PoS\",\"PoW/PoS\",\"PoW\",\"PoW/PoS\",\"PoW/PoS\",\"PoW/PoS\",\"PoW\",\"PoW/PoS\",\"PoW\",\"PoW/PoS\",\"PoW\",\"PoW/PoS\",\"PoW/PoS\",\"PoS\",\"PoW\",\"PoW\",\"Proof of Trust\",\"PoW/PoS\",\"DPoS\",\"PoS\",\"PoW/PoS\",\"PoW/PoS\",\"PoW\",\"PoW/PoS\",\"PoW\",\"DPoS\",\"PoW\",\"DPoS\",\"PoS\",\"LPoS\",\"PoS\",\"DPoS\",\"PoS/LPoS\",\"DPoS\",\"PoW/PoS\",\"PoW\",\"PoW\",\"PoS\"],\"TotalCoinSupply\":[\"42\",\"532000000\",\"314159265359\",\"21000000\",\"0\",\"84000000\",\"22000000\",\"0\",\"210000000\",\"21000000\",\"3600570502\",\"21000000000\",\"22000000\",\"12500000\",\"21000000\",\"350000000\",\"20000000\",\"64000000\",\"16768584\",\"0\",\"2000000000\",\"384000000000\",\"169795588\",\"250000000\",\"100000000\",\"0\",\"247000000\",\"84000000\",\"48166000\",\"500000\",\"21000000 \",\"1000000\",\"13140000\",\"18000000\",\"40000000000\",\"4380000\",\"16555000000\",\"21000000000\",\"13500000000\",\"21000000 \",\"299792458\",\"32000000\",\"0\",\"0\",\"11235813\",\"336000000\",\"1420609614\",\"70000000\",\"72245700\",\"120000000\",\"0\",\"90600000000\",\"22000000\",\"21000000\",\"265420800\",\"20000000\",\"1350000\",\"100000000\",\"42000000\",\"200000000\",\"0\",\"10000000\",\"2419200000\",\"16180000\",\"0\",\"15000000000\",\"21000000\",\"337000000\",\"0\",\"3770000\",\"420000000\",\"98000000\",\"0\",\"21000000\",\"250000000\",\"51200000\",\"0\",\"1000\",\"888000000\",\"100000000\",\"47011968\",\"2300000000\",\"10000000\",\"42000000\",\"80000000\",\"250000\",\"0\",\"1600000000\",\"100000000\",\"23000000\",\"0\",\"84000000\",\"265420800\",\"5500000\",\"0\",\"45000000\",\"0\",\"1000000000\",\"184467440735\",\"10000000000\",\"2158812800\",\"500000000\",\"105120000\",\"68000000\",\"0\",\"1680000000\",\"0\",\"166386000\",\"12000000\",\"2628000\",\"500000000\",\"160000000\",\"0\",\"10000000\",\"1000000000\",\"1000000000\",\"20000000\",\"0\",\"0\",\"3371337\",\"20000000\",\"10000000000\",\"1840000000\",\"619478\",\"21000000\",\"92000000000\",\"0\",\"78000000\",\"33000000\",\"65789100\",\"53760000\",\"5060000\",\"21000000\",\"0\",\"210240000\",\"250000000\",\"100000000\",\"16906397\",\"50000000\",\"0\",\"1000000000\",\"26298000\",\"16000000\",\"21000000\",\"21000000\",\"210000000\",\"81962100\",\"22000000\",\"26550000000\",\"84000000\",\"10500000\",\"21626280000 \",\"0\",\"42000000\",\"221052632\",\"84000000\",\"30000000\",\"168351300\",\"24000000\",\"384000000\",\" 99000000000\",\"40000000\",\"2147483647\",\"20000000\",\"20000000\",\"25000000\",\"75000000\",\"222725000\",\"525000000\",\"90000000\",\"139000000\",\"616448\",\"33500000\",\"2000000000\",\"44333333\",\"100000000\",\"200000000\",\"25000000\",\"657000000\",\"200000000\",\"50000000\",\"90000000\",\"10000000\",\"21000000\",\"9736000\",\"3000000\",\"21000000\",\"1200000000\",\"0\",\"200000000\",\"0\",\"10638298\",\"3100000000\",\"30000000\",\"20000000000\",\"74000000\",\"0\",\"1500000000\",\"21400000\",\"39999898\",\"2500124\",\"100000000\",\"301000000\",\"7506000000\",\"26205539\",\"21000000\",\"125000000\",\"30000000\",\"10000000000\",\"500000000\",\"850000000\",\"3853326.77707314\",\"50000000\",\"38540000 \",\"42000000\",\"228000000\",\"20000000\",\"60000000\",\"20000000\",\"33000000\",\"76500000\",\"28000000\",\"650659833\",\"5000000\",\"21000000\",\"144000000\",\"32514916898\",\"13000000\",\"3315789\",\"15000000\",\"78835200\",\"2714286\",\"25000000\",\"9999999\",\"500000000\",\"21000000\",\"9354000\",\"20000000\",\"100000000000\",\"21933333\",\"185000000\",\"55000000\",\"110000000\",\"3360000\",\"14524851.4827\",\"1000000000\",\"17000000\",\"1000000000\",\"100000000 \",\"21000000\",\"34426423\",\"2232901\",\"100000000\",\"36900000\",\"110000000\",\"4000000000\",\"110290030\",\"100000000\",\"48252000\",\"400000000\",\"500000000\",\"21212121\",\"28600000\",\"1000000000\",\"75000000000\",\"40000000\",\"35520400\",\"2000000000\",\"2500000000\",\"30000000\",\"105000000\",\"90000000000\",\"200084200\",\"72000000\",\"100000000\",\"105000000\",\"50000000000\",\"0\",\"340282367\",\"30000000\",\"2000000000\",\"10000000\",\"100000000\",\"120000000\",\"100000000\",\"19276800\",\"30000000\",\" 75000000\",\"60000000\",\"18900000\",\"50000000000\",\"54000000\",\"18898187.6216583\",\"21000000\",\"200000000000\",\"5000000000\",\"137500000\",\"1100000000\",\"100000000\",\"21000000\",\"9507271\",\"17405891.19707116\",\"86712634466\",\"10500000000\",\"61599965\",\"0\",\"20000000\",\"84000000\",\"100000000\",\"100000000\",\"48252000\",\"4200000\",\"88888888\",\"91388946\",\"45000000000\",\"27000000\",\"21000000000\",\"400000000\",\"1800000000\",\"15733333\",\"27000000\",\"24000000\",\"21000000\",\"25000000000\",\"100000000\",\"1200000000\",\"60000000\",\"156306732.71\",\"21000000\",\"200000000\",\"100000000\",\"21000000\",\"14788275.991\",\"9000000000\",\"350000000\",\"45000000\",\"280000000\",\"31800000\",\"144000000\",\"500000000\",\"30000000000\",\"210000000\",\"660000000\",\"210000000\",\"85000000000\",\"12500000\",\"10000000000\",\"27716121\",\"20000000\",\"550000000\",\"999481516\",\"50000000000\",\"150000000\",\"4999999999\",\"50000000\",\" 90000000000\",\"19800000\",\"21000000\",\"120000000\",\"500000000\",\"64000000\",\"900000000\",\"4000000\",\"21000000\",\"23000000\",\"20166000\",\"23000000\",\"25000000\",\"1618033\",\"30000000\",\"1000000000000\",\"16600000\",\"232000000\",\"336000000\",\"10000000000\",\"100000000\",\"1100000000\",\"800000000\",\"5200000000\",\"840000000\",\"40000000\",\"18406979840\",\"500000000\",\"19340594\",\"252460800\",\"25000000\",\"60000000\",\"124000000\",\"1000000000\",\"6500000000\",\"1000000000\",\"21000000\",\"25000000\",\"50000000\",\"3000000\",\"5000000\",\"70000000\",\"500000000\",\"300000000\",\"21000000\",\"88000000\",\"30000000\",\"100000000\",\"100000000\",\"200000000\",\"80000000\",\"18400000\",\"45000000\",\"5121951220\",\"21000000\",\"26280000\",\"21000000\",\"18000000\",\"26000000\",\"10500000\",\"600000518\",\"150000000\",\"184000000000\",\"10200000000\",\"44000000\",\"168000000\",\"100000000\",\"1000000000\",\"84000000\",\"90000000\",\"92000000000\",\"650000000 \",\"100262205\",\"18081806 \",\"22075700\",\"21000000\",\"21000000\",\"82546564\",\"21000000\",\"5151000\",\"16880000000\",\"52500000\",\"100000000\",\"22105263\",\"1000000000\",\"1750000000\",\"88188888\",\"210000000\",\"184470000000\",\"55000000\",\"50000000\",\"260000000\",\"210000000\",\"2100000000\",\"366000000\",\"100000000\",\"25000000\",\"18000000000\",\"1000000000\",\"100000000\",\"1000000000\",\"7600000000\",\"50000000\",\"84000000\",\"21000000\",\"70000000000\",\"0\",\"8080000000\",\"54000000\",\"105120001.44\",\"25228800\",\"105000000\",\"21000000\",\"120000000\",\"21000000\",\"262800000\",\"19035999\",\"30886000\",\"13370000\",\"74800000000\",\"100000000\",\"19700000\",\"84000000\",\"500000000\",\"5000000000\",\"420000000\",\"64000000\",\"2100000\",\"168000000\",\"30000000\",\"1000000000\",\"35000000000\",\"98100000000\",\"0\",\"4000000000\",\"200000000\",\"7000000000\",\"54256119\",\"21000000\",\"0\",\"500000000\",\"1000000000\",\"10500000000\",\"190000000\",\"1000000000\",\"42000000\",\"15000000\",\"50000000000\",\"400000000\",\"105000000\",\"208000000\",\"160000000\",\"9000000\",\"5000000\",\"182000000\",\"16504333\",\"105000000\",\"159918400\",\"10008835635\",\"300000000\",\"60168145\",\"2800000\",\"120000\",\"2100000000\",\"0\",\"24487944\",\"0\",\"1000000000\",\"100000000\",\"8634140\",\"990000000000\",\"1000000000\",\"2000000000\",\"250000000\",\"1400222610\",\"21000000\",\"1000000\"],\"TotalCoinsMined\":{\"__ndarray__\":\"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\",\"dtype\":\"float64\",\"order\":\"little\",\"shape\":[532]}},\"selected\":{\"id\":\"2549\"},\"selection_policy\":{\"id\":\"2583\"}},\"id\":\"2548\",\"type\":\"ColumnDataSource\"},{\"attributes\":{},\"id\":\"2576\",\"type\":\"IntEditor\"},{\"attributes\":{\"margin\":[5,5,5,5],\"name\":\"HSpacer04578\",\"sizing_mode\":\"stretch_width\"},\"id\":\"2587\",\"type\":\"Spacer\"},{\"attributes\":{\"source\":{\"id\":\"2548\"}},\"id\":\"2582\",\"type\":\"CDSView\"},{\"attributes\":{\"margin\":[5,5,5,5],\"name\":\"HSpacer04577\",\"sizing_mode\":\"stretch_width\"},\"id\":\"2547\",\"type\":\"Spacer\"},{\"attributes\":{\"editor\":{\"id\":\"2561\"},\"field\":\"ProofType\",\"formatter\":{\"id\":\"2560\"},\"title\":\"ProofType\"},\"id\":\"2562\",\"type\":\"TableColumn\"}],\"root_ids\":[\"2546\"]},\"title\":\"Bokeh Application\",\"version\":\"2.4.2\"}};\n",
       "    var render_items = [{\"docid\":\"a70b498b-974f-421e-8d68-980dd5ee45e2\",\"root_ids\":[\"2546\"],\"roots\":{\"2546\":\"593faa02-e82a-4b4f-a3b9-e109f06855a3\"}}];\n",
       "    root.Bokeh.embed.embed_items_notebook(docs_json, render_items);\n",
       "  }\n",
       "  if (root.Bokeh !== undefined && root.Bokeh.Panel !== undefined) {\n",
       "    embed_document(root);\n",
       "  } else {\n",
       "    var attempts = 0;\n",
       "    var timer = setInterval(function(root) {\n",
       "      if (root.Bokeh !== undefined && root.Bokeh.Panel !== undefined) {\n",
       "        clearInterval(timer);\n",
       "        embed_document(root);\n",
       "      } else if (document.readyState == \"complete\") {\n",
       "        attempts++;\n",
       "        if (attempts > 200) {\n",
       "          clearInterval(timer);\n",
       "          console.log(\"Bokeh: ERROR: Unable to run BokehJS code because BokehJS library is missing\");\n",
       "        }\n",
       "      }\n",
       "    }, 25, root)\n",
       "  }\n",
       "})(window);</script>"
      ],
      "text/plain": [
       ":Table   [CoinName,Algorithm,ProofType,TotalCoinSupply,TotalCoinsMined,Class]"
      ]
     },
     "execution_count": 248,
     "metadata": {
      "application/vnd.holoviews_exec.v0+json": {
       "id": "2546"
      }
     },
     "output_type": "execute_result"
    }
   ],
   "source": [
    "# Create a table with tradable cryptocurrencies.\n",
    "tradable_crypto_table = clustered_df.hvplot.table(columns=['CoinName', 'Algorithm', 'ProofType', 'TotalCoinSupply', \n",
    "                                                  'TotalCoinsMined', 'Class'], sortable=True, selectable=True)\n",
    "tradable_crypto_table"
   ]
  },
  {
   "cell_type": "code",
   "execution_count": 249,
   "metadata": {},
   "outputs": [
    {
     "name": "stdout",
     "output_type": "stream",
     "text": [
      "Total Tradable Cryptocurrencies:  532\n"
     ]
    }
   ],
   "source": [
    "# Print the total number of tradable cryptocurrencies.\n",
    "print(f'Total Tradable Cryptocurrencies:  {len(clustered_df)}')"
   ]
  },
  {
   "cell_type": "code",
   "execution_count": 250,
   "metadata": {},
   "outputs": [
    {
     "data": {
      "text/plain": [
       "array([[4.20000000e-11, 0.00000000e+00],\n",
       "       [5.32000000e-04, 1.06585544e-03],\n",
       "       [3.14159265e-01, 2.95755135e-02],\n",
       "       ...,\n",
       "       [1.40022261e-03, 9.90135079e-04],\n",
       "       [2.10000000e-05, 7.37028150e-06],\n",
       "       [1.00000000e-06, 1.29582282e-07]])"
      ]
     },
     "execution_count": 250,
     "metadata": {},
     "output_type": "execute_result"
    }
   ],
   "source": [
    "# Scaling data to create the scatter plot with tradable cryptocurrencies.\n",
    "scatter = clustered_df[['TotalCoinSupply', 'TotalCoinsMined']]\n",
    "scaled_scatter = MinMaxScaler().fit_transform(scatter)\n",
    "scaled_scatter"
   ]
  },
  {
   "cell_type": "code",
   "execution_count": 251,
   "metadata": {},
   "outputs": [
    {
     "data": {
      "text/html": [
       "<div>\n",
       "<style scoped>\n",
       "    .dataframe tbody tr th:only-of-type {\n",
       "        vertical-align: middle;\n",
       "    }\n",
       "\n",
       "    .dataframe tbody tr th {\n",
       "        vertical-align: top;\n",
       "    }\n",
       "\n",
       "    .dataframe thead th {\n",
       "        text-align: right;\n",
       "    }\n",
       "</style>\n",
       "<table border=\"1\" class=\"dataframe\">\n",
       "  <thead>\n",
       "    <tr style=\"text-align: right;\">\n",
       "      <th></th>\n",
       "      <th>TotalCoinSupply</th>\n",
       "      <th>TotalCoinsMined</th>\n",
       "      <th>CoinName</th>\n",
       "      <th>Class</th>\n",
       "    </tr>\n",
       "  </thead>\n",
       "  <tbody>\n",
       "    <tr>\n",
       "      <th>42</th>\n",
       "      <td>42</td>\n",
       "      <td>4.199995e+01</td>\n",
       "      <td>42 Coin</td>\n",
       "      <td>0</td>\n",
       "    </tr>\n",
       "    <tr>\n",
       "      <th>404</th>\n",
       "      <td>532000000</td>\n",
       "      <td>1.055185e+09</td>\n",
       "      <td>404Coin</td>\n",
       "      <td>0</td>\n",
       "    </tr>\n",
       "    <tr>\n",
       "      <th>1337</th>\n",
       "      <td>314159265359</td>\n",
       "      <td>2.927942e+10</td>\n",
       "      <td>EliteCoin</td>\n",
       "      <td>0</td>\n",
       "    </tr>\n",
       "    <tr>\n",
       "      <th>BTC</th>\n",
       "      <td>21000000</td>\n",
       "      <td>1.792718e+07</td>\n",
       "      <td>Bitcoin</td>\n",
       "      <td>3</td>\n",
       "    </tr>\n",
       "    <tr>\n",
       "      <th>ETH</th>\n",
       "      <td>0</td>\n",
       "      <td>1.076842e+08</td>\n",
       "      <td>Ethereum</td>\n",
       "      <td>3</td>\n",
       "    </tr>\n",
       "    <tr>\n",
       "      <th>LTC</th>\n",
       "      <td>84000000</td>\n",
       "      <td>6.303924e+07</td>\n",
       "      <td>Litecoin</td>\n",
       "      <td>3</td>\n",
       "    </tr>\n",
       "    <tr>\n",
       "      <th>DASH</th>\n",
       "      <td>22000000</td>\n",
       "      <td>9.031294e+06</td>\n",
       "      <td>Dash</td>\n",
       "      <td>0</td>\n",
       "    </tr>\n",
       "    <tr>\n",
       "      <th>XMR</th>\n",
       "      <td>0</td>\n",
       "      <td>1.720114e+07</td>\n",
       "      <td>Monero</td>\n",
       "      <td>3</td>\n",
       "    </tr>\n",
       "    <tr>\n",
       "      <th>ETC</th>\n",
       "      <td>210000000</td>\n",
       "      <td>1.133597e+08</td>\n",
       "      <td>Ethereum Classic</td>\n",
       "      <td>3</td>\n",
       "    </tr>\n",
       "    <tr>\n",
       "      <th>ZEC</th>\n",
       "      <td>21000000</td>\n",
       "      <td>7.383056e+06</td>\n",
       "      <td>ZCash</td>\n",
       "      <td>3</td>\n",
       "    </tr>\n",
       "  </tbody>\n",
       "</table>\n",
       "</div>"
      ],
      "text/plain": [
       "     TotalCoinSupply  TotalCoinsMined          CoinName  Class\n",
       "42                42     4.199995e+01           42 Coin      0\n",
       "404        532000000     1.055185e+09           404Coin      0\n",
       "1337    314159265359     2.927942e+10         EliteCoin      0\n",
       "BTC         21000000     1.792718e+07           Bitcoin      3\n",
       "ETH                0     1.076842e+08          Ethereum      3\n",
       "LTC         84000000     6.303924e+07          Litecoin      3\n",
       "DASH        22000000     9.031294e+06              Dash      0\n",
       "XMR                0     1.720114e+07            Monero      3\n",
       "ETC        210000000     1.133597e+08  Ethereum Classic      3\n",
       "ZEC         21000000     7.383056e+06             ZCash      3"
      ]
     },
     "execution_count": 251,
     "metadata": {},
     "output_type": "execute_result"
    }
   ],
   "source": [
    "# Create a new DataFrame that has the scaled data with the clustered_df DataFrame index.\n",
    "df_scaled = pd.DataFrame(clustered_df[[\"TotalCoinSupply\", \"TotalCoinsMined\"]], index=clustered_df.index)\n",
    "\n",
    "# Add the \"CoinName\" column from the clustered_df DataFrame to the new DataFrame.\n",
    "df_scaled[\"CoinName\"] = clustered_df[\"CoinName\"]\n",
    "\n",
    "# Add the \"Class\" column from the clustered_df DataFrame to the new DataFrame. \n",
    "df_scaled[\"Class\"] = clustered_df[\"Class\"]\n",
    "\n",
    "df_scaled.head(10)"
   ]
  },
  {
   "cell_type": "code",
   "execution_count": 254,
   "metadata": {},
   "outputs": [
    {
     "data": {},
     "metadata": {},
     "output_type": "display_data"
    },
    {
     "data": {
      "application/vnd.holoviews_exec.v0+json": "",
      "text/html": [
       "<div id='2961'>\n",
       "\n",
       "\n",
       "\n",
       "\n",
       "\n",
       "  <div class=\"bk-root\" id=\"06488103-0f55-49b2-baa2-dd982e54ac2f\" data-root-id=\"2961\"></div>\n",
       "</div>\n",
       "<script type=\"application/javascript\">(function(root) {\n",
       "  function embed_document(root) {\n",
       "    var docs_json = {\"1adae1ca-4df0-4519-9f99-100e1cb2dd13\":{\"defs\":[{\"extends\":null,\"module\":null,\"name\":\"ReactiveHTML1\",\"overrides\":[],\"properties\":[]},{\"extends\":null,\"module\":null,\"name\":\"FlexBox1\",\"overrides\":[],\"properties\":[{\"default\":\"flex-start\",\"kind\":null,\"name\":\"align_content\"},{\"default\":\"flex-start\",\"kind\":null,\"name\":\"align_items\"},{\"default\":\"row\",\"kind\":null,\"name\":\"flex_direction\"},{\"default\":\"wrap\",\"kind\":null,\"name\":\"flex_wrap\"},{\"default\":\"flex-start\",\"kind\":null,\"name\":\"justify_content\"}]},{\"extends\":null,\"module\":null,\"name\":\"GridStack1\",\"overrides\":[],\"properties\":[{\"default\":\"warn\",\"kind\":null,\"name\":\"mode\"},{\"default\":null,\"kind\":null,\"name\":\"ncols\"},{\"default\":null,\"kind\":null,\"name\":\"nrows\"},{\"default\":true,\"kind\":null,\"name\":\"allow_resize\"},{\"default\":true,\"kind\":null,\"name\":\"allow_drag\"},{\"default\":[],\"kind\":null,\"name\":\"state\"}]},{\"extends\":null,\"module\":null,\"name\":\"click1\",\"overrides\":[],\"properties\":[{\"default\":\"\",\"kind\":null,\"name\":\"terminal_output\"},{\"default\":\"\",\"kind\":null,\"name\":\"debug_name\"},{\"default\":0,\"kind\":null,\"name\":\"clears\"}]},{\"extends\":null,\"module\":null,\"name\":\"TemplateActions1\",\"overrides\":[],\"properties\":[{\"default\":0,\"kind\":null,\"name\":\"open_modal\"},{\"default\":0,\"kind\":null,\"name\":\"close_modal\"}]},{\"extends\":null,\"module\":null,\"name\":\"MaterialTemplateActions1\",\"overrides\":[],\"properties\":[{\"default\":0,\"kind\":null,\"name\":\"open_modal\"},{\"default\":0,\"kind\":null,\"name\":\"close_modal\"}]}],\"roots\":{\"references\":[{\"attributes\":{\"fill_alpha\":{\"value\":0.2},\"fill_color\":{\"value\":\"#e5ae38\"},\"hatch_alpha\":{\"value\":0.2},\"hatch_color\":{\"value\":\"#e5ae38\"},\"line_alpha\":{\"value\":0.2},\"line_color\":{\"value\":\"#e5ae38\"},\"size\":{\"value\":5.477225575051661},\"x\":{\"field\":\"TotalCoinsMined\"},\"y\":{\"field\":\"TotalCoinSupply\"}},\"id\":\"3052\",\"type\":\"Scatter\"},{\"attributes\":{\"coordinates\":null,\"data_source\":{\"id\":\"3004\"},\"glyph\":{\"id\":\"3007\"},\"group\":null,\"hover_glyph\":null,\"muted_glyph\":{\"id\":\"3009\"},\"nonselection_glyph\":{\"id\":\"3008\"},\"selection_glyph\":{\"id\":\"3024\"},\"view\":{\"id\":\"3011\"}},\"id\":\"3010\",\"type\":\"GlyphRenderer\"},{\"attributes\":{\"end\":1032416801156.6912,\"reset_end\":1032416801156.6912,\"reset_start\":-42428087675.042145,\"start\":-42428087675.042145,\"tags\":[[[\"TotalCoinsMined\",\"TotalCoinsMined\",null]]]},\"id\":\"2963\",\"type\":\"Range1d\"},{\"attributes\":{\"tools\":[{\"id\":\"2965\"},{\"id\":\"2985\"},{\"id\":\"2986\"},{\"id\":\"2987\"},{\"id\":\"2988\"},{\"id\":\"2989\"}]},\"id\":\"2991\",\"type\":\"Toolbar\"},{\"attributes\":{\"fill_color\":{\"value\":\"#e5ae38\"},\"hatch_color\":{\"value\":\"#e5ae38\"},\"line_color\":{\"value\":\"#e5ae38\"},\"size\":{\"value\":5.477225575051661},\"x\":{\"field\":\"TotalCoinsMined\"},\"y\":{\"field\":\"TotalCoinSupply\"}},\"id\":\"3050\",\"type\":\"Scatter\"},{\"attributes\":{\"bottom_units\":\"screen\",\"coordinates\":null,\"fill_alpha\":0.5,\"fill_color\":\"lightgrey\",\"group\":null,\"left_units\":\"screen\",\"level\":\"overlay\",\"line_alpha\":1.0,\"line_color\":\"black\",\"line_dash\":[4,4],\"line_width\":2,\"right_units\":\"screen\",\"syncable\":false,\"top_units\":\"screen\"},\"id\":\"2990\",\"type\":\"BoxAnnotation\"},{\"attributes\":{\"margin\":[5,5,5,5],\"name\":\"HSpacer05574\",\"sizing_mode\":\"stretch_width\"},\"id\":\"2962\",\"type\":\"Spacer\"},{\"attributes\":{},\"id\":\"2985\",\"type\":\"SaveTool\"},{\"attributes\":{},\"id\":\"2986\",\"type\":\"PanTool\"},{\"attributes\":{},\"id\":\"3048\",\"type\":\"Selection\"},{\"attributes\":{\"fill_color\":{\"value\":\"#30a2da\"},\"hatch_color\":{\"value\":\"#30a2da\"},\"line_color\":{\"value\":\"#30a2da\"},\"size\":{\"value\":5.477225575051661},\"x\":{\"field\":\"TotalCoinsMined\"},\"y\":{\"field\":\"TotalCoinSupply\"}},\"id\":\"3007\",\"type\":\"Scatter\"},{\"attributes\":{},\"id\":\"2989\",\"type\":\"ResetTool\"},{\"attributes\":{\"label\":{\"value\":\"2\"},\"renderers\":[{\"id\":\"3053\"}]},\"id\":\"3069\",\"type\":\"LegendItem\"},{\"attributes\":{\"fill_alpha\":{\"value\":0.2},\"fill_color\":{\"value\":\"#30a2da\"},\"hatch_alpha\":{\"value\":0.2},\"hatch_color\":{\"value\":\"#30a2da\"},\"line_alpha\":{\"value\":0.2},\"line_color\":{\"value\":\"#30a2da\"},\"size\":{\"value\":5.477225575051661},\"x\":{\"field\":\"TotalCoinsMined\"},\"y\":{\"field\":\"TotalCoinSupply\"}},\"id\":\"3009\",\"type\":\"Scatter\"},{\"attributes\":{},\"id\":\"2987\",\"type\":\"WheelZoomTool\"},{\"attributes\":{\"coordinates\":null,\"data_source\":{\"id\":\"3025\"},\"glyph\":{\"id\":\"3028\"},\"group\":null,\"hover_glyph\":null,\"muted_glyph\":{\"id\":\"3030\"},\"nonselection_glyph\":{\"id\":\"3029\"},\"selection_glyph\":{\"id\":\"3046\"},\"view\":{\"id\":\"3032\"}},\"id\":\"3031\",\"type\":\"GlyphRenderer\"},{\"attributes\":{\"overlay\":{\"id\":\"2990\"}},\"id\":\"2988\",\"type\":\"BoxZoomTool\"},{\"attributes\":{\"label\":{\"value\":\"0\"},\"renderers\":[{\"id\":\"3010\"}]},\"id\":\"3023\",\"type\":\"LegendItem\"},{\"attributes\":{},\"id\":\"3019\",\"type\":\"UnionRenderers\"},{\"attributes\":{\"click_policy\":\"mute\",\"coordinates\":null,\"group\":null,\"items\":[{\"id\":\"3023\"},{\"id\":\"3045\"},{\"id\":\"3069\"},{\"id\":\"3095\"}],\"location\":[0,0],\"title\":\"Class\"},\"id\":\"3022\",\"type\":\"Legend\"},{\"attributes\":{\"source\":{\"id\":\"3004\"}},\"id\":\"3011\",\"type\":\"CDSView\"},{\"attributes\":{\"data\":{\"Class\":[3,3,3,3,3,3,3,3,3,3,3,3,3,3,3,3,3,3,3,3,3,3,3,3,3,3,3,3,3,3,3,3,3,3,3,3,3,3,3,3,3,3,3,3,3,3,3,3,3,3,3,3,3,3,3,3,3,3,3,3,3,3,3,3,3,3,3,3,3,3,3,3,3,3,3,3,3,3,3,3,3,3,3,3,3,3,3,3,3,3,3,3,3,3,3,3,3,3,3,3,3,3,3,3,3,3,3,3,3,3,3,3,3,3,3,3,3,3,3,3,3,3,3,3,3,3,3,3,3,3,3,3,3,3,3,3,3,3,3,3,3,3,3,3,3,3,3,3,3,3,3,3,3,3,3,3,3,3,3,3,3,3,3,3,3,3,3,3,3,3,3,3,3,3,3,3,3,3,3,3,3,3,3,3,3,3,3,3,3,3,3,3,3,3,3,3,3,3,3,3,3,3,3,3,3,3,3,3,3,3,3,3,3,3,3,3,3,3,3,3,3,3,3,3,3,3,3,3,3,3,3,3,3,3,3,3,3,3,3,3],\"CoinName\":[\"Bitcoin\",\"Ethereum\",\"Litecoin\",\"Monero\",\"Ethereum Classic\",\"ZCash\",\"DigiByte\",\"ProsperCoin\",\"Spreadcoin\",\"Argentum\",\"MyriadCoin\",\"MoonCoin\",\"ZetaCoin\",\"SexCoin\",\"Quatloo\",\"QuarkCoin\",\"Riecoin\",\"Digitalcoin \",\"Catcoin\",\"CannaCoin\",\"CryptCoin\",\"Verge\",\"DevCoin\",\"EarthCoin\",\"E-Gulden\",\"Einsteinium\",\"Emerald\",\"Franko\",\"FeatherCoin\",\"GrandCoin\",\"GlobalCoin\",\"GoldCoin\",\"Infinite Coin\",\"IXcoin\",\"KrugerCoin\",\"LuckyCoin\",\"Litebar \",\"MegaCoin\",\"MediterraneanCoin\",\"MinCoin\",\"NobleCoin\",\"Namecoin\",\"NyanCoin\",\"RonPaulCoin\",\"StableCoin\",\"SmartCoin\",\"SysCoin\",\"TigerCoin\",\"TerraCoin\",\"UnbreakableCoin\",\"Unobtanium\",\"UroCoin\",\"ViaCoin\",\"Vertcoin\",\"WorldCoin\",\"JouleCoin\",\"ByteCoin\",\"DigitalNote \",\"MonaCoin\",\"Gulden\",\"PesetaCoin\",\"Wild Beast Coin\",\"Flo\",\"ArtByte\",\"Folding Coin\",\"Unitus\",\"CypherPunkCoin\",\"OmniCron\",\"GreenCoin\",\"Cryptonite\",\"MasterCoin\",\"SoonCoin\",\"1Credit\",\"MarsCoin \",\"Crypto\",\"Anarchists Prime\",\"BowsCoin\",\"Song Coin\",\"BitZeny\",\"Expanse\",\"Siacoin\",\"MindCoin\",\"I0coin\",\"Revolution VR\",\"HOdlcoin\",\"Gamecredits\",\"CarpeDiemCoin\",\"Adzcoin\",\"SoilCoin\",\"YoCoin\",\"SibCoin\",\"Francs\",\"BolivarCoin\",\"Omni\",\"PizzaCoin\",\"Komodo\",\"Karbo\",\"ZayedCoin\",\"Circuits of Value\",\"DopeCoin\",\"DollarCoin\",\"Shilling\",\"ZCoin\",\"Elementrem\",\"ZClassic\",\"KiloCoin\",\"ArtexCoin\",\"Kurrent\",\"Cannabis Industry Coin\",\"OsmiumCoin\",\"Bikercoins\",\"HexxCoin\",\"PacCoin\",\"Citadel\",\"BeaverCoin\",\"VaultCoin\",\"Zero\",\"Canada eCoin\",\"Zoin\",\"DubaiCoin\",\"EB3coin\",\"Coinonat\",\"BenjiRolls\",\"ILCoin\",\"EquiTrader\",\"Quantum Resistant Ledger\",\"Dynamic\",\"Nano\",\"ChanCoin\",\"Dinastycoin\",\"DigitalPrice\",\"Unify\",\"SocialCoin\",\"ArcticCoin\",\"DAS\",\"LeviarCoin\",\"Bitcore\",\"gCn Coin\",\"SmartCash\",\"Onix\",\"Bitcoin Cash\",\"Sojourn Coin\",\"NewYorkCoin\",\"FrazCoin\",\"Kronecoin\",\"AdCoin\",\"Linx\",\"Sumokoin\",\"BitcoinZ\",\"Elements\",\"VIVO Coin\",\"Bitcoin Gold\",\"Pirl\",\"eBoost\",\"Pura\",\"Innova\",\"Ellaism\",\"GoByte\",\"SHIELD\",\"UltraNote\",\"BitCoal\",\"DaxxCoin\",\"AC3\",\"Lethean\",\"PopularCoin\",\"Photon\",\"Sucre\",\"SparksPay\",\"GunCoin\",\"IrishCoin\",\"Pioneer Coin\",\"UnitedBitcoin\",\"Interzone\",\"1717 Masonic Commemorative Token\",\"TurtleCoin\",\"MUNcoin\",\"Niobio Cash\",\"ShareChain\",\"Travelflex\",\"KREDS\",\"BitFlip\",\"LottoCoin\",\"Crypto Improvement Fund\",\"Callisto Network\",\"BitTube\",\"Poseidon\",\"Aidos Kuneen\",\"Bitrolium\",\"Alpenschillling\",\"FuturoCoin\",\"Monero Classic\",\"Jumpcoin\",\"Infinex\",\"KEYCO\",\"GINcoin\",\"PlatinCoin\",\"Loki\",\"Newton Coin\",\"MassGrid\",\"PluraCoin\",\"Motion\",\"PlusOneCoin\",\"Axe\",\"HexCoin\",\"Webchain\",\"Ryo\",\"Urals Coin\",\"Qwertycoin\",\"Project Pai\",\"Azart\",\"Xchange\",\"CrypticCoin\",\"Actinium\",\"Bitcoin SV\",\"FREDEnergy\",\"Universal Molecule\",\"Lithium\",\"PirateCash\",\"Exosis\",\"Block-Logic\",\"Beam\",\"Bithereum\",\"SLICE\",\"BLAST\",\"Bitcoin Rhodium\",\"GlobalToken\",\"SolarCoin\",\"UFO Coin\",\"BlakeCoin\",\"Crypto Escudo\",\"Crown Coin\",\"SmileyCoin\",\"Groestlcoin\",\"Bata\",\"Pakcoin\",\"JoinCoin\",\"Vollar\",\"Reality Clash\",\"Beldex\",\"Horizen\"],\"TotalCoinSupply\":[\"21000000\",\"0\",\"84000000\",\"0\",\"210000000\",\"21000000\",\"21000000000\",\"21000000\",\"20000000\",\"64000000\",\"2000000000\",\"384000000000\",\"169795588\",\"250000000\",\"100000000\",\"247000000\",\"84000000\",\"48166000\",\"21000000 \",\"13140000\",\"18000000\",\"16555000000\",\"21000000000\",\"13500000000\",\"21000000 \",\"299792458\",\"32000000\",\"11235813\",\"336000000\",\"1420609614\",\"70000000\",\"72245700\",\"90600000000\",\"21000000\",\"265420800\",\"20000000\",\"1350000\",\"42000000\",\"200000000\",\"10000000\",\"15000000000\",\"21000000\",\"337000000\",\"21000000\",\"250000000\",\"51200000\",\"888000000\",\"47011968\",\"42000000\",\"80000000\",\"250000\",\"0\",\"23000000\",\"84000000\",\"265420800\",\"45000000\",\"184467440735\",\"10000000000\",\"105120000\",\"1680000000\",\"166386000\",\"2628000\",\"160000000\",\"1000000000\",\"1000000000\",\"0\",\"0\",\"3371337\",\"10000000000\",\"1840000000\",\"619478\",\"21000000\",\"92000000000\",\"33000000\",\"65789100\",\"53760000\",\"21000000\",\"210240000\",\"250000000\",\"16906397\",\"0\",\"16000000\",\"21000000\",\"210000000\",\"81962100\",\"84000000\",\"21626280000 \",\"84000000\",\"30000000\",\"168351300\",\"24000000\",\"20000000\",\"25000000\",\"616448\",\"25000000\",\"200000000\",\"10000000\",\"9736000\",\"1200000000\",\"200000000\",\"10638298\",\"30000000\",\"21400000\",\"26205539\",\"21000000\",\"10000000000\",\"500000000\",\"228000000\",\"21000000\",\"2714286\",\"25000000\",\"9999999\",\"100000000000\",\"185000000\",\"3360000\",\"1000000000\",\"17000000\",\"100000000 \",\"21000000\",\"2232901\",\"4000000000\",\"48252000\",\"35520400\",\"2500000000\",\"72000000\",\"105000000\",\"0\",\"340282367\",\"30000000\",\"2000000000\",\"100000000\",\"19276800\",\" 75000000\",\"60000000\",\"18900000\",\"54000000\",\"21000000\",\"200000000000\",\"5000000000\",\"1100000000\",\"21000000\",\"10500000000\",\"0\",\"20000000\",\"84000000\",\"100000000\",\"100000000\",\"88888888\",\"21000000000\",\"1800000000\",\"27000000\",\"21000000\",\"156306732.71\",\"100000000\",\"350000000\",\"45000000\",\"280000000\",\"31800000\",\"660000000\",\"85000000000\",\"12500000\",\"10000000000\",\"550000000\",\"999481516\",\"4999999999\",\" 90000000000\",\"19800000\",\"21000000\",\"500000000\",\"64000000\",\"23000000\",\"20166000\",\"23000000\",\"1618033\",\"1000000000000\",\"16600000\",\"336000000\",\"10000000000\",\"100000000\",\"1100000000\",\"40000000\",\"18406979840\",\"500000000\",\"6500000000\",\"1000000000\",\"21000000\",\"25000000\",\"70000000\",\"300000000\",\"100000000\",\"18400000\",\"21000000\",\"26280000\",\"18000000\",\"10500000\",\"600000518\",\"150000000\",\"184000000000\",\"168000000\",\"1000000000\",\"22075700\",\"21000000\",\"21000000\",\"22105263\",\"1750000000\",\"88188888\",\"210000000\",\"184470000000\",\"2100000000\",\"25000000\",\"100000000\",\"7600000000\",\"84000000\",\"21000000\",\"8080000000\",\"105120001.44\",\"25228800\",\"105000000\",\"21000000\",\"120000000\",\"262800000\",\"30886000\",\"100000000\",\"64000000\",\"2100000\",\"168000000\",\"98100000000\",\"4000000000\",\"7000000000\",\"1000000000\",\"42000000\",\"50000000000\",\"105000000\",\"5000000\",\"182000000\",\"2800000\",\"2100000000\",\"24487944\",\"1400222610\",\"21000000\"],\"TotalCoinsMined\":{\"__ndarray__\":\"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\",\"dtype\":\"float64\",\"order\":\"little\",\"shape\":[240]}},\"selected\":{\"id\":\"3072\"},\"selection_policy\":{\"id\":\"3092\"}},\"id\":\"3071\",\"type\":\"ColumnDataSource\"},{\"attributes\":{},\"id\":\"3003\",\"type\":\"AllLabels\"},{\"attributes\":{},\"id\":\"3072\",\"type\":\"Selection\"},{\"attributes\":{\"fill_alpha\":{\"value\":0.1},\"fill_color\":{\"value\":\"#fc4f30\"},\"hatch_alpha\":{\"value\":0.1},\"hatch_color\":{\"value\":\"#fc4f30\"},\"line_alpha\":{\"value\":0.1},\"line_color\":{\"value\":\"#fc4f30\"},\"size\":{\"value\":5.477225575051661},\"x\":{\"field\":\"TotalCoinsMined\"},\"y\":{\"field\":\"TotalCoinSupply\"}},\"id\":\"3029\",\"type\":\"Scatter\"},{\"attributes\":{},\"id\":\"3092\",\"type\":\"UnionRenderers\"},{\"attributes\":{},\"id\":\"2979\",\"type\":\"BasicTicker\"},{\"attributes\":{\"below\":[{\"id\":\"2978\"}],\"center\":[{\"id\":\"2981\"},{\"id\":\"2984\"}],\"height\":300,\"left\":[{\"id\":\"2982\"}],\"margin\":[5,5,5,5],\"min_border_bottom\":10,\"min_border_left\":10,\"min_border_right\":10,\"min_border_top\":10,\"renderers\":[{\"id\":\"3010\"},{\"id\":\"3031\"},{\"id\":\"3053\"},{\"id\":\"3077\"}],\"right\":[{\"id\":\"3022\"}],\"sizing_mode\":\"fixed\",\"title\":{\"id\":\"2970\"},\"toolbar\":{\"id\":\"2991\"},\"width\":700,\"x_range\":{\"id\":\"2963\"},\"x_scale\":{\"id\":\"2974\"},\"y_range\":{\"id\":\"2964\"},\"y_scale\":{\"id\":\"2976\"}},\"id\":\"2969\",\"subtype\":\"Figure\",\"type\":\"Plot\"},{\"attributes\":{},\"id\":\"2999\",\"type\":\"BasicTickFormatter\"},{\"attributes\":{\"coordinates\":null,\"data_source\":{\"id\":\"3071\"},\"glyph\":{\"id\":\"3074\"},\"group\":null,\"hover_glyph\":null,\"muted_glyph\":{\"id\":\"3076\"},\"nonselection_glyph\":{\"id\":\"3075\"},\"selection_glyph\":{\"id\":\"3096\"},\"view\":{\"id\":\"3078\"}},\"id\":\"3077\",\"type\":\"GlyphRenderer\"},{\"attributes\":{},\"id\":\"3005\",\"type\":\"Selection\"},{\"attributes\":{\"callback\":null,\"renderers\":[{\"id\":\"3010\"},{\"id\":\"3031\"},{\"id\":\"3053\"},{\"id\":\"3077\"}],\"tags\":[\"hv_created\"],\"tooltips\":[[\"Class\",\"@{Class}\"],[\"TotalCoinsMined\",\"@{TotalCoinsMined}\"],[\"TotalCoinSupply\",\"@{TotalCoinSupply}\"],[\"CoinName\",\"@{CoinName}\"]]},\"id\":\"2965\",\"type\":\"HoverTool\"},{\"attributes\":{\"coordinates\":null,\"data_source\":{\"id\":\"3047\"},\"glyph\":{\"id\":\"3050\"},\"group\":null,\"hover_glyph\":null,\"muted_glyph\":{\"id\":\"3052\"},\"nonselection_glyph\":{\"id\":\"3051\"},\"selection_glyph\":{\"id\":\"3070\"},\"view\":{\"id\":\"3054\"}},\"id\":\"3053\",\"type\":\"GlyphRenderer\"},{\"attributes\":{\"angle\":{\"value\":0.0},\"fill_alpha\":{\"value\":1.0},\"fill_color\":{\"value\":\"#e5ae38\"},\"hatch_alpha\":{\"value\":1.0},\"hatch_color\":{\"value\":\"#e5ae38\"},\"hatch_scale\":{\"value\":12.0},\"hatch_weight\":{\"value\":1.0},\"line_alpha\":{\"value\":1.0},\"line_cap\":{\"value\":\"butt\"},\"line_color\":{\"value\":\"#e5ae38\"},\"line_dash\":{\"value\":[]},\"line_dash_offset\":{\"value\":0},\"line_join\":{\"value\":\"bevel\"},\"line_width\":{\"value\":1},\"marker\":{\"value\":\"circle\"},\"size\":{\"value\":5.477225575051661},\"x\":{\"field\":\"TotalCoinsMined\"},\"y\":{\"field\":\"TotalCoinSupply\"}},\"id\":\"3070\",\"type\":\"Scatter\"},{\"attributes\":{\"children\":[{\"id\":\"2962\"},{\"id\":\"2969\"},{\"id\":\"3241\"}],\"margin\":[0,0,0,0],\"name\":\"Row05570\",\"tags\":[\"embedded\"]},\"id\":\"2961\",\"type\":\"Row\"},{\"attributes\":{\"fill_alpha\":{\"value\":0.1},\"fill_color\":{\"value\":\"#6d904f\"},\"hatch_alpha\":{\"value\":0.1},\"hatch_color\":{\"value\":\"#6d904f\"},\"line_alpha\":{\"value\":0.1},\"line_color\":{\"value\":\"#6d904f\"},\"size\":{\"value\":5.477225575051661},\"x\":{\"field\":\"TotalCoinsMined\"},\"y\":{\"field\":\"TotalCoinSupply\"}},\"id\":\"3075\",\"type\":\"Scatter\"},{\"attributes\":{\"source\":{\"id\":\"3071\"}},\"id\":\"3078\",\"type\":\"CDSView\"},{\"attributes\":{\"fill_color\":{\"value\":\"#6d904f\"},\"hatch_color\":{\"value\":\"#6d904f\"},\"line_color\":{\"value\":\"#6d904f\"},\"size\":{\"value\":5.477225575051661},\"x\":{\"field\":\"TotalCoinsMined\"},\"y\":{\"field\":\"TotalCoinSupply\"}},\"id\":\"3074\",\"type\":\"Scatter\"},{\"attributes\":{},\"id\":\"3002\",\"type\":\"CategoricalTickFormatter\"},{\"attributes\":{\"angle\":{\"value\":0.0},\"fill_alpha\":{\"value\":1.0},\"fill_color\":{\"value\":\"#30a2da\"},\"hatch_alpha\":{\"value\":1.0},\"hatch_color\":{\"value\":\"#30a2da\"},\"hatch_scale\":{\"value\":12.0},\"hatch_weight\":{\"value\":1.0},\"line_alpha\":{\"value\":1.0},\"line_cap\":{\"value\":\"butt\"},\"line_color\":{\"value\":\"#30a2da\"},\"line_dash\":{\"value\":[]},\"line_dash_offset\":{\"value\":0},\"line_join\":{\"value\":\"bevel\"},\"line_width\":{\"value\":1},\"marker\":{\"value\":\"circle\"},\"size\":{\"value\":5.477225575051661},\"x\":{\"field\":\"TotalCoinsMined\"},\"y\":{\"field\":\"TotalCoinSupply\"}},\"id\":\"3024\",\"type\":\"Scatter\"},{\"attributes\":{\"coordinates\":null,\"group\":null,\"text_color\":\"black\",\"text_font_size\":\"12pt\"},\"id\":\"2970\",\"type\":\"Title\"},{\"attributes\":{\"fill_alpha\":{\"value\":0.1},\"fill_color\":{\"value\":\"#30a2da\"},\"hatch_alpha\":{\"value\":0.1},\"hatch_color\":{\"value\":\"#30a2da\"},\"line_alpha\":{\"value\":0.1},\"line_color\":{\"value\":\"#30a2da\"},\"size\":{\"value\":5.477225575051661},\"x\":{\"field\":\"TotalCoinsMined\"},\"y\":{\"field\":\"TotalCoinSupply\"}},\"id\":\"3008\",\"type\":\"Scatter\"},{\"attributes\":{},\"id\":\"2974\",\"type\":\"LinearScale\"},{\"attributes\":{},\"id\":\"3026\",\"type\":\"Selection\"},{\"attributes\":{\"axis_label\":\"TotalCoinSupply\",\"coordinates\":null,\"formatter\":{\"id\":\"3002\"},\"group\":null,\"major_label_policy\":{\"id\":\"3003\"},\"ticker\":{\"id\":\"2983\"}},\"id\":\"2982\",\"type\":\"CategoricalAxis\"},{\"attributes\":{\"data\":{\"Class\":[1,1,1,1,1],\"CoinName\":[\"BiblePay\",\"LitecoinCash\",\"Poa Network\",\"Acute Angle Cloud\",\"Waves\"],\"TotalCoinSupply\":[\"5200000000\",\"840000000\",\"252460800\",\"1000000000\",\"100000000\"],\"TotalCoinsMined\":{\"__ndarray__\":\"8dd4J/5n2kGWsBp+eAbDQQAAAH40YKhBAAAAAGXNzUEAAAAAhNeXQQ==\",\"dtype\":\"float64\",\"order\":\"little\",\"shape\":[5]}},\"selected\":{\"id\":\"3026\"},\"selection_policy\":{\"id\":\"3042\"}},\"id\":\"3025\",\"type\":\"ColumnDataSource\"},{\"attributes\":{\"axis\":{\"id\":\"2978\"},\"coordinates\":null,\"grid_line_color\":null,\"group\":null,\"ticker\":null},\"id\":\"2981\",\"type\":\"Grid\"},{\"attributes\":{},\"id\":\"3042\",\"type\":\"UnionRenderers\"},{\"attributes\":{\"data\":{\"Class\":[0,0,0,0,0,0,0,0,0,0,0,0,0,0,0,0,0,0,0,0,0,0,0,0,0,0,0,0,0,0,0,0,0,0,0,0,0,0,0,0,0,0,0,0,0,0,0,0,0,0,0,0,0,0,0,0,0,0,0,0,0,0,0,0,0,0,0,0,0,0,0,0,0,0,0,0,0,0,0,0,0,0,0,0,0,0,0,0,0,0,0,0,0,0,0,0,0,0,0,0,0,0,0,0,0,0,0,0,0,0,0,0,0,0,0,0,0,0,0,0,0,0,0,0,0,0,0,0,0,0,0,0,0,0,0,0,0,0,0,0,0,0,0,0,0,0,0,0,0,0,0,0,0,0,0,0,0,0,0,0,0,0,0,0,0,0,0,0,0,0,0,0,0,0,0,0,0,0,0,0,0,0,0,0,0,0,0,0,0,0,0,0,0,0,0,0,0,0,0,0,0,0,0,0,0,0,0,0,0,0,0,0,0,0,0,0,0,0,0,0,0,0,0,0,0,0,0,0,0,0,0,0,0,0,0,0,0,0,0,0,0,0,0,0,0,0,0,0,0,0,0,0,0,0,0,0,0,0,0,0,0,0,0,0,0,0,0,0,0,0,0,0,0,0,0,0,0,0,0,0,0,0,0,0,0,0],\"CoinName\":[\"42 Coin\",\"404Coin\",\"EliteCoin\",\"Dash\",\"Bitshares\",\"BitcoinDark\",\"PayCoin\",\"KoboCoin\",\"Aurora Coin\",\"BlueCoin\",\"EnergyCoin\",\"BitBar\",\"CryptoBullion\",\"CasinoCoin\",\"Diamond\",\"Exclusive Coin\",\"FlutterCoin\",\"HoboNickels\",\"HyperStake\",\"IOCoin\",\"MaxCoin\",\"MintCoin\",\"MazaCoin\",\"Nautilus Coin\",\"NavCoin\",\"OpalCoin\",\"Orbitcoin\",\"PotCoin\",\"PhoenixCoin\",\"Reddcoin\",\"SuperCoin\",\"SyncCoin\",\"TeslaCoin\",\"TittieCoin\",\"TorCoin\",\"UnitaryStatus Dollar\",\"UltraCoin\",\"VeriCoin\",\"X11 Coin\",\"Crypti\",\"StealthCoin\",\"ZCC Coin\",\"BurstCoin\",\"StorjCoin\",\"Neutron\",\"FairCoin\",\"RubyCoin\",\"Kore\",\"Dnotes\",\"8BIT Coin\",\"Sativa Coin\",\"Ucoin\",\"Vtorrent\",\"IslaCoin\",\"Nexus\",\"Droidz\",\"Squall Coin\",\"Diggits\",\"Paycon\",\"Emercoin\",\"EverGreenCoin\",\"Decred\",\"EDRCoin\",\"Hitcoin\",\"DubaiCoin\",\"PWR Coin\",\"BillaryCoin\",\"GPU Coin\",\"EuropeCoin\",\"ZeitCoin\",\"SwingCoin\",\"SafeExchangeCoin\",\"Nebuchadnezzar\",\"Ratecoin\",\"Revenu\",\"Clockcoin\",\"VIP Tokens\",\"BitSend\",\"Let it Ride\",\"PutinCoin\",\"iBankCoin\",\"Frankywillcoin\",\"MudraCoin\",\"Lutetium Coin\",\"GoldBlocks\",\"CarterCoin\",\"BitTokens\",\"MustangCoin\",\"ZoneCoin\",\"RootCoin\",\"BitCurrency\",\"Swiscoin\",\"BuzzCoin\",\"Opair\",\"PesoBit\",\"Halloween Coin\",\"CoffeeCoin\",\"RoyalCoin\",\"GanjaCoin V2\",\"TeamUP\",\"LanaCoin\",\"ARK\",\"InsaneCoin\",\"EmberCoin\",\"XenixCoin\",\"FreeCoin\",\"PLNCoin\",\"AquariusCoin\",\"Creatio\",\"Eternity\",\"Eurocoin\",\"BitcoinFast\",\"Stakenet\",\"BitConnect Coin\",\"MoneyCoin\",\"Enigma\",\"Russiacoin\",\"PandaCoin\",\"GameUnits\",\"GAKHcoin\",\"Allsafe\",\"LiteCreed\",\"Klingon Empire Darsek\",\"Internet of People\",\"KushCoin\",\"Printerium\",\"Impeach\",\"Zilbercoin\",\"FirstCoin\",\"FindCoin\",\"OpenChat\",\"RenosCoin\",\"VirtacoinPlus\",\"TajCoin\",\"Impact\",\"Atmos\",\"HappyCoin\",\"MacronCoin\",\"Condensate\",\"Independent Money System\",\"ArgusCoin\",\"LomoCoin\",\"ProCurrency\",\"GoldReserve\",\"GrowthCoin\",\"Phreak\",\"Degas Coin\",\"HTML5 Coin\",\"Ultimate Secure Cash\",\"QTUM\",\"Espers\",\"Denarius\",\"Virta Unique Coin\",\"Bitcoin Planet\",\"BritCoin\",\"Linda\",\"DeepOnion\",\"Signatum\",\"Cream\",\"Monoeci\",\"Draftcoin\",\"Vechain\",\"Stakecoin\",\"CoinonatX\",\"Ethereum Dark\",\"Obsidian\",\"Cardano\",\"Regalcoin\",\"TrezarCoin\",\"TerraNovaCoin\",\"Rupee\",\"WomenCoin\",\"Theresa May Coin\",\"NamoCoin\",\"LUXCoin\",\"Xios\",\"Bitcloud 2.0\",\"KekCoin\",\"BlackholeCoin\",\"Infinity Economics\",\"Magnet\",\"Lamden Tau\",\"Electra\",\"Bitcoin Diamond\",\"Cash & Back Coin\",\"Bulwark\",\"Kalkulus\",\"GermanCoin\",\"LiteCoin Ultra\",\"PhantomX\",\"Digiwage\",\"Trollcoin\",\"Litecoin Plus\",\"Monkey Project\",\"TokenPay\",\"My Big Coin\",\"Unified Society USDEX\",\"Tokyo Coin\",\"Stipend\",\"Pushi\",\"Ellerium\",\"Velox\",\"Ontology\",\"Bitspace\",\"Briacoin\",\"Ignition\",\"MedicCoin\",\"Bitcoin Green\",\"Deviant Coin\",\"Abjcoin\",\"Semux\",\"Carebit\",\"Zealium\",\"Proton\",\"iDealCash\",\"Bitcoin Incognito\",\"HollyWoodCoin\",\"Swisscoin\",\"Xt3ch\",\"TheVig\",\"EmaratCoin\",\"Dekado\",\"Lynx\",\"Poseidon Quark\",\"BitcoinWSpectrum\",\"Muse\",\"Trivechain\",\"Dystem\",\"Giant\",\"Peony Coin\",\"Absolute Coin\",\"Vitae\",\"TPCash\",\"ARENON\",\"EUNO\",\"MMOCoin\",\"Ketan\",\"XDNA\",\"PAXEX\",\"ThunderStake\",\"Kcash\",\"Bettex coin\",\"BitMoney\",\"Junson Ming Chan Coin\",\"HerbCoin\",\"Oduwa\",\"Galilel\",\"Crypto Sports\",\"Credit\",\"Dash Platinum\",\"Nasdacoin\",\"Beetle Coin\",\"Titan Coin\",\"Award\",\"Insane Coin\",\"ALAX\",\"LiteDoge\",\"TruckCoin\",\"OrangeCoin\",\"BitstarCoin\",\"NeosCoin\",\"HyperCoin\",\"PinkCoin\",\"AudioCoin\",\"IncaKoin\",\"Piggy Coin\",\"Genstake\",\"XiaoMiCoin\",\"CapriCoin\",\" ClubCoin\",\"Radium\",\"Creditbit \",\"OKCash\",\"Lisk\",\"HiCoin\",\"WhiteCoin\",\"FriendshipCoin\",\"Triangles Coin\",\"EOS\",\"Oxycoin\",\"TigerCash\",\"Particl\",\"Nxt\",\"ZEPHYR\",\"Gapcoin\",\"BitcoinPlus\"],\"TotalCoinSupply\":[\"42\",\"532000000\",\"314159265359\",\"22000000\",\"3600570502\",\"22000000\",\"12500000\",\"350000000\",\"16768584\",\"0\",\"0\",\"500000\",\"1000000\",\"40000000000\",\"4380000\",\"0\",\"0\",\"120000000\",\"0\",\"22000000\",\"100000000\",\"0\",\"2419200000\",\"16180000\",\"0\",\"0\",\"3770000\",\"420000000\",\"98000000\",\"0\",\"0\",\"1000\",\"100000000\",\"2300000000\",\"10000000\",\"1600000000\",\"100000000\",\"0\",\"5500000\",\"0\",\"0\",\"1000000000\",\"2158812800\",\"500000000\",\"68000000\",\"0\",\"0\",\"12000000\",\"500000000\",\"0\",\"10000000\",\"20000000\",\"20000000\",\"0\",\"78000000\",\"5060000\",\"0\",\"100000000\",\"50000000\",\"1000000000\",\"26298000\",\"21000000\",\"22000000\",\"26550000000\",\"10500000\",\"0\",\"42000000\",\"221052632\",\"384000000\",\" 99000000000\",\"40000000\",\"2147483647\",\"20000000\",\"75000000\",\"222725000\",\"525000000\",\"90000000\",\"139000000\",\"33500000\",\"2000000000\",\"44333333\",\"100000000\",\"200000000\",\"657000000\",\"50000000\",\"90000000\",\"21000000\",\"3000000\",\"21000000\",\"0\",\"0\",\"3100000000\",\"20000000000\",\"74000000\",\"0\",\"1500000000\",\"39999898\",\"2500124\",\"100000000\",\"301000000\",\"7506000000\",\"125000000\",\"30000000\",\"850000000\",\"3853326.77707314\",\"50000000\",\"38540000 \",\"42000000\",\"20000000\",\"60000000\",\"20000000\",\"33000000\",\"76500000\",\"28000000\",\"650659833\",\"5000000\",\"144000000\",\"32514916898\",\"13000000\",\"3315789\",\"15000000\",\"78835200\",\"500000000\",\"21000000\",\"9354000\",\"20000000\",\"21933333\",\"55000000\",\"110000000\",\"14524851.4827\",\"1000000000\",\"34426423\",\"100000000\",\"36900000\",\"110000000\",\"110290030\",\"100000000\",\"400000000\",\"500000000\",\"21212121\",\"28600000\",\"1000000000\",\"75000000000\",\"40000000\",\"2000000000\",\"30000000\",\"105000000\",\"90000000000\",\"200084200\",\"100000000\",\"50000000000\",\"10000000\",\"120000000\",\"100000000\",\"30000000\",\"50000000000\",\"18898187.6216583\",\"137500000\",\"100000000\",\"9507271\",\"17405891.19707116\",\"86712634466\",\"61599965\",\"48252000\",\"4200000\",\"91388946\",\"45000000000\",\"27000000\",\"400000000\",\"15733333\",\"24000000\",\"25000000000\",\"100000000\",\"1200000000\",\"60000000\",\"21000000\",\"200000000\",\"21000000\",\"14788275.991\",\"9000000000\",\"144000000\",\"500000000\",\"30000000000\",\"210000000\",\"210000000\",\"27716121\",\"20000000\",\"50000000000\",\"150000000\",\"50000000\",\"120000000\",\"900000000\",\"4000000\",\"21000000\",\"25000000\",\"30000000\",\"232000000\",\"800000000\",\"19340594\",\"25000000\",\"60000000\",\"124000000\",\"1000000000\",\"50000000\",\"3000000\",\"5000000\",\"500000000\",\"21000000\",\"88000000\",\"30000000\",\"100000000\",\"200000000\",\"80000000\",\"45000000\",\"5121951220\",\"21000000\",\"26000000\",\"10200000000\",\"44000000\",\"100000000\",\"84000000\",\"90000000\",\"92000000000\",\"650000000 \",\"100262205\",\"18081806 \",\"82546564\",\"21000000\",\"5151000\",\"16880000000\",\"52500000\",\"100000000\",\"1000000000\",\"55000000\",\"50000000\",\"260000000\",\"210000000\",\"366000000\",\"100000000\",\"18000000000\",\"1000000000\",\"50000000\",\"70000000000\",\"0\",\"54000000\",\"21000000\",\"19035999\",\"13370000\",\"74800000000\",\"19700000\",\"84000000\",\"500000000\",\"5000000000\",\"420000000\",\"30000000\",\"1000000000\",\"35000000000\",\"0\",\"200000000\",\"54256119\",\"21000000\",\"0\",\"500000000\",\"10500000000\",\"190000000\",\"1000000000\",\"15000000\",\"400000000\",\"208000000\",\"160000000\",\"9000000\",\"16504333\",\"105000000\",\"159918400\",\"10008835635\",\"300000000\",\"60168145\",\"120000\",\"0\",\"0\",\"1000000000\",\"8634140\",\"1000000000\",\"2000000000\",\"250000000\",\"1000000\"],\"TotalCoinsMined\":{\"__ndarray__\":\"E66yfP7/REC4HgUDbHLPQcQCukHCRBtCczEFzM85YUEAAAA6IW3kQQAAAACeqjNBKbtP3BjhZkG7M2l5+Ft4Qfoo47+DS3FBAAAATubvwkES3YNEKFedQc7ixUJvyuRAwkeKTRm2L0GutucKX6AiQqBfqd8TNklBAAAAQJaqVUHCNFQR94a7QQwjvdZrSJVB+1yxxgsD2UFp65YfTtVwQQAAAGi1TI1B0/wVEd7UE0LW///QSwzYQQAAAABk3G5BSGSpwUWDj0FguZSKkehsQRKlvSNEkkhBAkYH1JGLqkEAAICqHaKRQe5aBDlgTRtCKKz+beYtiEEAAAAAAGSSQCa87r61IpNBsaedNq8s2EHonwEAK9k1QWZmJuQrYNBB6rAiWTr0h0EEZJ5Gp4l+Qao9Nsbrg1pBAAAAAITXl0GG/JjWhY9/Qc3n9LtNpKFBAAAA8CwE20EAAADAuGaIQQAAAPCYp4JBAAAAOGNdiUGF80Sm1ux5QZupEONA3D5BGovew8bRpEEAAAAAwWU2QQAAAICAEltBAAAAAIqFREEAAABAXiJmQQAAAADoGDdBAAAAIKhajkG/zH/LnFdgQUiKyBDAFxRBAAAAAITXl0EAAADAovl1QXMvcJZSiIRBdN9gjbfOaUFlibPdDsVjQdE2J+xd/0tBAACY/HN7BEIAAACAzZBTQc9mP8p8wQJCZta35+opYUEAAACQC02DQYbTOLms2WNBVp2dlVA3IULEswJnfrJQQQAAwP///99BAAAAANASc0HHaE16SgqgQQAAAAAFPjJBAAAAgCTIb0EAAACMaOWTQWZvBMgIQndB/JNThatmgkGfr0n5ZjvIQQAAAAA9RFFBAAAAAITXl0EAAAAA0BJTQQAAACCDlMNBAAAAIIyvbUEAAADgOZWEQQAAAADKKyJBdRnlsMgRJEEAAAAA6bJDQQAAAACxmT1BAAAAML03pEEAAIDcEtPDQQAA7E21OxJCLAwuO6qmkUEAAADQUPh/Qd/Fk3RYja9BAAAAIHq6oUEAAAAADhNDQQAAAACE15dBeHqlokP+cEFsW+JyHyDQQQAAAJAhzJlBAAAA0Dl+cUEAAMPVHnc1QvUhd2MHZk1BAAAAAITXh0EAAAAARExwQaeWKbVUsEJBAAAAANASc0H6EPGEOidXQQAAAEDFrmdBAWxAemNOc0EAAACEqwWSQW8KEEyCImVBAAAAQE7RZEEAAAAAntwoQQAAAECE9V9BtVU3hK59H0IAAACAK39KQQAAAIAmTElBt0Cnl6EPZEEAAABg0tN8QQAAAMDr2nZBiCPVPL9FQ0GsM0Q9dpZVQQAAAABUjGZBAAAAAEzPEkGMg2z7OkxGQQAAAADeOZpBRUdybza0a0EAAAAAZc3NQQAAAOitMIFBTuW+oh8baUEhj6B9UD1nQd/hZs9XYJpBBFaOczF/mkHLmyigOoZ0QQAAAFk07bdBO1STrt4BnUEAAACAGXtUQQAAAACkhTFBAAAAAICEHkEAAABE0/iXQQAAAGA7YHBBCaRc6miXsUFhRy0/orllQQAAAMCKXnRBAADA0e7uIkIAAAAgWbpjQQAAAACE15dBAADce2Q8FUIAAAAAO9NPQQAAANhbA45BAAAAgOL0WUEAAADAZ0h0QX/w+Yv12ABCmt3JoNXmdEEAAAB4Ir6ZQZLD0dPOkYZBJFgm0VX5Z0Hza5UVeMxxQQAAoDO40ilCAAAAAICETkEAAABAaKJyQQAAAACQBVBBAAAAAITXd0EAACjNfiUYQs6+uoIwtFtBAAAAgK7FpUGLprPq/mcxQQAAAABg43ZBAACMvNGQJkIAAADAVfKVQQAAAArCtMBB2W9W1BuvX0EAAAAAnGZAQYpweOjvSX1B4PPDyeaEZ0HJdr4fhjVvQQAAsM+IwwBCjnasFuo2gkFhb37H6SuxQQAAAJLichpCyJTHkQPhpUHPayxFf3WaQb/tLlxZRGlBqdpuTpcrcEFcj9a++EvyQcuhRUoJD2BBBOfcMG6KhUEAAAAA9gh6QQAAAE4lncFBCd0lHZMbQ0EAAAAA9c9QQVUBjViqf3NB6KPo0IXtYUHidpBz8P6rQQAAAFoqdKtBREsDxtF1ZUHNzMyMCYpAQVK4HoUtlxlBWiYo0q1ieEEAAIC4lGXDQRnCFtRZTGpBGbZ/oIvOKUEAAACAyQkyQQAAoBhH3a9BfQaUa/WyYkFNBaat9tx0Qeux5ct22GJBAAAAACvJMkFybgOZg6igQUza+cLWH2VBAAAAAJbMUEHmdF2Wb+zUQY1+9GKwzGRBtHa7y/N0gkEAAAAwvf8CQkhQ/AAsG11BnLOPe8qyf0HvycO6Rpl0Qc/z50Wa4XxBWeaLVYkhMkLo1Px5NLlEQRjSAcgBkYtBAAAAgB9acUGs+faEN5uBQU0j1g9mBFtBqyApccCUVkGW5ZDnuMwvQai1Hz4RbmlBIUABrTd/j0EZ8ryfJp1UQXE9Cl94YHJBFg2eX3tYfUH/sqtvYrGZQQdWG3NDymFBe2YJdgDTUUEAAADADy9RQReaN9DOls9BAAAAAGXNzUFyYIdLU+RZQWIUvDBm26hBcE5BYioHEEKEJfPNkdaAQRxGnKyZL2xBn0T6MztrcUH0/tysbYU9QU8ewAZstRxC1Y1/4hbXJUEmwksDPphzQW8PukAct6dBAAAAaLG2ykGt8T5RaWltQTjMIYWtrHZBAAAAAGXNzUHnHUhVnYgMQiibcjLG6qxBAAAAAH/8SkEAAABAkZ9zQV5Lxo9QwVBBb3jH/7teYkEWhX1YOgK6QR9ofThlOs1BBFbV6ym1EEJuUAeag3W9QQAAAAA4nIxBmKOLO2EZuEGs4drOJgGoQa4Pq9CTtJhBBonp3l4nTUEMW5OKOR5wQSqiy4PdzZFBAAAAsPWcnEECmi3+fKACQomYYniZCq5BoP1IAYEYMUGoOuQGTi8BQdk9iQUjas5BFK7Xcoy50EEAAAAAZc3NQdmqyTHItGFBAAAAAGXNzUHzjtP+ZM3dQZT68sSMemxBR9gB8W9U/0A=\",\"dtype\":\"float64\",\"order\":\"little\",\"shape\":[286]}},\"selected\":{\"id\":\"3005\"},\"selection_policy\":{\"id\":\"3019\"}},\"id\":\"3004\",\"type\":\"ColumnDataSource\"},{\"attributes\":{\"source\":{\"id\":\"3025\"}},\"id\":\"3032\",\"type\":\"CDSView\"},{\"attributes\":{\"fill_color\":{\"value\":\"#fc4f30\"},\"hatch_color\":{\"value\":\"#fc4f30\"},\"line_color\":{\"value\":\"#fc4f30\"},\"size\":{\"value\":5.477225575051661},\"x\":{\"field\":\"TotalCoinsMined\"},\"y\":{\"field\":\"TotalCoinSupply\"}},\"id\":\"3028\",\"type\":\"Scatter\"},{\"attributes\":{\"angle\":{\"value\":0.0},\"fill_alpha\":{\"value\":1.0},\"fill_color\":{\"value\":\"#fc4f30\"},\"hatch_alpha\":{\"value\":1.0},\"hatch_color\":{\"value\":\"#fc4f30\"},\"hatch_scale\":{\"value\":12.0},\"hatch_weight\":{\"value\":1.0},\"line_alpha\":{\"value\":1.0},\"line_cap\":{\"value\":\"butt\"},\"line_color\":{\"value\":\"#fc4f30\"},\"line_dash\":{\"value\":[]},\"line_dash_offset\":{\"value\":0},\"line_join\":{\"value\":\"bevel\"},\"line_width\":{\"value\":1},\"marker\":{\"value\":\"circle\"},\"size\":{\"value\":5.477225575051661},\"x\":{\"field\":\"TotalCoinsMined\"},\"y\":{\"field\":\"TotalCoinSupply\"}},\"id\":\"3046\",\"type\":\"Scatter\"},{\"attributes\":{\"label\":{\"value\":\"3\"},\"renderers\":[{\"id\":\"3077\"}]},\"id\":\"3095\",\"type\":\"LegendItem\"},{\"attributes\":{},\"id\":\"2976\",\"type\":\"CategoricalScale\"},{\"attributes\":{\"fill_alpha\":{\"value\":0.2},\"fill_color\":{\"value\":\"#fc4f30\"},\"hatch_alpha\":{\"value\":0.2},\"hatch_color\":{\"value\":\"#fc4f30\"},\"line_alpha\":{\"value\":0.2},\"line_color\":{\"value\":\"#fc4f30\"},\"size\":{\"value\":5.477225575051661},\"x\":{\"field\":\"TotalCoinsMined\"},\"y\":{\"field\":\"TotalCoinSupply\"}},\"id\":\"3030\",\"type\":\"Scatter\"},{\"attributes\":{\"data\":{\"Class\":[2],\"CoinName\":[\"BitTorrent\"],\"TotalCoinSupply\":[\"990000000000\"],\"TotalCoinsMined\":{\"__ndarray__\":\"xfR7nv3PbEI=\",\"dtype\":\"float64\",\"order\":\"little\",\"shape\":[1]}},\"selected\":{\"id\":\"3048\"},\"selection_policy\":{\"id\":\"3066\"}},\"id\":\"3047\",\"type\":\"ColumnDataSource\"},{\"attributes\":{},\"id\":\"2983\",\"type\":\"CategoricalTicker\"},{\"attributes\":{},\"id\":\"3000\",\"type\":\"AllLabels\"},{\"attributes\":{\"axis_label\":\"TotalCoinsMined\",\"coordinates\":null,\"formatter\":{\"id\":\"2999\"},\"group\":null,\"major_label_policy\":{\"id\":\"3000\"},\"ticker\":{\"id\":\"2979\"}},\"id\":\"2978\",\"type\":\"LinearAxis\"},{\"attributes\":{\"source\":{\"id\":\"3047\"}},\"id\":\"3054\",\"type\":\"CDSView\"},{\"attributes\":{\"fill_alpha\":{\"value\":0.2},\"fill_color\":{\"value\":\"#6d904f\"},\"hatch_alpha\":{\"value\":0.2},\"hatch_color\":{\"value\":\"#6d904f\"},\"line_alpha\":{\"value\":0.2},\"line_color\":{\"value\":\"#6d904f\"},\"size\":{\"value\":5.477225575051661},\"x\":{\"field\":\"TotalCoinsMined\"},\"y\":{\"field\":\"TotalCoinSupply\"}},\"id\":\"3076\",\"type\":\"Scatter\"},{\"attributes\":{\"factors\":[\"42\",\"532000000\",\"314159265359\",\"22000000\",\"3600570502\",\"12500000\",\"350000000\",\"16768584\",\"0\",\"500000\",\"1000000\",\"40000000000\",\"4380000\",\"120000000\",\"100000000\",\"2419200000\",\"16180000\",\"3770000\",\"420000000\",\"98000000\",\"1000\",\"2300000000\",\"10000000\",\"1600000000\",\"5500000\",\"1000000000\",\"2158812800\",\"500000000\",\"68000000\",\"12000000\",\"20000000\",\"78000000\",\"5060000\",\"50000000\",\"26298000\",\"21000000\",\"26550000000\",\"10500000\",\"42000000\",\"221052632\",\"384000000\",\" 99000000000\",\"40000000\",\"2147483647\",\"75000000\",\"222725000\",\"525000000\",\"90000000\",\"139000000\",\"33500000\",\"2000000000\",\"44333333\",\"200000000\",\"657000000\",\"3000000\",\"3100000000\",\"20000000000\",\"74000000\",\"1500000000\",\"39999898\",\"2500124\",\"301000000\",\"7506000000\",\"125000000\",\"30000000\",\"850000000\",\"3853326.77707314\",\"38540000 \",\"60000000\",\"33000000\",\"76500000\",\"28000000\",\"650659833\",\"5000000\",\"144000000\",\"32514916898\",\"13000000\",\"3315789\",\"15000000\",\"78835200\",\"9354000\",\"21933333\",\"55000000\",\"110000000\",\"14524851.4827\",\"34426423\",\"36900000\",\"110290030\",\"400000000\",\"21212121\",\"28600000\",\"75000000000\",\"105000000\",\"90000000000\",\"200084200\",\"50000000000\",\"18898187.6216583\",\"137500000\",\"9507271\",\"17405891.19707116\",\"86712634466\",\"61599965\",\"48252000\",\"4200000\",\"91388946\",\"45000000000\",\"27000000\",\"15733333\",\"24000000\",\"25000000000\",\"1200000000\",\"14788275.991\",\"9000000000\",\"30000000000\",\"210000000\",\"27716121\",\"150000000\",\"900000000\",\"4000000\",\"25000000\",\"232000000\",\"800000000\",\"19340594\",\"124000000\",\"88000000\",\"80000000\",\"45000000\",\"5121951220\",\"26000000\",\"10200000000\",\"44000000\",\"84000000\",\"92000000000\",\"650000000 \",\"100262205\",\"18081806 \",\"82546564\",\"5151000\",\"16880000000\",\"52500000\",\"260000000\",\"366000000\",\"18000000000\",\"70000000000\",\"54000000\",\"19035999\",\"13370000\",\"74800000000\",\"19700000\",\"5000000000\",\"35000000000\",\"54256119\",\"10500000000\",\"190000000\",\"208000000\",\"160000000\",\"9000000\",\"16504333\",\"159918400\",\"10008835635\",\"300000000\",\"60168145\",\"120000\",\"8634140\",\"250000000\",\"5200000000\",\"840000000\",\"252460800\",\"990000000000\",\"21000000000\",\"64000000\",\"384000000000\",\"169795588\",\"247000000\",\"48166000\",\"21000000 \",\"13140000\",\"18000000\",\"16555000000\",\"13500000000\",\"299792458\",\"32000000\",\"11235813\",\"336000000\",\"1420609614\",\"70000000\",\"72245700\",\"90600000000\",\"265420800\",\"1350000\",\"15000000000\",\"337000000\",\"51200000\",\"888000000\",\"47011968\",\"250000\",\"23000000\",\"184467440735\",\"10000000000\",\"105120000\",\"1680000000\",\"166386000\",\"2628000\",\"3371337\",\"1840000000\",\"619478\",\"65789100\",\"53760000\",\"210240000\",\"16906397\",\"16000000\",\"81962100\",\"21626280000 \",\"168351300\",\"616448\",\"9736000\",\"10638298\",\"21400000\",\"26205539\",\"228000000\",\"2714286\",\"9999999\",\"100000000000\",\"185000000\",\"3360000\",\"17000000\",\"100000000 \",\"2232901\",\"4000000000\",\"35520400\",\"2500000000\",\"72000000\",\"340282367\",\"19276800\",\" 75000000\",\"18900000\",\"200000000000\",\"1100000000\",\"88888888\",\"1800000000\",\"156306732.71\",\"280000000\",\"31800000\",\"660000000\",\"85000000000\",\"550000000\",\"999481516\",\"4999999999\",\" 90000000000\",\"19800000\",\"20166000\",\"1618033\",\"1000000000000\",\"16600000\",\"18406979840\",\"6500000000\",\"18400000\",\"26280000\",\"600000518\",\"184000000000\",\"168000000\",\"22075700\",\"22105263\",\"1750000000\",\"88188888\",\"184470000000\",\"2100000000\",\"7600000000\",\"8080000000\",\"105120001.44\",\"25228800\",\"262800000\",\"30886000\",\"2100000\",\"98100000000\",\"7000000000\",\"182000000\",\"2800000\",\"24487944\",\"1400222610\"],\"tags\":[[[\"TotalCoinSupply\",\"TotalCoinSupply\",null]]]},\"id\":\"2964\",\"type\":\"FactorRange\"},{\"attributes\":{\"label\":{\"value\":\"1\"},\"renderers\":[{\"id\":\"3031\"}]},\"id\":\"3045\",\"type\":\"LegendItem\"},{\"attributes\":{\"margin\":[5,5,5,5],\"name\":\"HSpacer05575\",\"sizing_mode\":\"stretch_width\"},\"id\":\"3241\",\"type\":\"Spacer\"},{\"attributes\":{\"fill_alpha\":{\"value\":0.1},\"fill_color\":{\"value\":\"#e5ae38\"},\"hatch_alpha\":{\"value\":0.1},\"hatch_color\":{\"value\":\"#e5ae38\"},\"line_alpha\":{\"value\":0.1},\"line_color\":{\"value\":\"#e5ae38\"},\"size\":{\"value\":5.477225575051661},\"x\":{\"field\":\"TotalCoinsMined\"},\"y\":{\"field\":\"TotalCoinSupply\"}},\"id\":\"3051\",\"type\":\"Scatter\"},{\"attributes\":{},\"id\":\"3066\",\"type\":\"UnionRenderers\"},{\"attributes\":{\"axis\":{\"id\":\"2982\"},\"coordinates\":null,\"dimension\":1,\"grid_line_color\":null,\"group\":null,\"ticker\":null},\"id\":\"2984\",\"type\":\"Grid\"},{\"attributes\":{\"angle\":{\"value\":0.0},\"fill_alpha\":{\"value\":1.0},\"fill_color\":{\"value\":\"#6d904f\"},\"hatch_alpha\":{\"value\":1.0},\"hatch_color\":{\"value\":\"#6d904f\"},\"hatch_scale\":{\"value\":12.0},\"hatch_weight\":{\"value\":1.0},\"line_alpha\":{\"value\":1.0},\"line_cap\":{\"value\":\"butt\"},\"line_color\":{\"value\":\"#6d904f\"},\"line_dash\":{\"value\":[]},\"line_dash_offset\":{\"value\":0},\"line_join\":{\"value\":\"bevel\"},\"line_width\":{\"value\":1},\"marker\":{\"value\":\"circle\"},\"size\":{\"value\":5.477225575051661},\"x\":{\"field\":\"TotalCoinsMined\"},\"y\":{\"field\":\"TotalCoinSupply\"}},\"id\":\"3096\",\"type\":\"Scatter\"}],\"root_ids\":[\"2961\"]},\"title\":\"Bokeh Application\",\"version\":\"2.4.2\"}};\n",
       "    var render_items = [{\"docid\":\"1adae1ca-4df0-4519-9f99-100e1cb2dd13\",\"root_ids\":[\"2961\"],\"roots\":{\"2961\":\"06488103-0f55-49b2-baa2-dd982e54ac2f\"}}];\n",
       "    root.Bokeh.embed.embed_items_notebook(docs_json, render_items);\n",
       "  }\n",
       "  if (root.Bokeh !== undefined && root.Bokeh.Panel !== undefined) {\n",
       "    embed_document(root);\n",
       "  } else {\n",
       "    var attempts = 0;\n",
       "    var timer = setInterval(function(root) {\n",
       "      if (root.Bokeh !== undefined && root.Bokeh.Panel !== undefined) {\n",
       "        clearInterval(timer);\n",
       "        embed_document(root);\n",
       "      } else if (document.readyState == \"complete\") {\n",
       "        attempts++;\n",
       "        if (attempts > 200) {\n",
       "          clearInterval(timer);\n",
       "          console.log(\"Bokeh: ERROR: Unable to run BokehJS code because BokehJS library is missing\");\n",
       "        }\n",
       "      }\n",
       "    }, 25, root)\n",
       "  }\n",
       "})(window);</script>"
      ],
      "text/plain": [
       ":NdOverlay   [Class]\n",
       "   :Scatter   [TotalCoinsMined]   (TotalCoinSupply,CoinName)"
      ]
     },
     "execution_count": 254,
     "metadata": {
      "application/vnd.holoviews_exec.v0+json": {
       "id": "2961"
      }
     },
     "output_type": "execute_result"
    }
   ],
   "source": [
    "# Create a hvplot.scatter plot using x=\"TotalCoinsMined\" and y=\"TotalCoinSupply\".\n",
    "df_scaled.hvplot.scatter(\n",
    "    x=\"TotalCoinsMined\",\n",
    "    y=\"TotalCoinSupply\",\n",
    "    hover_cols=[\"CoinName\"],\n",
    "    by=\"Class\",\n",
    ")\n"
   ]
  },
  {
   "cell_type": "code",
   "execution_count": null,
   "metadata": {},
   "outputs": [],
   "source": []
  }
 ],
 "metadata": {
  "file_extension": ".py",
  "kernelspec": {
   "display_name": "PythonData",
   "language": "python",
   "name": "python3"
  },
  "language_info": {
   "codemirror_mode": {
    "name": "ipython",
    "version": 3
   },
   "file_extension": ".py",
   "mimetype": "text/x-python",
   "name": "python",
   "nbconvert_exporter": "python",
   "pygments_lexer": "ipython3",
   "version": "3.7.13"
  },
  "latex_envs": {
   "LaTeX_envs_menu_present": true,
   "autoclose": false,
   "autocomplete": true,
   "bibliofile": "biblio.bib",
   "cite_by": "apalike",
   "current_citInitial": 1,
   "eqLabelWithNumbers": true,
   "eqNumInitial": 1,
   "hotkeys": {
    "equation": "Ctrl-E",
    "itemize": "Ctrl-I"
   },
   "labels_anchors": false,
   "latex_user_defs": false,
   "report_style_numbering": false,
   "user_envs_cfg": false
  },
  "mimetype": "text/x-python",
  "name": "python",
  "npconvert_exporter": "python",
  "pygments_lexer": "ipython3",
  "version": 3,
  "vscode": {
   "interpreter": {
    "hash": "d3ed55dcdb4f23058d2a8be6b3f67f3cbbab950f4c85a827478bcb559749cb1e"
   }
  }
 },
 "nbformat": 4,
 "nbformat_minor": 2
}
